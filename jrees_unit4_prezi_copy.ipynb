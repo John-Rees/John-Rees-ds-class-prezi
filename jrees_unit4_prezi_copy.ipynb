{
 "cells": [
  {
   "cell_type": "markdown",
   "metadata": {},
   "source": [
    "## JRees Capstone Project: An Investigation of Topic Modeling Approaches for Historical FDA Court Case Texts  \n",
    "\n",
    "<a href=\"#proposal\">Part 1: Proposal</a>  \n",
    "<a href=\"#EDA\">Part 2: Exploratory Data Analysis and Data Preparation</a>  \n",
    "<a href=\"#LSA\">Part 3: Latent Semantic Analysis</a>  \n",
    "<a href=\"#LDA\">Part 4: Latent Dirichlet Allocation</a>  \n",
    "<a href=\"#conclusion\">Part 5: Conclusions</a>  "
   ]
  },
  {
   "cell_type": "markdown",
   "metadata": {},
   "source": [
    "<a name=\"proposal\">&nbsp;</a>\n",
    "## Part 1: Proposal\n",
    "\n",
    "This will be an unsupervised topic modeling problem. I will use Latent Semantic Analysis and Latent Dirichlet Allocation algorythms to create topic models from the the <a href=\"https://datadiscovery.nlm.nih.gov/dataset/FDA-Notices-of-Judgment-Collection-1908-1966-/cpdk-v8cd\">FDA Notices of Judgment</a> Drugs and Devices data set available from NLM's Data Discovery application. These data consist of metadata and uncorrected OCR of the published summaries for Federal court cases prosecuting adulterated and misbranded drugs and devices by the FDA under the 1908 Pure Food and Drugs Act (ammended) between 1940-1963.  \n",
    "\n",
    "**Goal: to surface additional topics and contexts not already identified by the Case Keywords or other metadata fields.**\n",
    "\n",
    "There are 7,030 court case records in the data set with the following features:\n",
    "   \n",
    "   - **nj.collection**. Collection Identifier. We will use just the ddnj (drugs and devices) and fdnj (foods and drugs) sets.\n",
    "   - **nj.identifier**. Seizure Case number\n",
    "   - **nj.casekeywords**. Keyword terms\n",
    "   - **nj.seizuredate**. Date(s) of the seizure(s)\n",
    "   - **nj.adjudicatingcourtjurisdiction**. Federal Court where seizure case was tried\n",
    "   - **nj.shippedfromcitystate**. Location from where the products were shipped\n",
    "   - **nj.shippedintocitystate**. Location to where the products were shipped\n",
    "   - **nj.seizurelocation**. Location where the FDA seized the products\n",
    "   - **ocr.fulltext**. Full text OCR of the entire seizure case text\n",
    "    \n",
    "### DDNJ sample headers/rows (CSV)\t\n",
    "nj.identifier nj.caseissuedate nj.defendantnames nj.casekeywords nj.seizuredate nj.seizurelocation nj.shippedfromcitystate \t\n",
    "nj.shippedintocitystate nj.adjudicatingcourtjurisdiction nj.njnumber nj.numbers nj.RightsStatement nj.RightsLink id nj.collection ocr.fulltext\n",
    "\n",
    "ddnj00001  \n",
    "May 1940  \n",
    "B. C. Remedy Co.  \n",
    "B. C. Headache Powders  \n",
    "November 30, 1938  \n",
    "Atlanta, Ga.  \n",
    "Durham, N. C.  \n",
    "Atlanta, Ga.  \n",
    "Northern District of Georgia  \n",
    "1  \n",
    "F. D. C. No. 111. Sample No. 25097-D.  \n",
    "The National Library of Medicine believes this item to be in the public domain\n",
    "https://creativecommons.org/publicdomain/mark/1.0/  \n",
    "ddnj00001  \n",
    "ddnj\n",
    "|1. Misbranding of B. C. Headache Powders, V. S. v. 46 Dozen Packages of|D. C. Default decree of condemnation and destruction. (F. D. C. No. 111.|Sample No. 25097-D.)|These powders consisted essentially of acetanilid, aspirin, caffeine, and|potassium bromide. They would be dangerous to health when used in the dosage|or with the frequency or duration prescribed, recommended, or suggested in|the labeling, which directed a dosage of one powder which might be repeated|once or twice at intervals of 3 or 4 hours if indicated. Its labeling failed to|reveal facts material with respect to the consequences which might result from|the use of the article under the conditions of use prescribed in the labeling|and failed to bear warnings against use in pathological conditions where its|use might be dangerous to health or against unsafe dosage or duration of|administration.|On or about January 4, 1939, the United States attorney for the Northern|District of Georgia filed a libel against 46 dozen packages of B. C. Headache|Powders at Atlanta, Ga.; alleging that the article had been shipped in inter-|state commerce on or about November 30, 1938, by B. C. Remedy Co. from|Durham, N. 0,; and charging that it was misbranded for the reasons appearing|above.|1 Notices of Judgment under the Federal Food, Drug, and Cosmetic Act are published|in three series: Foods (F. N. J.) ; Drugs and Devices (D. D. N. J.) ; and Cosmetics|(C. N. J.).|220127*-40 1 |IRECE i '?/ ED J?Hr MAY 2 81940 * ||it be permitted to withdraw its claim and answer, such petition having been|granted, and no answer or defense being before the court at that time, judgment|of condemnation was entered and the product was ordered destroyed.|  "
   ]
  },
  {
   "cell_type": "markdown",
   "metadata": {},
   "source": [
    "<a name=\"EDA\">&nbsp;</a>\n",
    "## Part 2: Exploratory Data Analysis and Data Preparation"
   ]
  },
  {
   "cell_type": "markdown",
   "metadata": {},
   "source": [
    "## Import packages  \n",
    "\n",
    "We will be using standard pandas and numpy packages, plus othe natual language processing vectorization, modeling, and visualization packages such as Yellowbrick, spaCY, nltk, pyLDAvis, Wordcloud, and gensim."
   ]
  },
  {
   "cell_type": "code",
   "execution_count": 1,
   "metadata": {
    "scrolled": true
   },
   "outputs": [
    {
     "name": "stderr",
     "output_type": "stream",
     "text": [
      "[nltk_data] Downloading package wordnet to\n",
      "[nltk_data]     C:\\Users\\reesj\\AppData\\Roaming\\nltk_data...\n",
      "[nltk_data]   Package wordnet is already up-to-date!\n",
      "[nltk_data] Downloading package stopwords to\n",
      "[nltk_data]     C:\\Users\\reesj\\AppData\\Roaming\\nltk_data...\n",
      "[nltk_data]   Package stopwords is already up-to-date!\n",
      "[nltk_data] Downloading package punkt to\n",
      "[nltk_data]     C:\\Users\\reesj\\AppData\\Roaming\\nltk_data...\n",
      "[nltk_data]   Package punkt is already up-to-date!\n",
      "C:\\Program Files\\Anaconda\\lib\\site-packages\\scipy\\sparse\\sparsetools.py:21: DeprecationWarning: `scipy.sparse.sparsetools` is deprecated!\n",
      "scipy.sparse.sparsetools is a private module for scipy.sparse, and should not be used.\n",
      "  _deprecated()\n"
     ]
    }
   ],
   "source": [
    "import pandas as pd\n",
    "import numpy as np\n",
    "\n",
    "import re\n",
    "import random\n",
    "import warnings\n",
    "warnings.simplefilter('ignore')\n",
    "\n",
    "from sklearn.feature_extraction.text import TfidfVectorizer\n",
    "from sklearn.decomposition import TruncatedSVD\n",
    "from sklearn.pipeline import Pipeline\n",
    "\n",
    "\n",
    "import yellowbrick\n",
    "from yellowbrick.text import FreqDistVisualizer\n",
    "\n",
    "import spacy\n",
    "from spacy import displacy\n",
    "from spacy.util import minibatch, compounding\n",
    "from spacy.tokens import Doc\n",
    "\n",
    "import nltk\n",
    "from nltk.corpus import stopwords\n",
    "from nltk.stem.wordnet import WordNetLemmatizer\n",
    "from nltk.stem.porter import PorterStemmer\n",
    "nltk.download('wordnet')\n",
    "nltk.download('stopwords')\n",
    "nltk.download('punkt')\n",
    "\n",
    "\n",
    "import pyLDAvis.sklearn\n",
    "from collections import Counter\n",
    "from textblob import TextBlob\n",
    "from nltk.tokenize import word_tokenize\n",
    "from nltk.probability import FreqDist\n",
    "from sklearn.feature_extraction.text import CountVectorizer\n",
    "from sklearn.feature_extraction.text import TfidfVectorizer\n",
    "from sklearn.decomposition import LatentDirichletAllocation, NMF\n",
    "from wordcloud import WordCloud, ImageColorGenerator, STOPWORDS\n",
    "\n",
    "\n",
    "pd.options.mode.chained_assignment = None\n",
    "pd.set_option('display.max_colwidth', 100)\n",
    "\n",
    "from gensim import matutils, corpora\n",
    "from gensim.models import Word2Vec\n",
    "from gensim.corpora import MmCorpus, dictionary\n",
    "from gensim.models.ldamodel import LdaModel\n",
    "from gensim.models import CoherenceModel\n",
    "\n",
    "import pyLDAvis.gensim\n",
    "\n",
    "import matplotlib.pyplot as plt\n",
    "pd.options.display.float_format = '{:,.10f}'.format\n",
    "plt.rcParams.update({'font.size': 32})\n",
    "%matplotlib inline\n",
    "\n"
   ]
  },
  {
   "cell_type": "markdown",
   "metadata": {},
   "source": [
    "## Load the drugs and devices data as a dataframe"
   ]
  },
  {
   "cell_type": "code",
   "execution_count": 2,
   "metadata": {},
   "outputs": [],
   "source": [
    "path = './data/ddnj.csv'\n",
    "\n",
    "ddnj = pd.read_csv(path)"
   ]
  },
  {
   "cell_type": "code",
   "execution_count": 3,
   "metadata": {},
   "outputs": [],
   "source": [
    "warnings.simplefilter('ignore')"
   ]
  },
  {
   "cell_type": "markdown",
   "metadata": {},
   "source": [
    "## Perform some basic inspections"
   ]
  },
  {
   "cell_type": "code",
   "execution_count": 4,
   "metadata": {
    "scrolled": false
   },
   "outputs": [
    {
     "data": {
      "text/html": [
       "<div>\n",
       "<style scoped>\n",
       "    .dataframe tbody tr th:only-of-type {\n",
       "        vertical-align: middle;\n",
       "    }\n",
       "\n",
       "    .dataframe tbody tr th {\n",
       "        vertical-align: top;\n",
       "    }\n",
       "\n",
       "    .dataframe thead th {\n",
       "        text-align: right;\n",
       "    }\n",
       "</style>\n",
       "<table border=\"1\" class=\"dataframe\">\n",
       "  <thead>\n",
       "    <tr style=\"text-align: right;\">\n",
       "      <th></th>\n",
       "      <th>nj.title</th>\n",
       "      <th>nj.identifier</th>\n",
       "      <th>nj.caseissuedate</th>\n",
       "      <th>nj.defendantnames</th>\n",
       "      <th>nj.casekeywords</th>\n",
       "      <th>nj.seizuredate</th>\n",
       "      <th>nj.seizurelocation</th>\n",
       "      <th>nj.shippedfromcitystate</th>\n",
       "      <th>nj.shippedintocitystate</th>\n",
       "      <th>nj.adjudicatingcourtjurisdiction</th>\n",
       "      <th>nj.njnumber</th>\n",
       "      <th>nj.numbers</th>\n",
       "      <th>nj.RightsStatement</th>\n",
       "      <th>nj.RightsLink</th>\n",
       "      <th>id</th>\n",
       "      <th>nj.collection</th>\n",
       "      <th>ocr.fulltext</th>\n",
       "    </tr>\n",
       "  </thead>\n",
       "  <tbody>\n",
       "    <tr>\n",
       "      <th>0</th>\n",
       "      <td>1. Misbranding of B. C. Headache Powders, U. S. v. 46 Dozen Packages of B. C. Default decree of ...</td>\n",
       "      <td>ddnj00001</td>\n",
       "      <td>May 1940</td>\n",
       "      <td>B. C. Remedy Co.</td>\n",
       "      <td>B. C. Headache Powders</td>\n",
       "      <td>November 30, 1938</td>\n",
       "      <td>Atlanta, Ga.</td>\n",
       "      <td>Durham, N. C.</td>\n",
       "      <td>Atlanta, Ga.</td>\n",
       "      <td>Northern District of Georgia</td>\n",
       "      <td>1</td>\n",
       "      <td>F. D. C. No. 111. Sample No. 25097-D.</td>\n",
       "      <td>The National Library of Medicine believes this item to be in the public domain</td>\n",
       "      <td>https://creativecommons.org/publicdomain/mark/1.0/</td>\n",
       "      <td>ddnj00001</td>\n",
       "      <td>ddnj</td>\n",
       "      <td>|1. Misbranding of B. C. Headache Powders, V. S. v. 46 Dozen Packages of|D. C. Default decree of...</td>\n",
       "    </tr>\n",
       "    <tr>\n",
       "      <th>1</th>\n",
       "      <td>2. Misbranding of Stanback Headache Powders. U. S. v. 309 Dozen Packages of Stanback Headache Po...</td>\n",
       "      <td>ddnj00002</td>\n",
       "      <td>May 1940</td>\n",
       "      <td>Stanback Co. from Salisbury, N. C.</td>\n",
       "      <td>Stanback Headache Powders</td>\n",
       "      <td>March 23, 1939</td>\n",
       "      <td>Atlanta, Ga.</td>\n",
       "      <td>Salisbury, N. C.</td>\n",
       "      <td>Atlanta, Ga.</td>\n",
       "      <td>Northern District of Georgia</td>\n",
       "      <td>2</td>\n",
       "      <td>F. D. C. No. 207. Sample Nos. 44801-D, 44863-D.</td>\n",
       "      <td>The National Library of Medicine believes this item to be in the public domain</td>\n",
       "      <td>https://creativecommons.org/publicdomain/mark/1.0/</td>\n",
       "      <td>ddnj00002</td>\n",
       "      <td>ddnj</td>\n",
       "      <td>|2. Misbranding of Stanback Headache Powders. U. S. v. 309 Dozen Packages|of Stamback Headache P...</td>\n",
       "    </tr>\n",
       "    <tr>\n",
       "      <th>2</th>\n",
       "      <td>3. Misbranding of Goody's Headache Powder. U. S. v. 1,524 Envelopes of Goody's Headache Powder. ...</td>\n",
       "      <td>ddnj00003</td>\n",
       "      <td>May 1940</td>\n",
       "      <td>Goody's, Inc.</td>\n",
       "      <td>Goody's Headache Powder</td>\n",
       "      <td>March 1, 1939</td>\n",
       "      <td>Columbia, S. C.</td>\n",
       "      <td>Winston-Salem, N. C.</td>\n",
       "      <td>Columbia, S. C.</td>\n",
       "      <td>Eastern District of South Carolina</td>\n",
       "      <td>3</td>\n",
       "      <td>F. D. C. No. 211. Sample No. 45525-D.</td>\n",
       "      <td>The National Library of Medicine believes this item to be in the public domain</td>\n",
       "      <td>https://creativecommons.org/publicdomain/mark/1.0/</td>\n",
       "      <td>ddnj00003</td>\n",
       "      <td>ddnj</td>\n",
       "      <td>|3. Misbranding   of   Goody's   Headache   Powder.     TJ.   S.   v.   1,524   Envelopes   of|G...</td>\n",
       "    </tr>\n",
       "    <tr>\n",
       "      <th>3</th>\n",
       "      <td>4. Misbranding of B-B Headache Powders. U. S. v. 596 Envelopes of B-B. Default decree of condemn...</td>\n",
       "      <td>ddnj00004</td>\n",
       "      <td>May 1940</td>\n",
       "      <td>Specialty Sales Co. from Atlanta Ga.</td>\n",
       "      <td>B-B Headache Powders</td>\n",
       "      <td>June 6, 1939</td>\n",
       "      <td>Columbia, S. C.</td>\n",
       "      <td>Atlanta, Ga.</td>\n",
       "      <td>Columbia, S. C.</td>\n",
       "      <td>Eastern District of South Carolina</td>\n",
       "      <td>4</td>\n",
       "      <td>F. D. C. No. 215. Sample - No. 45524-D.</td>\n",
       "      <td>The National Library of Medicine believes this item to be in the public domain</td>\n",
       "      <td>https://creativecommons.org/publicdomain/mark/1.0/</td>\n",
       "      <td>ddnj00004</td>\n",
       "      <td>ddnj</td>\n",
       "      <td>|4. Misbranding  of  B-B  Headache  Powders.    II.   S.  v.  596 Envelopes  of B-B. (|Default d...</td>\n",
       "    </tr>\n",
       "    <tr>\n",
       "      <th>4</th>\n",
       "      <td>5. Misbranding of Hed-Lyte. U. S. v. 93 Bottles of Hed-Lyte. Default decree of condemnation and ...</td>\n",
       "      <td>ddnj00005</td>\n",
       "      <td>May 1940</td>\n",
       "      <td>Hed-Lyte Co.</td>\n",
       "      <td>Hed-Lyte</td>\n",
       "      <td>March 6, 1939</td>\n",
       "      <td>Shreveport, La.</td>\n",
       "      <td>Dallas, Tex.</td>\n",
       "      <td>Shreveport, La.</td>\n",
       "      <td>Western District of Louisiana</td>\n",
       "      <td>5</td>\n",
       "      <td>F. D. C. No. 225. Sample No. 38055-D.</td>\n",
       "      <td>The National Library of Medicine believes this item to be in the public domain</td>\n",
       "      <td>https://creativecommons.org/publicdomain/mark/1.0/</td>\n",
       "      <td>ddnj00005</td>\n",
       "      <td>ddnj</td>\n",
       "      <td>|5. Misbranding of Hed-Lyte.     U. S. v. 93 Bottles of Hed-Lyte.    Default decree|of condemnat...</td>\n",
       "    </tr>\n",
       "  </tbody>\n",
       "</table>\n",
       "</div>"
      ],
      "text/plain": [
       "                                                                                              nj.title  \\\n",
       "0  1. Misbranding of B. C. Headache Powders, U. S. v. 46 Dozen Packages of B. C. Default decree of ...   \n",
       "1  2. Misbranding of Stanback Headache Powders. U. S. v. 309 Dozen Packages of Stanback Headache Po...   \n",
       "2  3. Misbranding of Goody's Headache Powder. U. S. v. 1,524 Envelopes of Goody's Headache Powder. ...   \n",
       "3  4. Misbranding of B-B Headache Powders. U. S. v. 596 Envelopes of B-B. Default decree of condemn...   \n",
       "4  5. Misbranding of Hed-Lyte. U. S. v. 93 Bottles of Hed-Lyte. Default decree of condemnation and ...   \n",
       "\n",
       "  nj.identifier nj.caseissuedate                     nj.defendantnames  \\\n",
       "0     ddnj00001         May 1940                      B. C. Remedy Co.   \n",
       "1     ddnj00002         May 1940    Stanback Co. from Salisbury, N. C.   \n",
       "2     ddnj00003         May 1940                         Goody's, Inc.   \n",
       "3     ddnj00004         May 1940  Specialty Sales Co. from Atlanta Ga.   \n",
       "4     ddnj00005         May 1940                          Hed-Lyte Co.   \n",
       "\n",
       "             nj.casekeywords     nj.seizuredate nj.seizurelocation  \\\n",
       "0     B. C. Headache Powders  November 30, 1938       Atlanta, Ga.   \n",
       "1  Stanback Headache Powders     March 23, 1939       Atlanta, Ga.   \n",
       "2    Goody's Headache Powder      March 1, 1939    Columbia, S. C.   \n",
       "3       B-B Headache Powders       June 6, 1939    Columbia, S. C.   \n",
       "4                   Hed-Lyte      March 6, 1939    Shreveport, La.   \n",
       "\n",
       "  nj.shippedfromcitystate nj.shippedintocitystate  \\\n",
       "0           Durham, N. C.            Atlanta, Ga.   \n",
       "1        Salisbury, N. C.            Atlanta, Ga.   \n",
       "2    Winston-Salem, N. C.         Columbia, S. C.   \n",
       "3            Atlanta, Ga.         Columbia, S. C.   \n",
       "4            Dallas, Tex.         Shreveport, La.   \n",
       "\n",
       "     nj.adjudicatingcourtjurisdiction nj.njnumber  \\\n",
       "0        Northern District of Georgia           1   \n",
       "1        Northern District of Georgia           2   \n",
       "2  Eastern District of South Carolina           3   \n",
       "3  Eastern District of South Carolina           4   \n",
       "4       Western District of Louisiana           5   \n",
       "\n",
       "                                        nj.numbers  \\\n",
       "0            F. D. C. No. 111. Sample No. 25097-D.   \n",
       "1  F. D. C. No. 207. Sample Nos. 44801-D, 44863-D.   \n",
       "2            F. D. C. No. 211. Sample No. 45525-D.   \n",
       "3          F. D. C. No. 215. Sample - No. 45524-D.   \n",
       "4            F. D. C. No. 225. Sample No. 38055-D.   \n",
       "\n",
       "                                                               nj.RightsStatement  \\\n",
       "0  The National Library of Medicine believes this item to be in the public domain   \n",
       "1  The National Library of Medicine believes this item to be in the public domain   \n",
       "2  The National Library of Medicine believes this item to be in the public domain   \n",
       "3  The National Library of Medicine believes this item to be in the public domain   \n",
       "4  The National Library of Medicine believes this item to be in the public domain   \n",
       "\n",
       "                                        nj.RightsLink         id  \\\n",
       "0  https://creativecommons.org/publicdomain/mark/1.0/  ddnj00001   \n",
       "1  https://creativecommons.org/publicdomain/mark/1.0/  ddnj00002   \n",
       "2  https://creativecommons.org/publicdomain/mark/1.0/  ddnj00003   \n",
       "3  https://creativecommons.org/publicdomain/mark/1.0/  ddnj00004   \n",
       "4  https://creativecommons.org/publicdomain/mark/1.0/  ddnj00005   \n",
       "\n",
       "  nj.collection  \\\n",
       "0          ddnj   \n",
       "1          ddnj   \n",
       "2          ddnj   \n",
       "3          ddnj   \n",
       "4          ddnj   \n",
       "\n",
       "                                                                                          ocr.fulltext  \n",
       "0  |1. Misbranding of B. C. Headache Powders, V. S. v. 46 Dozen Packages of|D. C. Default decree of...  \n",
       "1  |2. Misbranding of Stanback Headache Powders. U. S. v. 309 Dozen Packages|of Stamback Headache P...  \n",
       "2  |3. Misbranding   of   Goody's   Headache   Powder.     TJ.   S.   v.   1,524   Envelopes   of|G...  \n",
       "3  |4. Misbranding  of  B-B  Headache  Powders.    II.   S.  v.  596 Envelopes  of B-B. (|Default d...  \n",
       "4  |5. Misbranding of Hed-Lyte.     U. S. v. 93 Bottles of Hed-Lyte.    Default decree|of condemnat...  "
      ]
     },
     "execution_count": 4,
     "metadata": {},
     "output_type": "execute_result"
    }
   ],
   "source": [
    "ddnj.head()"
   ]
  },
  {
   "cell_type": "code",
   "execution_count": 5,
   "metadata": {
    "scrolled": false
   },
   "outputs": [
    {
     "name": "stdout",
     "output_type": "stream",
     "text": [
      "<class 'pandas.core.frame.DataFrame'>\n",
      "RangeIndex: 7030 entries, 0 to 7029\n",
      "Data columns (total 17 columns):\n",
      "nj.title                            7030 non-null object\n",
      "nj.identifier                       7030 non-null object\n",
      "nj.caseissuedate                    7030 non-null object\n",
      "nj.defendantnames                   7030 non-null object\n",
      "nj.casekeywords                     7030 non-null object\n",
      "nj.seizuredate                      7029 non-null object\n",
      "nj.seizurelocation                  7030 non-null object\n",
      "nj.shippedfromcitystate             7030 non-null object\n",
      "nj.shippedintocitystate             7030 non-null object\n",
      "nj.adjudicatingcourtjurisdiction    7030 non-null object\n",
      "nj.njnumber                         7030 non-null object\n",
      "nj.numbers                          7030 non-null object\n",
      "nj.RightsStatement                  7030 non-null object\n",
      "nj.RightsLink                       7030 non-null object\n",
      "id                                  7030 non-null object\n",
      "nj.collection                       7030 non-null object\n",
      "ocr.fulltext                        7030 non-null object\n",
      "dtypes: object(17)\n",
      "memory usage: 933.8+ KB\n"
     ]
    }
   ],
   "source": [
    "ddnj.info()"
   ]
  },
  {
   "cell_type": "markdown",
   "metadata": {},
   "source": [
    "## Seisuredate has one empty value we will need to handle"
   ]
  },
  {
   "cell_type": "markdown",
   "metadata": {},
   "source": [
    "## Remove ```nj.``` from all the column names as this will cause problems calling the header names later on"
   ]
  },
  {
   "cell_type": "code",
   "execution_count": 5,
   "metadata": {
    "scrolled": false
   },
   "outputs": [],
   "source": [
    "#remove nj. from all the column names\n",
    "ddnj.rename(columns={'nj.title':'title', 'nj.identifier':'identifier', 'nj.caseissuedate':'caseissuedate', \n",
    "                     'nj.defendantnames':'defendants', 'nj.casekeywords':'keywords', 'nj.seizuredate':'seizuredate',\n",
    "                     'nj.seizurelocation':'seizurelocation', 'nj.shippedfromcitystate':'shippedfrom', 'nj.shippedintocitystate':'shippedinto',\n",
    "                     'nj.njnumber':'njnumber', 'nj.numbers':'numbers', 'nj.RightsStatement':'rights', 'nj.RightsLink':'link',\n",
    "                     'nj.adjudicatingcourtjurisdiction':'courtname', \n",
    "                     'nj.collection':'collection', 'ocr.fulltext':'ocr'}, inplace=True)\n"
   ]
  },
  {
   "cell_type": "code",
   "execution_count": 6,
   "metadata": {
    "scrolled": false
   },
   "outputs": [
    {
     "data": {
      "text/html": [
       "<div>\n",
       "<style scoped>\n",
       "    .dataframe tbody tr th:only-of-type {\n",
       "        vertical-align: middle;\n",
       "    }\n",
       "\n",
       "    .dataframe tbody tr th {\n",
       "        vertical-align: top;\n",
       "    }\n",
       "\n",
       "    .dataframe thead th {\n",
       "        text-align: right;\n",
       "    }\n",
       "</style>\n",
       "<table border=\"1\" class=\"dataframe\">\n",
       "  <thead>\n",
       "    <tr style=\"text-align: right;\">\n",
       "      <th></th>\n",
       "      <th>title</th>\n",
       "      <th>identifier</th>\n",
       "      <th>caseissuedate</th>\n",
       "      <th>defendants</th>\n",
       "      <th>keywords</th>\n",
       "      <th>seizuredate</th>\n",
       "      <th>seizurelocation</th>\n",
       "      <th>shippedfrom</th>\n",
       "      <th>shippedinto</th>\n",
       "      <th>courtname</th>\n",
       "      <th>njnumber</th>\n",
       "      <th>numbers</th>\n",
       "      <th>rights</th>\n",
       "      <th>link</th>\n",
       "      <th>id</th>\n",
       "      <th>collection</th>\n",
       "      <th>ocr</th>\n",
       "    </tr>\n",
       "  </thead>\n",
       "  <tbody>\n",
       "    <tr>\n",
       "      <th>0</th>\n",
       "      <td>1. Misbranding of B. C. Headache Powders, U. S. v. 46 Dozen Packages of B. C. Default decree of ...</td>\n",
       "      <td>ddnj00001</td>\n",
       "      <td>May 1940</td>\n",
       "      <td>B. C. Remedy Co.</td>\n",
       "      <td>B. C. Headache Powders</td>\n",
       "      <td>November 30, 1938</td>\n",
       "      <td>Atlanta, Ga.</td>\n",
       "      <td>Durham, N. C.</td>\n",
       "      <td>Atlanta, Ga.</td>\n",
       "      <td>Northern District of Georgia</td>\n",
       "      <td>1</td>\n",
       "      <td>F. D. C. No. 111. Sample No. 25097-D.</td>\n",
       "      <td>The National Library of Medicine believes this item to be in the public domain</td>\n",
       "      <td>https://creativecommons.org/publicdomain/mark/1.0/</td>\n",
       "      <td>ddnj00001</td>\n",
       "      <td>ddnj</td>\n",
       "      <td>|1. Misbranding of B. C. Headache Powders, V. S. v. 46 Dozen Packages of|D. C. Default decree of...</td>\n",
       "    </tr>\n",
       "  </tbody>\n",
       "</table>\n",
       "</div>"
      ],
      "text/plain": [
       "                                                                                                 title  \\\n",
       "0  1. Misbranding of B. C. Headache Powders, U. S. v. 46 Dozen Packages of B. C. Default decree of ...   \n",
       "\n",
       "  identifier caseissuedate        defendants                keywords  \\\n",
       "0  ddnj00001      May 1940  B. C. Remedy Co.  B. C. Headache Powders   \n",
       "\n",
       "         seizuredate seizurelocation    shippedfrom   shippedinto  \\\n",
       "0  November 30, 1938    Atlanta, Ga.  Durham, N. C.  Atlanta, Ga.   \n",
       "\n",
       "                      courtname njnumber  \\\n",
       "0  Northern District of Georgia        1   \n",
       "\n",
       "                                 numbers  \\\n",
       "0  F. D. C. No. 111. Sample No. 25097-D.   \n",
       "\n",
       "                                                                           rights  \\\n",
       "0  The National Library of Medicine believes this item to be in the public domain   \n",
       "\n",
       "                                                 link         id collection  \\\n",
       "0  https://creativecommons.org/publicdomain/mark/1.0/  ddnj00001       ddnj   \n",
       "\n",
       "                                                                                                   ocr  \n",
       "0  |1. Misbranding of B. C. Headache Powders, V. S. v. 46 Dozen Packages of|D. C. Default decree of...  "
      ]
     },
     "execution_count": 6,
     "metadata": {},
     "output_type": "execute_result"
    }
   ],
   "source": [
    "ddnj.head(1)"
   ]
  },
  {
   "cell_type": "code",
   "execution_count": 51,
   "metadata": {
    "scrolled": false
   },
   "outputs": [
    {
     "data": {
      "text/html": [
       "<div>\n",
       "<style scoped>\n",
       "    .dataframe tbody tr th:only-of-type {\n",
       "        vertical-align: middle;\n",
       "    }\n",
       "\n",
       "    .dataframe tbody tr th {\n",
       "        vertical-align: top;\n",
       "    }\n",
       "\n",
       "    .dataframe thead th {\n",
       "        text-align: right;\n",
       "    }\n",
       "</style>\n",
       "<table border=\"1\" class=\"dataframe\">\n",
       "  <thead>\n",
       "    <tr style=\"text-align: right;\">\n",
       "      <th></th>\n",
       "      <th>title</th>\n",
       "      <th>identifier</th>\n",
       "      <th>caseissuedate</th>\n",
       "      <th>defendants</th>\n",
       "      <th>keywords</th>\n",
       "      <th>seizuredate</th>\n",
       "      <th>seizurelocation</th>\n",
       "      <th>shippedfrom</th>\n",
       "      <th>shippedinto</th>\n",
       "      <th>courtname</th>\n",
       "      <th>njnumber</th>\n",
       "      <th>numbers</th>\n",
       "      <th>rights</th>\n",
       "      <th>link</th>\n",
       "      <th>id</th>\n",
       "      <th>collection</th>\n",
       "      <th>ocr</th>\n",
       "    </tr>\n",
       "  </thead>\n",
       "  <tbody>\n",
       "    <tr>\n",
       "      <th>count</th>\n",
       "      <td>7030</td>\n",
       "      <td>7030</td>\n",
       "      <td>7030</td>\n",
       "      <td>7030</td>\n",
       "      <td>7030</td>\n",
       "      <td>7029</td>\n",
       "      <td>7030</td>\n",
       "      <td>7030</td>\n",
       "      <td>7030</td>\n",
       "      <td>7030</td>\n",
       "      <td>7030</td>\n",
       "      <td>7030</td>\n",
       "      <td>7030</td>\n",
       "      <td>7030</td>\n",
       "      <td>7030</td>\n",
       "      <td>7030</td>\n",
       "      <td>7030</td>\n",
       "    </tr>\n",
       "    <tr>\n",
       "      <th>unique</th>\n",
       "      <td>7030</td>\n",
       "      <td>7030</td>\n",
       "      <td>165</td>\n",
       "      <td>5838</td>\n",
       "      <td>5068</td>\n",
       "      <td>5994</td>\n",
       "      <td>1870</td>\n",
       "      <td>1765</td>\n",
       "      <td>2130</td>\n",
       "      <td>669</td>\n",
       "      <td>7030</td>\n",
       "      <td>7010</td>\n",
       "      <td>1</td>\n",
       "      <td>1</td>\n",
       "      <td>7030</td>\n",
       "      <td>1</td>\n",
       "      <td>7030</td>\n",
       "    </tr>\n",
       "    <tr>\n",
       "      <th>top</th>\n",
       "      <td>1880. Misbranding of Bonaid Tablets. U. S. v. 139 Bottles and 22 Bottles of Bonaid Tablets. Defa...</td>\n",
       "      <td>ddnj04117</td>\n",
       "      <td>June 1945</td>\n",
       "      <td>\\N</td>\n",
       "      <td>prophylactics</td>\n",
       "      <td>\\N</td>\n",
       "      <td>Chicago, Ill.</td>\n",
       "      <td>New York, N. Y.</td>\n",
       "      <td>Chicago, Ill.</td>\n",
       "      <td>Northern District of Illinois</td>\n",
       "      <td>4494</td>\n",
       "      <td>\\N</td>\n",
       "      <td>The National Library of Medicine believes this item to be in the public domain</td>\n",
       "      <td>https://creativecommons.org/publicdomain/mark/1.0/</td>\n",
       "      <td>ddnj04117</td>\n",
       "      <td>ddnj</td>\n",
       "      <td>|4351. Adulteration of oxygen. U. S. v. John Suydam (Newburgh Oxygen Co.),|and George H. Gordon....</td>\n",
       "    </tr>\n",
       "    <tr>\n",
       "      <th>freq</th>\n",
       "      <td>1</td>\n",
       "      <td>1</td>\n",
       "      <td>150</td>\n",
       "      <td>287</td>\n",
       "      <td>182</td>\n",
       "      <td>213</td>\n",
       "      <td>228</td>\n",
       "      <td>438</td>\n",
       "      <td>224</td>\n",
       "      <td>134</td>\n",
       "      <td>1</td>\n",
       "      <td>5</td>\n",
       "      <td>7030</td>\n",
       "      <td>7030</td>\n",
       "      <td>1</td>\n",
       "      <td>7030</td>\n",
       "      <td>1</td>\n",
       "    </tr>\n",
       "  </tbody>\n",
       "</table>\n",
       "</div>"
      ],
      "text/plain": [
       "                                                                                                      title  \\\n",
       "count                                                                                                  7030   \n",
       "unique                                                                                                 7030   \n",
       "top     1880. Misbranding of Bonaid Tablets. U. S. v. 139 Bottles and 22 Bottles of Bonaid Tablets. Defa...   \n",
       "freq                                                                                                      1   \n",
       "\n",
       "       identifier caseissuedate defendants       keywords seizuredate  \\\n",
       "count        7030          7030       7030           7030        7029   \n",
       "unique       7030           165       5838           5068        5994   \n",
       "top     ddnj04117     June 1945         \\N  prophylactics          \\N   \n",
       "freq            1           150        287            182         213   \n",
       "\n",
       "       seizurelocation      shippedfrom    shippedinto  \\\n",
       "count             7030             7030           7030   \n",
       "unique            1870             1765           2130   \n",
       "top      Chicago, Ill.  New York, N. Y.  Chicago, Ill.   \n",
       "freq               228              438            224   \n",
       "\n",
       "                            courtname njnumber numbers  \\\n",
       "count                            7030     7030    7030   \n",
       "unique                            669     7030    7010   \n",
       "top     Northern District of Illinois     4494      \\N   \n",
       "freq                              134        1       5   \n",
       "\n",
       "                                                                                rights  \\\n",
       "count                                                                             7030   \n",
       "unique                                                                               1   \n",
       "top     The National Library of Medicine believes this item to be in the public domain   \n",
       "freq                                                                              7030   \n",
       "\n",
       "                                                      link         id  \\\n",
       "count                                                 7030       7030   \n",
       "unique                                                   1       7030   \n",
       "top     https://creativecommons.org/publicdomain/mark/1.0/  ddnj04117   \n",
       "freq                                                  7030          1   \n",
       "\n",
       "       collection  \\\n",
       "count        7030   \n",
       "unique          1   \n",
       "top          ddnj   \n",
       "freq         7030   \n",
       "\n",
       "                                                                                                        ocr  \n",
       "count                                                                                                  7030  \n",
       "unique                                                                                                 7030  \n",
       "top     |4351. Adulteration of oxygen. U. S. v. John Suydam (Newburgh Oxygen Co.),|and George H. Gordon....  \n",
       "freq                                                                                                      1  "
      ]
     },
     "execution_count": 51,
     "metadata": {},
     "output_type": "execute_result"
    }
   ],
   "source": [
    "ddnj.describe()"
   ]
  },
  {
   "cell_type": "markdown",
   "metadata": {},
   "source": [
    "**We also need to replace ```\\N``` and ```|``` values**"
   ]
  },
  {
   "cell_type": "markdown",
   "metadata": {},
   "source": [
    "## Perform some initial data cleanup:\n",
    "- Impute undated for \\N in date field\n",
    "- Replace some widely occuring terms that will probably bias our topic modeling later, instead of adding them as stop words\n",
    "- Replace pipes with a ```space```; have to escape them first"
   ]
  },
  {
   "cell_type": "code",
   "execution_count": 7,
   "metadata": {},
   "outputs": [],
   "source": [
    "# replace \\N newlines in seizuredate with 'undated'\n",
    "ddnj.seizuredate.replace(r'\\N', 'undated', inplace=True)"
   ]
  },
  {
   "cell_type": "code",
   "execution_count": 8,
   "metadata": {
    "scrolled": true
   },
   "outputs": [
    {
     "data": {
      "text/plain": [
       "title              0\n",
       "identifier         0\n",
       "caseissuedate      0\n",
       "defendants         0\n",
       "keywords           0\n",
       "seizuredate        1\n",
       "seizurelocation    0\n",
       "shippedfrom        0\n",
       "shippedinto        0\n",
       "courtname          0\n",
       "njnumber           0\n",
       "numbers            0\n",
       "rights             0\n",
       "link               0\n",
       "id                 0\n",
       "collection         0\n",
       "ocr                0\n",
       "dtype: int64"
      ]
     },
     "execution_count": 8,
     "metadata": {},
     "output_type": "execute_result"
    }
   ],
   "source": [
    "ddnj.isnull().sum()"
   ]
  },
  {
   "cell_type": "markdown",
   "metadata": {},
   "source": [
    "## Still have one pesky NaN to replace"
   ]
  },
  {
   "cell_type": "code",
   "execution_count": 9,
   "metadata": {
    "scrolled": true
   },
   "outputs": [],
   "source": [
    "ddnj['seizuredate'].fillna('undated', inplace=True)"
   ]
  },
  {
   "cell_type": "code",
   "execution_count": 10,
   "metadata": {},
   "outputs": [
    {
     "data": {
      "text/plain": [
       "title              0\n",
       "identifier         0\n",
       "caseissuedate      0\n",
       "defendants         0\n",
       "keywords           0\n",
       "seizuredate        0\n",
       "seizurelocation    0\n",
       "shippedfrom        0\n",
       "shippedinto        0\n",
       "courtname          0\n",
       "njnumber           0\n",
       "numbers            0\n",
       "rights             0\n",
       "link               0\n",
       "id                 0\n",
       "collection         0\n",
       "ocr                0\n",
       "dtype: int64"
      ]
     },
     "execution_count": 10,
     "metadata": {},
     "output_type": "execute_result"
    }
   ],
   "source": [
    "ddnj.isnull().sum()"
   ]
  },
  {
   "cell_type": "code",
   "execution_count": 11,
   "metadata": {
    "scrolled": false
   },
   "outputs": [],
   "source": [
    "# replace \\N newlines everywhere else with nothing\n",
    "ddnj.replace(r'\\N', '', inplace=True)"
   ]
  },
  {
   "cell_type": "code",
   "execution_count": 12,
   "metadata": {},
   "outputs": [],
   "source": [
    "ddnj.replace(r'Misbranding', '', regex=True, inplace=True)"
   ]
  },
  {
   "cell_type": "code",
   "execution_count": 13,
   "metadata": {},
   "outputs": [],
   "source": [
    "ddnj.replace(r'Adulteration', '', regex=True, inplace=True)"
   ]
  },
  {
   "cell_type": "code",
   "execution_count": 14,
   "metadata": {},
   "outputs": [],
   "source": [
    "ddnj.replace(r'misbranding', '', regex=True, inplace=True)"
   ]
  },
  {
   "cell_type": "code",
   "execution_count": 15,
   "metadata": {},
   "outputs": [],
   "source": [
    "ddnj.replace(r'adulteration', '', regex=True, inplace=True)"
   ]
  },
  {
   "cell_type": "code",
   "execution_count": 16,
   "metadata": {},
   "outputs": [],
   "source": [
    "ddnj.replace(r'Default decree of condemnation and destruction', '', regex=True, inplace=True)"
   ]
  },
  {
   "cell_type": "code",
   "execution_count": 17,
   "metadata": {},
   "outputs": [],
   "source": [
    "ddnj.replace(r'\\|', ' ', regex=True, inplace=True)"
   ]
  },
  {
   "cell_type": "code",
   "execution_count": 18,
   "metadata": {
    "scrolled": true
   },
   "outputs": [
    {
     "data": {
      "text/html": [
       "<div>\n",
       "<style scoped>\n",
       "    .dataframe tbody tr th:only-of-type {\n",
       "        vertical-align: middle;\n",
       "    }\n",
       "\n",
       "    .dataframe tbody tr th {\n",
       "        vertical-align: top;\n",
       "    }\n",
       "\n",
       "    .dataframe thead th {\n",
       "        text-align: right;\n",
       "    }\n",
       "</style>\n",
       "<table border=\"1\" class=\"dataframe\">\n",
       "  <thead>\n",
       "    <tr style=\"text-align: right;\">\n",
       "      <th></th>\n",
       "      <th>title</th>\n",
       "      <th>identifier</th>\n",
       "      <th>caseissuedate</th>\n",
       "      <th>defendants</th>\n",
       "      <th>keywords</th>\n",
       "      <th>seizuredate</th>\n",
       "      <th>seizurelocation</th>\n",
       "      <th>shippedfrom</th>\n",
       "      <th>shippedinto</th>\n",
       "      <th>courtname</th>\n",
       "      <th>njnumber</th>\n",
       "      <th>numbers</th>\n",
       "      <th>rights</th>\n",
       "      <th>link</th>\n",
       "      <th>id</th>\n",
       "      <th>collection</th>\n",
       "      <th>ocr</th>\n",
       "    </tr>\n",
       "  </thead>\n",
       "  <tbody>\n",
       "    <tr>\n",
       "      <th>0</th>\n",
       "      <td>1.  of B. C. Headache Powders, U. S. v. 46 Dozen Packages of B. C. .</td>\n",
       "      <td>ddnj00001</td>\n",
       "      <td>May 1940</td>\n",
       "      <td>B. C. Remedy Co.</td>\n",
       "      <td>B. C. Headache Powders</td>\n",
       "      <td>November 30, 1938</td>\n",
       "      <td>Atlanta, Ga.</td>\n",
       "      <td>Durham, N. C.</td>\n",
       "      <td>Atlanta, Ga.</td>\n",
       "      <td>Northern District of Georgia</td>\n",
       "      <td>1</td>\n",
       "      <td>F. D. C. No. 111. Sample No. 25097-D.</td>\n",
       "      <td>The National Library of Medicine believes this item to be in the public domain</td>\n",
       "      <td>https://creativecommons.org/publicdomain/mark/1.0/</td>\n",
       "      <td>ddnj00001</td>\n",
       "      <td>ddnj</td>\n",
       "      <td>1.  of B. C. Headache Powders, V. S. v. 46 Dozen Packages of D. C. . (F. D. C. No. 111. Sample ...</td>\n",
       "    </tr>\n",
       "  </tbody>\n",
       "</table>\n",
       "</div>"
      ],
      "text/plain": [
       "                                                                  title  \\\n",
       "0  1.  of B. C. Headache Powders, U. S. v. 46 Dozen Packages of B. C. .   \n",
       "\n",
       "  identifier caseissuedate        defendants                keywords  \\\n",
       "0  ddnj00001      May 1940  B. C. Remedy Co.  B. C. Headache Powders   \n",
       "\n",
       "         seizuredate seizurelocation    shippedfrom   shippedinto  \\\n",
       "0  November 30, 1938    Atlanta, Ga.  Durham, N. C.  Atlanta, Ga.   \n",
       "\n",
       "                      courtname njnumber  \\\n",
       "0  Northern District of Georgia        1   \n",
       "\n",
       "                                 numbers  \\\n",
       "0  F. D. C. No. 111. Sample No. 25097-D.   \n",
       "\n",
       "                                                                           rights  \\\n",
       "0  The National Library of Medicine believes this item to be in the public domain   \n",
       "\n",
       "                                                 link         id collection  \\\n",
       "0  https://creativecommons.org/publicdomain/mark/1.0/  ddnj00001       ddnj   \n",
       "\n",
       "                                                                                                   ocr  \n",
       "0   1.  of B. C. Headache Powders, V. S. v. 46 Dozen Packages of D. C. . (F. D. C. No. 111. Sample ...  "
      ]
     },
     "execution_count": 18,
     "metadata": {},
     "output_type": "execute_result"
    }
   ],
   "source": [
    "ddnj.head(1)"
   ]
  },
  {
   "cell_type": "markdown",
   "metadata": {},
   "source": [
    "## Grab just the columns we want into another dataframe  \n",
    "\n",
    "Using our domain knowledge, we can drop several columns which contain irrelevant topic modeling data, such as identifiers, some case index numbers, rights statements, url."
   ]
  },
  {
   "cell_type": "code",
   "execution_count": 19,
   "metadata": {},
   "outputs": [
    {
     "data": {
      "text/html": [
       "<div>\n",
       "<style scoped>\n",
       "    .dataframe tbody tr th:only-of-type {\n",
       "        vertical-align: middle;\n",
       "    }\n",
       "\n",
       "    .dataframe tbody tr th {\n",
       "        vertical-align: top;\n",
       "    }\n",
       "\n",
       "    .dataframe thead th {\n",
       "        text-align: right;\n",
       "    }\n",
       "</style>\n",
       "<table border=\"1\" class=\"dataframe\">\n",
       "  <thead>\n",
       "    <tr style=\"text-align: right;\">\n",
       "      <th></th>\n",
       "      <th>title</th>\n",
       "      <th>keywords</th>\n",
       "      <th>defendants</th>\n",
       "      <th>seizuredate</th>\n",
       "      <th>seizurelocation</th>\n",
       "      <th>courtname</th>\n",
       "      <th>ocr</th>\n",
       "    </tr>\n",
       "  </thead>\n",
       "  <tbody>\n",
       "    <tr>\n",
       "      <th>0</th>\n",
       "      <td>1.  of B. C. Headache Powders, U. S. v. 46 Dozen Packages of B. C. .</td>\n",
       "      <td>B. C. Headache Powders</td>\n",
       "      <td>B. C. Remedy Co.</td>\n",
       "      <td>November 30, 1938</td>\n",
       "      <td>Atlanta, Ga.</td>\n",
       "      <td>Northern District of Georgia</td>\n",
       "      <td>1.  of B. C. Headache Powders, V. S. v. 46 Dozen Packages of D. C. . (F. D. C. No. 111. Sample ...</td>\n",
       "    </tr>\n",
       "  </tbody>\n",
       "</table>\n",
       "</div>"
      ],
      "text/plain": [
       "                                                                  title  \\\n",
       "0  1.  of B. C. Headache Powders, U. S. v. 46 Dozen Packages of B. C. .   \n",
       "\n",
       "                 keywords        defendants        seizuredate  \\\n",
       "0  B. C. Headache Powders  B. C. Remedy Co.  November 30, 1938   \n",
       "\n",
       "  seizurelocation                     courtname  \\\n",
       "0    Atlanta, Ga.  Northern District of Georgia   \n",
       "\n",
       "                                                                                                   ocr  \n",
       "0   1.  of B. C. Headache Powders, V. S. v. 46 Dozen Packages of D. C. . (F. D. C. No. 111. Sample ...  "
      ]
     },
     "execution_count": 19,
     "metadata": {},
     "output_type": "execute_result"
    }
   ],
   "source": [
    "# grab just the columns we want into another df\n",
    "ddnj_df = ddnj[['title', 'keywords', 'defendants', 'seizuredate', 'seizurelocation', 'courtname', 'ocr']]\n",
    "\n",
    "ddnj_df.head(1)"
   ]
  },
  {
   "cell_type": "markdown",
   "metadata": {},
   "source": [
    "## Combine selected columns into a new column called ```combined``` to use as our documents for Natural Language Processing  \n",
    "\n",
    "The theory is we can leverage the corrected text in the metadata fields along with the dirty OCR to increase our chances of generating useful topics."
   ]
  },
  {
   "cell_type": "code",
   "execution_count": 20,
   "metadata": {},
   "outputs": [],
   "source": [
    "# cast all the columns into a new one\n",
    "\n",
    "ddnj_df['combined'] = ddnj_df['title'] + ddnj_df['keywords'] + ddnj_df['defendants'] + ddnj_df['seizuredate']+ ddnj_df['seizurelocation']+ ddnj_df['courtname']+ ddnj_df['ocr']"
   ]
  },
  {
   "cell_type": "code",
   "execution_count": 21,
   "metadata": {
    "scrolled": true
   },
   "outputs": [
    {
     "data": {
      "text/html": [
       "<div>\n",
       "<style scoped>\n",
       "    .dataframe tbody tr th:only-of-type {\n",
       "        vertical-align: middle;\n",
       "    }\n",
       "\n",
       "    .dataframe tbody tr th {\n",
       "        vertical-align: top;\n",
       "    }\n",
       "\n",
       "    .dataframe thead th {\n",
       "        text-align: right;\n",
       "    }\n",
       "</style>\n",
       "<table border=\"1\" class=\"dataframe\">\n",
       "  <thead>\n",
       "    <tr style=\"text-align: right;\">\n",
       "      <th></th>\n",
       "      <th>title</th>\n",
       "      <th>keywords</th>\n",
       "      <th>defendants</th>\n",
       "      <th>seizuredate</th>\n",
       "      <th>seizurelocation</th>\n",
       "      <th>courtname</th>\n",
       "      <th>ocr</th>\n",
       "      <th>combined</th>\n",
       "    </tr>\n",
       "  </thead>\n",
       "  <tbody>\n",
       "    <tr>\n",
       "      <th>0</th>\n",
       "      <td>1.  of B. C. Headache Powders, U. S. v. 46 Dozen Packages of B. C. .</td>\n",
       "      <td>B. C. Headache Powders</td>\n",
       "      <td>B. C. Remedy Co.</td>\n",
       "      <td>November 30, 1938</td>\n",
       "      <td>Atlanta, Ga.</td>\n",
       "      <td>Northern District of Georgia</td>\n",
       "      <td>1.  of B. C. Headache Powders, V. S. v. 46 Dozen Packages of D. C. . (F. D. C. No. 111. Sample ...</td>\n",
       "      <td>1.  of B. C. Headache Powders, U. S. v. 46 Dozen Packages of B. C. .B. C. Headache PowdersB. C. ...</td>\n",
       "    </tr>\n",
       "  </tbody>\n",
       "</table>\n",
       "</div>"
      ],
      "text/plain": [
       "                                                                  title  \\\n",
       "0  1.  of B. C. Headache Powders, U. S. v. 46 Dozen Packages of B. C. .   \n",
       "\n",
       "                 keywords        defendants        seizuredate  \\\n",
       "0  B. C. Headache Powders  B. C. Remedy Co.  November 30, 1938   \n",
       "\n",
       "  seizurelocation                     courtname  \\\n",
       "0    Atlanta, Ga.  Northern District of Georgia   \n",
       "\n",
       "                                                                                                   ocr  \\\n",
       "0   1.  of B. C. Headache Powders, V. S. v. 46 Dozen Packages of D. C. . (F. D. C. No. 111. Sample ...   \n",
       "\n",
       "                                                                                              combined  \n",
       "0  1.  of B. C. Headache Powders, U. S. v. 46 Dozen Packages of B. C. .B. C. Headache PowdersB. C. ...  "
      ]
     },
     "execution_count": 21,
     "metadata": {},
     "output_type": "execute_result"
    }
   ],
   "source": [
    "ddnj_df.head(1)"
   ]
  },
  {
   "cell_type": "markdown",
   "metadata": {},
   "source": [
    "## EDA Visualizations"
   ]
  },
  {
   "cell_type": "markdown",
   "metadata": {},
   "source": [
    "Let's create a function to generate a Wordcloud of the top 100 words; we can use this later, too."
   ]
  },
  {
   "cell_type": "code",
   "execution_count": 56,
   "metadata": {},
   "outputs": [
    {
     "data": {
      "image/png": "[encoded data removed]",
      "text/plain": [
       "<Figure size 864x864 with 1 Axes>"
      ]
     },
     "metadata": {
      "needs_background": "light"
     },
     "output_type": "display_data"
    }
   ],
   "source": [
    "def show_wordcloud(text):\n",
    "    \"\"\"Take a set of text, apply Wordcloud and plot the results as a wordcloud visualization \"\"\"\n",
    "    wordcloud = WordCloud(\n",
    "        background_color='white',\n",
    "        stopwords=stop_words,\n",
    "        max_words=100,\n",
    "        max_font_size=30,\n",
    "        scale=3,\n",
    "        random_state=1)\n",
    "   \n",
    "    wordcloud=wordcloud.generate(str(text))\n",
    "\n",
    "    fig = plt.figure(1, figsize=(12, 12))\n",
    "    plt.axis('off')\n",
    "\n",
    "    plt.imshow(wordcloud)\n",
    "    plt.show()\n",
    "\n",
    "show_wordcloud(ddnj_df['combined'])"
   ]
  },
  {
   "cell_type": "markdown",
   "metadata": {},
   "source": [
    "**Let's use Yellowbrick's Frequency visualizer to better visualize the top 50 word tokens after vectorizing the words, and exludeg stop words, in our dataframe ```ddnj_df['combined']```, to see what other biased word we may want to handle.**"
   ]
  },
  {
   "cell_type": "code",
   "execution_count": 22,
   "metadata": {
    "scrolled": false
   },
   "outputs": [
    {
     "data": {
      "image/png": "[encoded data removed]",
      "text/plain": [
       "<Figure size 1080x720 with 1 Axes>"
      ]
     },
     "metadata": {
      "needs_background": "light"
     },
     "output_type": "display_data"
    }
   ],
   "source": [
    "#font = {'size'   : 32}\n",
    "\n",
    "#plt.rc('font', **font)\n",
    "\n",
    "\n",
    "vectorizer = CountVectorizer(stop_words='english')\n",
    "docs       = vectorizer.fit_transform(ddnj_df['combined'])\n",
    "features   = vectorizer.get_feature_names()\n",
    "\n",
    "visualizer = FreqDistVisualizer(n=20, features=features, size=(1080, 720)) #default N is 50, can change counts here\n",
    "visualizer.fit(docs)\n",
    "\n",
    "    \n",
    "visualizer.show();"
   ]
  },
  {
   "cell_type": "markdown",
   "metadata": {},
   "source": [
    "**It looks like there are some commonly occuring legal terms that we can exlude with some pre-processing, but we also need to be careful to not handle-away terms that might be actual topics for our models to discover. We canuse our domain knowledge again here.**"
   ]
  },
  {
   "cell_type": "markdown",
   "metadata": {},
   "source": [
    "<a name=\"LSA\"></a>\n",
    "## Part 3: Latent Semantic Analysis  \n",
    "\n",
    "The Latent Semantic Analysis model is a theory for how meaning representations might be learned from encountering large samples of language without explicit directions as to how it is structured.  \n",
    "\n",
    "LSA inherently follows certain assumptions:  \n",
    "1. Meaning of Sentences or Documents is a sum of the meaning of all words occurring in it. Overall, the meaning of a certain word is an average across all the documents it occurs in.  \n",
    "2. LSA assumes that the semantic associations between words are present not explicitly, but only latently in the large sample of language.  \n",
    "\n",
    "We will form a document-term matrix using the Term Frequency-Inverse Document Frequency (TF-IDF) transformation method to vectorize the corpus. There is a drawback in that TF-IDF prdouces a noisy and sparse matrix, sometimes too large to even compute for further processes. \n",
    "\n",
    "To reduce the noise we perform a Low-Rank Approximation using a Dimensionality reduction technique using a Truncated Singular Value Decomposition (SVD). Truncated SVD reduces dimensionality by selecting only the largest singular values.  \n",
    "\n",
    "With these document vectors and term vectors, we can apply measures such as cosine similarity to evaluate:\n",
    "- the similarity of different documents\n",
    "- the similarity of different words\n",
    "- the similarity of terms"
   ]
  },
  {
   "cell_type": "code",
   "execution_count": 23,
   "metadata": {},
   "outputs": [],
   "source": [
    "# Workspace\n",
    "drugs=pd.DataFrame(ddnj_df, columns=['combined'])\n",
    "\n",
    "#remove special characters\n",
    "drugs['clean_documents'] = drugs['combined'].str.replace(\"[^a-zA-Z#]\", \" \")\n",
    "\n",
    "#remove words have letters less than 3\n",
    "drugs['clean_documents'] = drugs['clean_documents'].fillna('').apply(lambda x: ' '.join([w for w in x.split() if len(w)>2]))\n",
    "\n",
    "#lowercase all characters\n",
    "drugs['clean_documents'] = drugs['clean_documents'].fillna('').apply(lambda x: x.lower())"
   ]
  },
  {
   "cell_type": "code",
   "execution_count": 24,
   "metadata": {},
   "outputs": [
    {
     "data": {
      "text/html": [
       "<div>\n",
       "<style scoped>\n",
       "    .dataframe tbody tr th:only-of-type {\n",
       "        vertical-align: middle;\n",
       "    }\n",
       "\n",
       "    .dataframe tbody tr th {\n",
       "        vertical-align: top;\n",
       "    }\n",
       "\n",
       "    .dataframe thead th {\n",
       "        text-align: right;\n",
       "    }\n",
       "</style>\n",
       "<table border=\"1\" class=\"dataframe\">\n",
       "  <thead>\n",
       "    <tr style=\"text-align: right;\">\n",
       "      <th></th>\n",
       "      <th>combined</th>\n",
       "      <th>clean_documents</th>\n",
       "    </tr>\n",
       "  </thead>\n",
       "  <tbody>\n",
       "    <tr>\n",
       "      <th>0</th>\n",
       "      <td>1.  of B. C. Headache Powders, U. S. v. 46 Dozen Packages of B. C. .B. C. Headache PowdersB. C. ...</td>\n",
       "      <td>headache powders dozen packages headache powdersb remedy november atlanta northern district geor...</td>\n",
       "    </tr>\n",
       "    <tr>\n",
       "      <th>1</th>\n",
       "      <td>2.  of Stanback Headache Powders. U. S. v. 309 Dozen Packages of Stanback Headache Powders. .Sta...</td>\n",
       "      <td>stanback headache powders dozen packages stanback headache powders stanback headache powdersstan...</td>\n",
       "    </tr>\n",
       "    <tr>\n",
       "      <th>2</th>\n",
       "      <td>3.  of Goody's Headache Powder. U. S. v. 1,524 Envelopes of Goody's Headache Powder. .Goody's He...</td>\n",
       "      <td>goody headache powder envelopes goody headache powder goody headache powdergoody inc march colum...</td>\n",
       "    </tr>\n",
       "    <tr>\n",
       "      <th>3</th>\n",
       "      <td>4.  of B-B Headache Powders. U. S. v. 596 Envelopes of B-B. .B-B Headache PowdersSpecialty Sales...</td>\n",
       "      <td>headache powders envelopes headache powdersspecialty sales from atlanta june columbia eastern di...</td>\n",
       "    </tr>\n",
       "    <tr>\n",
       "      <th>4</th>\n",
       "      <td>5.  of Hed-Lyte. U. S. v. 93 Bottles of Hed-Lyte. .Hed-LyteHed-Lyte Co.March 6, 1939Shreveport, ...</td>\n",
       "      <td>hed lyte bottles hed lyte hed lytehed lyte march shreveport western district louisiana hed lyte ...</td>\n",
       "    </tr>\n",
       "  </tbody>\n",
       "</table>\n",
       "</div>"
      ],
      "text/plain": [
       "                                                                                              combined  \\\n",
       "0  1.  of B. C. Headache Powders, U. S. v. 46 Dozen Packages of B. C. .B. C. Headache PowdersB. C. ...   \n",
       "1  2.  of Stanback Headache Powders. U. S. v. 309 Dozen Packages of Stanback Headache Powders. .Sta...   \n",
       "2  3.  of Goody's Headache Powder. U. S. v. 1,524 Envelopes of Goody's Headache Powder. .Goody's He...   \n",
       "3  4.  of B-B Headache Powders. U. S. v. 596 Envelopes of B-B. .B-B Headache PowdersSpecialty Sales...   \n",
       "4  5.  of Hed-Lyte. U. S. v. 93 Bottles of Hed-Lyte. .Hed-LyteHed-Lyte Co.March 6, 1939Shreveport, ...   \n",
       "\n",
       "                                                                                       clean_documents  \n",
       "0  headache powders dozen packages headache powdersb remedy november atlanta northern district geor...  \n",
       "1  stanback headache powders dozen packages stanback headache powders stanback headache powdersstan...  \n",
       "2  goody headache powder envelopes goody headache powder goody headache powdergoody inc march colum...  \n",
       "3  headache powders envelopes headache powdersspecialty sales from atlanta june columbia eastern di...  \n",
       "4  hed lyte bottles hed lyte hed lytehed lyte march shreveport western district louisiana hed lyte ...  "
      ]
     },
     "execution_count": 24,
     "metadata": {},
     "output_type": "execute_result"
    }
   ],
   "source": [
    "drugs.head()\n"
   ]
  },
  {
   "cell_type": "code",
   "execution_count": 25,
   "metadata": {},
   "outputs": [],
   "source": [
    "#Build the TF-IDF DTM\n",
    "vectorizer = TfidfVectorizer(stop_words='english', \n",
    "                             use_idf=True, \n",
    "                             smooth_idf=True)\n",
    "\n",
    "# SVD to reduce dimensionality; n_components defines the number of topics; change this to learn more: \n",
    "# could combine gridsearch to tell us how many to define n_components\n",
    "svd_model = TruncatedSVD(n_components=3,         \n",
    "                         algorithm='randomized',\n",
    "                         n_iter=20)\n",
    "\n",
    "# Using a pipeline for fun to combine tf-idf + SVD fitting against corpus\n",
    "svd_transformer = Pipeline([('tfidf', vectorizer), \n",
    "                            ('svd', svd_model)])\n",
    "svd_matrix = svd_transformer.fit_transform(drugs['clean_documents'])"
   ]
  },
  {
   "cell_type": "code",
   "execution_count": 26,
   "metadata": {},
   "outputs": [],
   "source": [
    "# Let's capture the output of our topic model\n",
    "topic_encoded_df = pd.DataFrame(svd_matrix, columns = [\"topic_1\", \"topic_2\", \"topic_3\"])\n",
    "topic_encoded_df[\"documents\"] = drugs['clean_documents']"
   ]
  },
  {
   "cell_type": "markdown",
   "metadata": {},
   "source": [
    "## Let's sort each topic category score and see what are the top 5"
   ]
  },
  {
   "cell_type": "markdown",
   "metadata": {},
   "source": [
    "**Topic 1**"
   ]
  },
  {
   "cell_type": "code",
   "execution_count": 27,
   "metadata": {
    "scrolled": false
   },
   "outputs": [
    {
     "data": {
      "text/html": [
       "<div>\n",
       "<style scoped>\n",
       "    .dataframe tbody tr th:only-of-type {\n",
       "        vertical-align: middle;\n",
       "    }\n",
       "\n",
       "    .dataframe tbody tr th {\n",
       "        vertical-align: top;\n",
       "    }\n",
       "\n",
       "    .dataframe thead th {\n",
       "        text-align: right;\n",
       "    }\n",
       "</style>\n",
       "<table border=\"1\" class=\"dataframe\">\n",
       "  <thead>\n",
       "    <tr style=\"text-align: right;\">\n",
       "      <th></th>\n",
       "      <th>topic_1</th>\n",
       "      <th>topic_2</th>\n",
       "      <th>topic_3</th>\n",
       "      <th>documents</th>\n",
       "    </tr>\n",
       "  </thead>\n",
       "  <tbody>\n",
       "    <tr>\n",
       "      <th>6509</th>\n",
       "      <td>0.5279701017</td>\n",
       "      <td>0.2994838836</td>\n",
       "      <td>0.0339679279</td>\n",
       "      <td>achromycin capsules dextro amphetamine sulfate capsules dextro amphetamine sulfate tablets penic...</td>\n",
       "    </tr>\n",
       "    <tr>\n",
       "      <th>5951</th>\n",
       "      <td>0.5169902765</td>\n",
       "      <td>0.3548542786</td>\n",
       "      <td>0.0489076552</td>\n",
       "      <td>secobarbital sodium capsules dextro amphetamine sulfate tabletsisador kammer belt avenue pharmac...</td>\n",
       "    </tr>\n",
       "    <tr>\n",
       "      <th>3088</th>\n",
       "      <td>0.4831423666</td>\n",
       "      <td>0.2107882018</td>\n",
       "      <td>0.0019882144</td>\n",
       "      <td>amphetamine hydrochloride tablets david avila west side drug store plea guilty fine plus costs a...</td>\n",
       "    </tr>\n",
       "    <tr>\n",
       "      <th>6829</th>\n",
       "      <td>0.4801626445</td>\n",
       "      <td>0.1946005056</td>\n",
       "      <td>0.0049769508</td>\n",
       "      <td>thorazine tabletsjohn berntsen john berntsen pharmacy and hugh leonard pharmacist provo utah pro...</td>\n",
       "    </tr>\n",
       "    <tr>\n",
       "      <th>5673</th>\n",
       "      <td>0.4744469398</td>\n",
       "      <td>0.0097656874</td>\n",
       "      <td>-0.1092965137</td>\n",
       "      <td>vitamin capsules vitamin capsules philadelphia dist department health education and welfare food...</td>\n",
       "    </tr>\n",
       "  </tbody>\n",
       "</table>\n",
       "</div>"
      ],
      "text/plain": [
       "          topic_1      topic_2       topic_3  \\\n",
       "6509 0.5279701017 0.2994838836  0.0339679279   \n",
       "5951 0.5169902765 0.3548542786  0.0489076552   \n",
       "3088 0.4831423666 0.2107882018  0.0019882144   \n",
       "6829 0.4801626445 0.1946005056  0.0049769508   \n",
       "5673 0.4744469398 0.0097656874 -0.1092965137   \n",
       "\n",
       "                                                                                                documents  \n",
       "6509  achromycin capsules dextro amphetamine sulfate capsules dextro amphetamine sulfate tablets penic...  \n",
       "5951  secobarbital sodium capsules dextro amphetamine sulfate tabletsisador kammer belt avenue pharmac...  \n",
       "3088  amphetamine hydrochloride tablets david avila west side drug store plea guilty fine plus costs a...  \n",
       "6829  thorazine tabletsjohn berntsen john berntsen pharmacy and hugh leonard pharmacist provo utah pro...  \n",
       "5673  vitamin capsules vitamin capsules philadelphia dist department health education and welfare food...  "
      ]
     },
     "execution_count": 27,
     "metadata": {},
     "output_type": "execute_result"
    }
   ],
   "source": [
    "# Using the below - what are some topics?\n",
    "topic_encoded_df.sort_values(by=['topic_1'], ascending=False)[:5]"
   ]
  },
  {
   "cell_type": "markdown",
   "metadata": {},
   "source": [
    "**Topic 2**"
   ]
  },
  {
   "cell_type": "code",
   "execution_count": 28,
   "metadata": {},
   "outputs": [
    {
     "data": {
      "text/html": [
       "<div>\n",
       "<style scoped>\n",
       "    .dataframe tbody tr th:only-of-type {\n",
       "        vertical-align: middle;\n",
       "    }\n",
       "\n",
       "    .dataframe tbody tr th {\n",
       "        vertical-align: top;\n",
       "    }\n",
       "\n",
       "    .dataframe thead th {\n",
       "        text-align: right;\n",
       "    }\n",
       "</style>\n",
       "<table border=\"1\" class=\"dataframe\">\n",
       "  <thead>\n",
       "    <tr style=\"text-align: right;\">\n",
       "      <th></th>\n",
       "      <th>topic_1</th>\n",
       "      <th>topic_2</th>\n",
       "      <th>topic_3</th>\n",
       "      <th>documents</th>\n",
       "    </tr>\n",
       "  </thead>\n",
       "  <tbody>\n",
       "    <tr>\n",
       "      <th>5672</th>\n",
       "      <td>0.3445614892</td>\n",
       "      <td>0.4408951252</td>\n",
       "      <td>0.1136463693</td>\n",
       "      <td>equanil tablets meticorten tablets gantrisin tablets penicillin tabletsseymour sanov macgregor p...</td>\n",
       "    </tr>\n",
       "    <tr>\n",
       "      <th>4516</th>\n",
       "      <td>0.3252399800</td>\n",
       "      <td>0.4347864718</td>\n",
       "      <td>0.1025510355</td>\n",
       "      <td>seconal sodium capsulesray wiener hillcrest pharmacy portland oreg between and oreg dist oreg no...</td>\n",
       "    </tr>\n",
       "    <tr>\n",
       "      <th>5832</th>\n",
       "      <td>0.3130672496</td>\n",
       "      <td>0.4289401947</td>\n",
       "      <td>0.1038056965</td>\n",
       "      <td>tablets containing mixture carbromal and pentobarbital sodium chloromycetin capsules aristocort ...</td>\n",
       "    </tr>\n",
       "    <tr>\n",
       "      <th>5532</th>\n",
       "      <td>0.3129977636</td>\n",
       "      <td>0.4278848930</td>\n",
       "      <td>0.1065018381</td>\n",
       "      <td>dexedrine spansule capsules gantrisin tabletsharry margolis margolis pharmacy brooklyn brooklyn ...</td>\n",
       "    </tr>\n",
       "    <tr>\n",
       "      <th>6388</th>\n",
       "      <td>0.2911733309</td>\n",
       "      <td>0.3982274335</td>\n",
       "      <td>0.1214884082</td>\n",
       "      <td>miltoton tabletsalexander lobel alexander lobel pharmacy jamaica and jamaica dist nos informatio...</td>\n",
       "    </tr>\n",
       "  </tbody>\n",
       "</table>\n",
       "</div>"
      ],
      "text/plain": [
       "          topic_1      topic_2      topic_3  \\\n",
       "5672 0.3445614892 0.4408951252 0.1136463693   \n",
       "4516 0.3252399800 0.4347864718 0.1025510355   \n",
       "5832 0.3130672496 0.4289401947 0.1038056965   \n",
       "5532 0.3129977636 0.4278848930 0.1065018381   \n",
       "6388 0.2911733309 0.3982274335 0.1214884082   \n",
       "\n",
       "                                                                                                documents  \n",
       "5672  equanil tablets meticorten tablets gantrisin tablets penicillin tabletsseymour sanov macgregor p...  \n",
       "4516  seconal sodium capsulesray wiener hillcrest pharmacy portland oreg between and oreg dist oreg no...  \n",
       "5832  tablets containing mixture carbromal and pentobarbital sodium chloromycetin capsules aristocort ...  \n",
       "5532  dexedrine spansule capsules gantrisin tabletsharry margolis margolis pharmacy brooklyn brooklyn ...  \n",
       "6388  miltoton tabletsalexander lobel alexander lobel pharmacy jamaica and jamaica dist nos informatio...  "
      ]
     },
     "execution_count": 28,
     "metadata": {},
     "output_type": "execute_result"
    }
   ],
   "source": [
    "# Using the below - what are some topics?\n",
    "topic_encoded_df.sort_values(by=['topic_2'], ascending=False)[:5]"
   ]
  },
  {
   "cell_type": "markdown",
   "metadata": {},
   "source": [
    "**Topic 3**"
   ]
  },
  {
   "cell_type": "code",
   "execution_count": 29,
   "metadata": {
    "scrolled": true
   },
   "outputs": [
    {
     "data": {
      "text/html": [
       "<div>\n",
       "<style scoped>\n",
       "    .dataframe tbody tr th:only-of-type {\n",
       "        vertical-align: middle;\n",
       "    }\n",
       "\n",
       "    .dataframe tbody tr th {\n",
       "        vertical-align: top;\n",
       "    }\n",
       "\n",
       "    .dataframe thead th {\n",
       "        text-align: right;\n",
       "    }\n",
       "</style>\n",
       "<table border=\"1\" class=\"dataframe\">\n",
       "  <thead>\n",
       "    <tr style=\"text-align: right;\">\n",
       "      <th></th>\n",
       "      <th>topic_1</th>\n",
       "      <th>topic_2</th>\n",
       "      <th>topic_3</th>\n",
       "      <th>documents</th>\n",
       "    </tr>\n",
       "  </thead>\n",
       "  <tbody>\n",
       "    <tr>\n",
       "      <th>1812</th>\n",
       "      <td>0.2362464631</td>\n",
       "      <td>-0.3519523623</td>\n",
       "      <td>0.6322149033</td>\n",
       "      <td>and prophylactics gross and gross prophylactics default decree destruction prophylacticsm jacobs...</td>\n",
       "    </tr>\n",
       "    <tr>\n",
       "      <th>1913</th>\n",
       "      <td>0.2503624699</td>\n",
       "      <td>-0.3664723432</td>\n",
       "      <td>0.6279870308</td>\n",
       "      <td>and prophylactics gross prophylactics prophylacticsgoodwear rubber from new york march baltimore...</td>\n",
       "    </tr>\n",
       "    <tr>\n",
       "      <th>2851</th>\n",
       "      <td>0.3047185135</td>\n",
       "      <td>-0.3548415895</td>\n",
       "      <td>0.6168794504</td>\n",
       "      <td>and prophylactics gross prophylacticsgoodwear rubber from new york may louis eastern district mi...</td>\n",
       "    </tr>\n",
       "    <tr>\n",
       "      <th>5628</th>\n",
       "      <td>0.2255786406</td>\n",
       "      <td>-0.3095184162</td>\n",
       "      <td>0.6141234497</td>\n",
       "      <td>rubber prophylactics rubber prophylacticsakwell corp new york dist rubber prophylactics nos quan...</td>\n",
       "    </tr>\n",
       "    <tr>\n",
       "      <th>1763</th>\n",
       "      <td>0.2942658648</td>\n",
       "      <td>-0.3738674052</td>\n",
       "      <td>0.6007396351</td>\n",
       "      <td>and prophylactics gross prophylactics and other seizure actions against prophylactics default de...</td>\n",
       "    </tr>\n",
       "  </tbody>\n",
       "</table>\n",
       "</div>"
      ],
      "text/plain": [
       "          topic_1       topic_2      topic_3  \\\n",
       "1812 0.2362464631 -0.3519523623 0.6322149033   \n",
       "1913 0.2503624699 -0.3664723432 0.6279870308   \n",
       "2851 0.3047185135 -0.3548415895 0.6168794504   \n",
       "5628 0.2255786406 -0.3095184162 0.6141234497   \n",
       "1763 0.2942658648 -0.3738674052 0.6007396351   \n",
       "\n",
       "                                                                                                documents  \n",
       "1812  and prophylactics gross and gross prophylactics default decree destruction prophylacticsm jacobs...  \n",
       "1913  and prophylactics gross prophylactics prophylacticsgoodwear rubber from new york march baltimore...  \n",
       "2851  and prophylactics gross prophylacticsgoodwear rubber from new york may louis eastern district mi...  \n",
       "5628  rubber prophylactics rubber prophylacticsakwell corp new york dist rubber prophylactics nos quan...  \n",
       "1763  and prophylactics gross prophylactics and other seizure actions against prophylactics default de...  "
      ]
     },
     "execution_count": 29,
     "metadata": {},
     "output_type": "execute_result"
    }
   ],
   "source": [
    "# Using the below - what are some topics?\n",
    "topic_encoded_df.sort_values(by=['topic_3'], ascending=False)[:5]"
   ]
  },
  {
   "cell_type": "markdown",
   "metadata": {},
   "source": [
    "What are some likely topics applying my domain knowledge of the original data set?\n",
    "- **Topic 1 with cosines in the 0.50 range = amphetamine tablets/capsules**\n",
    "- **Topic 2 with cosines in the 0.42 range = penicillin, tablets, capsules, pharmacy, amphetamines and barbituates (uppers and downers)**\n",
    "- **Topic 3 with cosines in the 0.61 range = prophylactics, default decrees of condemnation**\n",
    "\n",
    "Using our domain knowledge we already know amphetamines, barbituates, and prophylatics are abundant based on the Case Keywords metadata. **Penicillin is something new.**  \n",
    "\n",
    "Let's try LDA to see if we get any more satisfying results."
   ]
  },
  {
   "cell_type": "markdown",
   "metadata": {},
   "source": [
    "<a name=\"LDA\"></a>\n",
    "## Part 4: Latent Dirichlet Allocation  \n",
    "\n",
    "LDA is used to classify text in a document to a particular topic. It is generally considered more robust than LSA in that it is baed on probalistic distributions rather than K-Means averages. It builds a topic per document model and words per topic model, modeled as distributions. Each document is modeled as a distribution of topics and each topic is modeled as a distribution of words. LDA assumes that every chunk of text will contain words that are somehow related. It also assumes documents are produced from a mixture of topics. Those topics then generate words based on their probability distribution. Topic probabilities provide an explicit representation of a document."
   ]
  },
  {
   "cell_type": "markdown",
   "metadata": {},
   "source": []
  },
  {
   "cell_type": "code",
   "execution_count": 30,
   "metadata": {},
   "outputs": [],
   "source": [
    "drugs_lda = pd.DataFrame(ddnj_df, columns=['combined'])\n"
   ]
  },
  {
   "cell_type": "code",
   "execution_count": 31,
   "metadata": {},
   "outputs": [
    {
     "data": {
      "text/html": [
       "<div>\n",
       "<style scoped>\n",
       "    .dataframe tbody tr th:only-of-type {\n",
       "        vertical-align: middle;\n",
       "    }\n",
       "\n",
       "    .dataframe tbody tr th {\n",
       "        vertical-align: top;\n",
       "    }\n",
       "\n",
       "    .dataframe thead th {\n",
       "        text-align: right;\n",
       "    }\n",
       "</style>\n",
       "<table border=\"1\" class=\"dataframe\">\n",
       "  <thead>\n",
       "    <tr style=\"text-align: right;\">\n",
       "      <th></th>\n",
       "      <th>combined</th>\n",
       "    </tr>\n",
       "  </thead>\n",
       "  <tbody>\n",
       "    <tr>\n",
       "      <th>0</th>\n",
       "      <td>1.  of B. C. Headache Powders, U. S. v. 46 Dozen Packages of B. C. .B. C. Headache PowdersB. C. ...</td>\n",
       "    </tr>\n",
       "    <tr>\n",
       "      <th>1</th>\n",
       "      <td>2.  of Stanback Headache Powders. U. S. v. 309 Dozen Packages of Stanback Headache Powders. .Sta...</td>\n",
       "    </tr>\n",
       "    <tr>\n",
       "      <th>2</th>\n",
       "      <td>3.  of Goody's Headache Powder. U. S. v. 1,524 Envelopes of Goody's Headache Powder. .Goody's He...</td>\n",
       "    </tr>\n",
       "    <tr>\n",
       "      <th>3</th>\n",
       "      <td>4.  of B-B Headache Powders. U. S. v. 596 Envelopes of B-B. .B-B Headache PowdersSpecialty Sales...</td>\n",
       "    </tr>\n",
       "    <tr>\n",
       "      <th>4</th>\n",
       "      <td>5.  of Hed-Lyte. U. S. v. 93 Bottles of Hed-Lyte. .Hed-LyteHed-Lyte Co.March 6, 1939Shreveport, ...</td>\n",
       "    </tr>\n",
       "  </tbody>\n",
       "</table>\n",
       "</div>"
      ],
      "text/plain": [
       "                                                                                              combined\n",
       "0  1.  of B. C. Headache Powders, U. S. v. 46 Dozen Packages of B. C. .B. C. Headache PowdersB. C. ...\n",
       "1  2.  of Stanback Headache Powders. U. S. v. 309 Dozen Packages of Stanback Headache Powders. .Sta...\n",
       "2  3.  of Goody's Headache Powder. U. S. v. 1,524 Envelopes of Goody's Headache Powder. .Goody's He...\n",
       "3  4.  of B-B Headache Powders. U. S. v. 596 Envelopes of B-B. .B-B Headache PowdersSpecialty Sales...\n",
       "4  5.  of Hed-Lyte. U. S. v. 93 Bottles of Hed-Lyte. .Hed-LyteHed-Lyte Co.March 6, 1939Shreveport, ..."
      ]
     },
     "execution_count": 31,
     "metadata": {},
     "output_type": "execute_result"
    }
   ],
   "source": [
    "drugs_lda.head()"
   ]
  },
  {
   "cell_type": "code",
   "execution_count": 32,
   "metadata": {},
   "outputs": [
    {
     "data": {
      "text/plain": [
       "0    1  of b c headache powders u s v 46 dozen packages of b c b c headache powdersb c remedy conovem...\n",
       "1    2  of stanback headache powders u s v 309 dozen packages of stanback headache powders stanback h...\n",
       "2    3  of goodys headache powder u s v 1524 envelopes of goodys headache powder goodys headache powd...\n",
       "3    4  of bb headache powders u s v 596 envelopes of bb bb headache powdersspecialty sales co from a...\n",
       "Name: abstract_processed, dtype: object"
      ]
     },
     "execution_count": 32,
     "metadata": {},
     "output_type": "execute_result"
    }
   ],
   "source": [
    "# Remove punctuation\n",
    "drugs_lda['abstract_processed'] = drugs_lda['combined'].map(lambda x: re.sub(r'[^\\w\\s]', '', x))\n",
    "\n",
    "# Convert the titles to lowercase\n",
    "drugs_lda['abstract_processed'] = drugs_lda['abstract_processed'].map(lambda x: x.lower())\n",
    "\n",
    "# Print out the first rows of papers\n",
    "drugs_lda['abstract_processed'][0:4]\n"
   ]
  },
  {
   "cell_type": "code",
   "execution_count": 33,
   "metadata": {
    "scrolled": true
   },
   "outputs": [
    {
     "name": "stdout",
     "output_type": "stream",
     "text": [
      "['headache', 'powder', 'dozen', 'package', 'remedy', 'conovember', 'ganorthern', 'district', 'headache', 'powder', 'dozen', 'package', 'sample', '25097d', 'powder', 'consist', 'essentially', 'acetanilid', 'caffeine', 'potassium', 'bromide', 'dangerous', 'health', 'when', 'use']\n",
      "\n"
     ]
    }
   ],
   "source": [
    "#Lemmatize the data to reduce the feature space\n",
    "\n",
    "nlp = spacy.load('en_core_web_sm', disable=['parser', 'ner'])\n",
    "drugs_lda['abstract_lemma'] = drugs_lda['abstract_processed'].map(lambda x: [token.lemma_ for token in nlp(x) if token.lemma_ != '-PRON-' and token.pos_ in {'NOUN', 'VERB', 'ADJ', 'ADV'}])\n",
    "\n",
    "# Final cleaning, dropping 1 letter words\n",
    "drugs_lda['abstract_processed_lemma'] = drugs_lda['abstract_lemma'].map(lambda x: [t for t in x if len(t) > 1])\n",
    "\n",
    "# Example\n",
    "print(drugs_lda['abstract_processed_lemma'].iloc[0][:25], end='\\n\\n')"
   ]
  },
  {
   "cell_type": "markdown",
   "metadata": {},
   "source": [
    "Lemmatizing the raw OCR removes a lot of the regularly occuring legaleese phrases, but I still see some regularly occuring words that could bias our topic generation results  \n",
    "\n",
    "Lets updated the NLTK English stopwords list"
   ]
  },
  {
   "cell_type": "code",
   "execution_count": 34,
   "metadata": {},
   "outputs": [],
   "source": [
    "stop_words = set(stopwords.words('english'))\n",
    "\n",
    "#add words that aren't in the NLTK stopwords list\n",
    "new_stopwords = ['condemnation', 'destruction', 'default', 'decree', 'article', \n",
    "                 'sample', 'contain', 'defendant', 'labeling', 'product', 'allege'\n",
    "                'court', 'false', 'statement']\n",
    "new_stopwords_list = stop_words.union(new_stopwords)"
   ]
  },
  {
   "cell_type": "code",
   "execution_count": 35,
   "metadata": {},
   "outputs": [
    {
     "name": "stdout",
     "output_type": "stream",
     "text": [
      "['headache', 'powder', 'dozen', 'package', 'remedy', 'conovember', 'ganorthern', 'district', 'headache', 'powder', 'dozen', 'package', '25097d', 'powder', 'consist', 'essentially', 'acetanilid', 'caffeine', 'potassium', 'bromide', 'dangerous', 'health', 'use', 'dosage', 'frequency']\n"
     ]
    }
   ],
   "source": [
    "# Let's remove stopwords and see the difference\n",
    "stop_en = new_stopwords_list\n",
    "drugs_lda['abstract_processed_lemma'] = drugs_lda['abstract_processed_lemma'].map(lambda x: [t for t in x if t not in stop_en]) \n",
    "print(drugs_lda['abstract_processed_lemma'].iloc[0][:25])"
   ]
  },
  {
   "cell_type": "code",
   "execution_count": 36,
   "metadata": {
    "scrolled": true
   },
   "outputs": [
    {
     "data": {
      "text/plain": [
       "0    [headache, powder, dozen, package, remedy, conovember, ganorthern, district, headache, powder, d...\n",
       "1    [stanback, powder, dozen, package, stanback, powder, stanback, co, cmarch, ganorthern, district,...\n",
       "2    [envelope, ceastern, district, destruc, tion, 45525d, powder, potassium, bromide, caffeine, dang...\n",
       "3    [powder, envelope, powdersspecialty, sale, co, ceastern, district, envelope, 45524d, powder, pot...\n",
       "4    [bottle, lawestern, district, bottle, hedlyte, 38055d, drug, acetanilid, sodium, bromide, caffei...\n",
       "Name: abstract_processed_lemma, dtype: object"
      ]
     },
     "execution_count": 36,
     "metadata": {},
     "output_type": "execute_result"
    }
   ],
   "source": [
    "drugs_lda['abstract_processed_lemma'].head()"
   ]
  },
  {
   "cell_type": "code",
   "execution_count": 45,
   "metadata": {},
   "outputs": [
    {
     "data": {
      "image/png": "[encoded data removed]",
      "text/plain": [
       "<Figure size 864x864 with 1 Axes>"
      ]
     },
     "metadata": {
      "needs_background": "light"
     },
     "output_type": "display_data"
    }
   ],
   "source": [
    "show_wordcloud(drugs_lda['abstract_processed_lemma'])"
   ]
  },
  {
   "cell_type": "markdown",
   "metadata": {},
   "source": [
    "## Sanity check that our dataframe is as we expect with the addition of 3 new columns *_processed*; *_ lemma*; and *_processed__lemma*"
   ]
  },
  {
   "cell_type": "code",
   "execution_count": 37,
   "metadata": {
    "scrolled": true
   },
   "outputs": [
    {
     "data": {
      "text/html": [
       "<div>\n",
       "<style scoped>\n",
       "    .dataframe tbody tr th:only-of-type {\n",
       "        vertical-align: middle;\n",
       "    }\n",
       "\n",
       "    .dataframe tbody tr th {\n",
       "        vertical-align: top;\n",
       "    }\n",
       "\n",
       "    .dataframe thead th {\n",
       "        text-align: right;\n",
       "    }\n",
       "</style>\n",
       "<table border=\"1\" class=\"dataframe\">\n",
       "  <thead>\n",
       "    <tr style=\"text-align: right;\">\n",
       "      <th></th>\n",
       "      <th>combined</th>\n",
       "      <th>abstract_processed</th>\n",
       "      <th>abstract_lemma</th>\n",
       "      <th>abstract_processed_lemma</th>\n",
       "    </tr>\n",
       "  </thead>\n",
       "  <tbody>\n",
       "    <tr>\n",
       "      <th>0</th>\n",
       "      <td>1.  of B. C. Headache Powders, U. S. v. 46 Dozen Packages of B. C. .B. C. Headache PowdersB. C. ...</td>\n",
       "      <td>1  of b c headache powders u s v 46 dozen packages of b c b c headache powdersb c remedy conovem...</td>\n",
       "      <td>[headache, powder, v, dozen, package, b, c, b, remedy, conovember, ganorthern, district, headach...</td>\n",
       "      <td>[headache, powder, dozen, package, remedy, conovember, ganorthern, district, headache, powder, d...</td>\n",
       "    </tr>\n",
       "    <tr>\n",
       "      <th>1</th>\n",
       "      <td>2.  of Stanback Headache Powders. U. S. v. 309 Dozen Packages of Stanback Headache Powders. .Sta...</td>\n",
       "      <td>2  of stanback headache powders u s v 309 dozen packages of stanback headache powders stanback h...</td>\n",
       "      <td>[stanback, powder, v, dozen, package, stanback, powder, stanback, co, cmarch, ganorthern, distri...</td>\n",
       "      <td>[stanback, powder, dozen, package, stanback, powder, stanback, co, cmarch, ganorthern, district,...</td>\n",
       "    </tr>\n",
       "    <tr>\n",
       "      <th>2</th>\n",
       "      <td>3.  of Goody's Headache Powder. U. S. v. 1,524 Envelopes of Goody's Headache Powder. .Goody's He...</td>\n",
       "      <td>3  of goodys headache powder u s v 1524 envelopes of goodys headache powder goodys headache powd...</td>\n",
       "      <td>[v, envelope, ceastern, district, default, decree, condemnation, destruc, tion, d, c, sample, 45...</td>\n",
       "      <td>[envelope, ceastern, district, destruc, tion, 45525d, powder, potassium, bromide, caffeine, dang...</td>\n",
       "    </tr>\n",
       "    <tr>\n",
       "      <th>3</th>\n",
       "      <td>4.  of B-B Headache Powders. U. S. v. 596 Envelopes of B-B. .B-B Headache PowdersSpecialty Sales...</td>\n",
       "      <td>4  of bb headache powders u s v 596 envelopes of bb bb headache powdersspecialty sales co from a...</td>\n",
       "      <td>[powder, v, envelope, powdersspecialty, sale, co, ceastern, district, v, envelope, c, sample, 45...</td>\n",
       "      <td>[powder, envelope, powdersspecialty, sale, co, ceastern, district, envelope, 45524d, powder, pot...</td>\n",
       "    </tr>\n",
       "    <tr>\n",
       "      <th>4</th>\n",
       "      <td>5.  of Hed-Lyte. U. S. v. 93 Bottles of Hed-Lyte. .Hed-LyteHed-Lyte Co.March 6, 1939Shreveport, ...</td>\n",
       "      <td>5  of hedlyte u s v 93 bottles of hedlyte hedlytehedlyte comarch 6 1939shreveport lawestern dist...</td>\n",
       "      <td>[v, bottle, lawestern, district, s, v, bottle, hedlyte, default, decree, condemnation, destructi...</td>\n",
       "      <td>[bottle, lawestern, district, bottle, hedlyte, 38055d, drug, acetanilid, sodium, bromide, caffei...</td>\n",
       "    </tr>\n",
       "  </tbody>\n",
       "</table>\n",
       "</div>"
      ],
      "text/plain": [
       "                                                                                              combined  \\\n",
       "0  1.  of B. C. Headache Powders, U. S. v. 46 Dozen Packages of B. C. .B. C. Headache PowdersB. C. ...   \n",
       "1  2.  of Stanback Headache Powders. U. S. v. 309 Dozen Packages of Stanback Headache Powders. .Sta...   \n",
       "2  3.  of Goody's Headache Powder. U. S. v. 1,524 Envelopes of Goody's Headache Powder. .Goody's He...   \n",
       "3  4.  of B-B Headache Powders. U. S. v. 596 Envelopes of B-B. .B-B Headache PowdersSpecialty Sales...   \n",
       "4  5.  of Hed-Lyte. U. S. v. 93 Bottles of Hed-Lyte. .Hed-LyteHed-Lyte Co.March 6, 1939Shreveport, ...   \n",
       "\n",
       "                                                                                    abstract_processed  \\\n",
       "0  1  of b c headache powders u s v 46 dozen packages of b c b c headache powdersb c remedy conovem...   \n",
       "1  2  of stanback headache powders u s v 309 dozen packages of stanback headache powders stanback h...   \n",
       "2  3  of goodys headache powder u s v 1524 envelopes of goodys headache powder goodys headache powd...   \n",
       "3  4  of bb headache powders u s v 596 envelopes of bb bb headache powdersspecialty sales co from a...   \n",
       "4  5  of hedlyte u s v 93 bottles of hedlyte hedlytehedlyte comarch 6 1939shreveport lawestern dist...   \n",
       "\n",
       "                                                                                        abstract_lemma  \\\n",
       "0  [headache, powder, v, dozen, package, b, c, b, remedy, conovember, ganorthern, district, headach...   \n",
       "1  [stanback, powder, v, dozen, package, stanback, powder, stanback, co, cmarch, ganorthern, distri...   \n",
       "2  [v, envelope, ceastern, district, default, decree, condemnation, destruc, tion, d, c, sample, 45...   \n",
       "3  [powder, v, envelope, powdersspecialty, sale, co, ceastern, district, v, envelope, c, sample, 45...   \n",
       "4  [v, bottle, lawestern, district, s, v, bottle, hedlyte, default, decree, condemnation, destructi...   \n",
       "\n",
       "                                                                              abstract_processed_lemma  \n",
       "0  [headache, powder, dozen, package, remedy, conovember, ganorthern, district, headache, powder, d...  \n",
       "1  [stanback, powder, dozen, package, stanback, powder, stanback, co, cmarch, ganorthern, district,...  \n",
       "2  [envelope, ceastern, district, destruc, tion, 45525d, powder, potassium, bromide, caffeine, dang...  \n",
       "3  [powder, envelope, powdersspecialty, sale, co, ceastern, district, envelope, 45524d, powder, pot...  \n",
       "4  [bottle, lawestern, district, bottle, hedlyte, 38055d, drug, acetanilid, sodium, bromide, caffei...  "
      ]
     },
     "execution_count": 37,
     "metadata": {},
     "output_type": "execute_result"
    }
   ],
   "source": [
    "drugs_lda.head()"
   ]
  },
  {
   "cell_type": "code",
   "execution_count": 38,
   "metadata": {},
   "outputs": [],
   "source": [
    "# Create a corpus from a list of the texts\n",
    "texts = drugs_lda.sample(n=500, random_state=43)['abstract_processed_lemma'].values\n",
    "dictionary = corpora.Dictionary(texts)\n",
    "corpus = [dictionary.doc2bow(text) for text in texts]"
   ]
  },
  {
   "cell_type": "markdown",
   "metadata": {},
   "source": [
    "Build the LDA model"
   ]
  },
  {
   "cell_type": "code",
   "execution_count": 39,
   "metadata": {},
   "outputs": [],
   "source": [
    "n_topics=9\n",
    "\n",
    "my_lda = LdaModel(corpus, num_topics=n_topics, id2word=dictionary, random_state=42, minimum_probability=0)"
   ]
  },
  {
   "cell_type": "code",
   "execution_count": 40,
   "metadata": {},
   "outputs": [
    {
     "name": "stdout",
     "output_type": "stream",
     "text": [
      "Topic: 0\n",
      "(0, '0.012*\"label\" + 0.011*\"section\" + 0.009*\"drug\" + 0.009*\"use\" + 0.009*\"tablet\"')\n",
      "\n",
      "Topic: 1\n",
      "(1, '0.007*\"food\" + 0.007*\"use\" + 0.006*\"label\" + 0.006*\"vitamin\" + 0.006*\"court\"')\n",
      "\n",
      "Topic: 2\n",
      "(2, '0.007*\"allege\" + 0.006*\"label\" + 0.005*\"misleading\" + 0.005*\"drug\" + 0.005*\"use\"')\n",
      "\n",
      "Topic: 3\n",
      "(3, '0.008*\"use\" + 0.008*\"vitamin\" + 0.006*\"drug\" + 0.006*\"capsule\" + 0.006*\"allege\"')\n",
      "\n",
      "Topic: 4\n",
      "(4, '0.014*\"drug\" + 0.010*\"label\" + 0.009*\"bottle\" + 0.009*\"use\" + 0.009*\"section\"')\n",
      "\n",
      "Topic: 5\n",
      "(5, '0.021*\"tablet\" + 0.012*\"drug\" + 0.011*\"use\" + 0.009*\"section\" + 0.009*\"label\"')\n",
      "\n",
      "Topic: 6\n",
      "(6, '0.012*\"tablet\" + 0.007*\"device\" + 0.006*\"label\" + 0.006*\"bottle\" + 0.006*\"court\"')\n",
      "\n",
      "Topic: 7\n",
      "(7, '0.014*\"tablet\" + 0.009*\"drug\" + 0.009*\"vitamin\" + 0.007*\"treatment\" + 0.007*\"ship\"')\n",
      "\n",
      "Topic: 8\n",
      "(8, '0.017*\"tablet\" + 0.015*\"drug\" + 0.010*\"capsule\" + 0.010*\"sulfate\" + 0.008*\"charge\"')\n",
      "\n"
     ]
    }
   ],
   "source": [
    "# We can limit what is returned by specifying the number of topics we're interested in and the number of works to return\n",
    "num_topics = 9\n",
    "num_words = 5\n",
    "for ti, topic in enumerate(my_lda.show_topics(num_topics = num_topics, num_words= num_words)):\n",
    "    print(\"Topic: %d\" % (ti))\n",
    "    print (topic)\n",
    "    print()"
   ]
  },
  {
   "cell_type": "code",
   "execution_count": 41,
   "metadata": {},
   "outputs": [
    {
     "data": {
      "text/plain": [
       "0.5475896541981794"
      ]
     },
     "execution_count": 41,
     "metadata": {},
     "output_type": "execute_result"
    }
   ],
   "source": [
    "# How similar are topics? Remember cosine similarity from above. It's built-in to gensim letting us see how similar topics are to each other\n",
    "# how similar are topic 0 and 1 62%\n",
    "matutils.cossim(my_lda.get_topic_terms(0), my_lda.get_topic_terms(1))"
   ]
  },
  {
   "cell_type": "markdown",
   "metadata": {},
   "source": [
    "## Analyzing LDA model results  \n",
    "\n",
    "How similar are the topic words to each other, percentage-wise? Let's use Topic Coherence to measure the degree of semantic similarity between high scoring words in our first two topics 0 and 1."
   ]
  },
  {
   "cell_type": "code",
   "execution_count": 51,
   "metadata": {},
   "outputs": [
    {
     "name": "stdout",
     "output_type": "stream",
     "text": [
      "\n",
      "Coherence Score:  0.4588208681451842\n"
     ]
    }
   ],
   "source": [
    "# Compute Coherence Score\n",
    "coherence_model_lda = CoherenceModel(model=my_lda, texts=drugs_lda['abstract_processed_lemma'], dictionary=dictionary, coherence='c_v')\n",
    "coherence_lda = coherence_model_lda.get_coherence()\n",
    "print('\\nCoherence Score: ', coherence_lda)"
   ]
  },
  {
   "cell_type": "markdown",
   "metadata": {},
   "source": [
    "Coherence score is just ok assuming that C__v coherence scores can be interpreted to mean:\n",
    "- .3 is bad\n",
    "\n",
    "- .4 is low\n",
    "\n",
    "- .55 is okay\n",
    "\n",
    "- .65 might be as good as it is going to get\n",
    "\n",
    "- .7 is nice\n",
    "\n",
    "- .8 is unlikely and\n",
    "\n",
    "- .9 is probably wrong"
   ]
  },
  {
   "cell_type": "markdown",
   "metadata": {},
   "source": [
    "Can we get a better Coherence score? We can generate a list of 30 max topics and plot the average and standard deviations for all of them to see if there is a sweet spot better than the score we get from first two topics."
   ]
  },
  {
   "cell_type": "code",
   "execution_count": 52,
   "metadata": {},
   "outputs": [],
   "source": [
    "max_topics = 30\n",
    "coh_list = []\n",
    "for n_topics in range(3,max_topics+1):\n",
    "    # Train the model on the corpus\n",
    "    my_lda = LdaModel(corpus, num_topics=n_topics, id2word=dictionary, random_state=42, alpha=0.1)\n",
    "    # Estimate coherence\n",
    "    cm = CoherenceModel(model=my_lda, texts=texts, dictionary=dictionary, coherence='c_v', topn=20)\n",
    "    coherence = cm.get_coherence_per_topic() # get coherence value\n",
    "    coh_list.append(coherence)"
   ]
  },
  {
   "cell_type": "code",
   "execution_count": 53,
   "metadata": {},
   "outputs": [
    {
     "data": {
      "image/png": "[encoded data removed]",
      "text/plain": [
       "<Figure size 432x288 with 1 Axes>"
      ]
     },
     "metadata": {
      "needs_background": "light"
     },
     "output_type": "display_data"
    }
   ],
   "source": [
    "# Coherence scores:\n",
    "coh_means = np.array([np.mean(l) for l in coh_list])\n",
    "coh_stds = np.array([np.std(l) for l in coh_list])\n",
    "\n",
    "#import matplotlib.pyplot as plt\n",
    "#%matplotlib inline\n",
    "plt.xticks(np.arange(3, max_topics+1, 3.0));\n",
    "plt.plot(range(3,max_topics+1), coh_means);\n",
    "plt.fill_between(range(3,max_topics+1), coh_means-coh_stds, coh_means+coh_stds, color='g', alpha=0.1);\n",
    "plt.vlines([8, 9], 0.24, 0.26, color='red', linestyles='dashed',  linewidth=1);\n",
    "plt.hlines([0.253], 3, max_topics, color='black', linestyles='dotted',  linewidth=0.5);"
   ]
  },
  {
   "cell_type": "markdown",
   "metadata": {},
   "source": [
    "**It looks like we can bump the C_V to ~0.48 using 11 topics**"
   ]
  },
  {
   "cell_type": "code",
   "execution_count": 108,
   "metadata": {},
   "outputs": [],
   "source": [
    "n_topics=11\n",
    "\n",
    "my_lda = LdaModel(corpus, num_topics=n_topics, id2word=dictionary, random_state=42, minimum_probability=0)"
   ]
  },
  {
   "cell_type": "code",
   "execution_count": 109,
   "metadata": {},
   "outputs": [
    {
     "name": "stdout",
     "output_type": "stream",
     "text": [
      "Topic: 0\n",
      "(0, '0.013*\"section\" + 0.012*\"label\" + 0.012*\"tablet\" + 0.010*\"drug\" + 0.009*\"use\"')\n",
      "\n",
      "Topic: 1\n",
      "(1, '0.011*\"vitamin\" + 0.008*\"use\" + 0.007*\"allege\" + 0.007*\"food\" + 0.007*\"drug\"')\n",
      "\n",
      "Topic: 2\n",
      "(2, '0.018*\"vitamin\" + 0.012*\"capsule\" + 0.010*\"tablet\" + 0.010*\"count\" + 0.010*\"drug\"')\n",
      "\n",
      "Topic: 3\n",
      "(3, '0.010*\"drug\" + 0.009*\"tablet\" + 0.009*\"label\" + 0.009*\"charge\" + 0.009*\"file\"')\n",
      "\n",
      "Topic: 4\n",
      "(4, '0.014*\"drug\" + 0.012*\"device\" + 0.009*\"use\" + 0.009*\"court\" + 0.007*\"misleading\"')\n",
      "\n",
      "Topic: 5\n",
      "(5, '0.008*\"device\" + 0.008*\"allege\" + 0.007*\"charge\" + 0.007*\"drug\" + 0.007*\"treatment\"')\n",
      "\n",
      "Topic: 6\n",
      "(6, '0.020*\"tablet\" + 0.016*\"drug\" + 0.011*\"capsule\" + 0.009*\"use\" + 0.007*\"label\"')\n",
      "\n",
      "Topic: 7\n",
      "(7, '0.010*\"use\" + 0.009*\"ship\" + 0.008*\"charge\" + 0.007*\"label\" + 0.007*\"allege\"')\n",
      "\n",
      "Topic: 8\n",
      "(8, '0.030*\"tablet\" + 0.011*\"drug\" + 0.010*\"label\" + 0.008*\"ship\" + 0.008*\"allege\"')\n",
      "\n",
      "Topic: 9\n",
      "(9, '0.010*\"drug\" + 0.007*\"ship\" + 0.007*\"capsule\" + 0.006*\"charge\" + 0.006*\"libel\"')\n",
      "\n",
      "Topic: 10\n",
      "(10, '0.008*\"bottle\" + 0.008*\"label\" + 0.008*\"drug\" + 0.008*\"tablet\" + 0.007*\"section\"')\n",
      "\n"
     ]
    }
   ],
   "source": [
    "# We can limit what is returned by specifying the number of topics we're interested in and the number of works to return\n",
    "num_topics = 11\n",
    "num_words = 5\n",
    "for ti, topic in enumerate(my_lda.show_topics(num_topics = num_topics, num_words= num_words)):\n",
    "    print(\"Topic: %d\" % (ti))\n",
    "    print (topic)\n",
    "    print()"
   ]
  },
  {
   "cell_type": "code",
   "execution_count": 110,
   "metadata": {},
   "outputs": [
    {
     "data": {
      "text/plain": [
       "0.4582808123292886"
      ]
     },
     "execution_count": 110,
     "metadata": {},
     "output_type": "execute_result"
    }
   ],
   "source": [
    "# How similar are topics? Remember cosine similarity from above. It's built-in to gensim letting us see how similar topics are to each other\n",
    "# how similar are topic 0 and 1 62%\n",
    "matutils.cossim(my_lda.get_topic_terms(0), my_lda.get_topic_terms(1))"
   ]
  },
  {
   "cell_type": "code",
   "execution_count": 111,
   "metadata": {},
   "outputs": [
    {
     "name": "stdout",
     "output_type": "stream",
     "text": [
      "\n",
      "Coherence Score:  0.4771637646427463\n"
     ]
    }
   ],
   "source": [
    "# Compute Coherence Score\n",
    "coherence_model_lda = CoherenceModel(model=my_lda, texts=drugs_lda['abstract_processed_lemma'], dictionary=dictionary, coherence='c_v')\n",
    "coherence_lda = coherence_model_lda.get_coherence()\n",
    "print('\\nCoherence Score: ', coherence_lda)"
   ]
  },
  {
   "cell_type": "markdown",
   "metadata": {},
   "source": [
    "## Using our domain knowledge, what topics do I see emerge?\n",
    "\n",
    "- Cases about tablet labelling (twice)\n",
    "- Drug tablet court cases. Yes, we know that already\n",
    "- Vitamin tablet labeling. Somewhat interesting; didn't realize vitamins were so prevalent; I expected ```amphetamine``` to be more prevalent\n",
    "- Drug and device labeling. Yes, we know this already; the data set is defined as ```drugs and devices```"
   ]
  },
  {
   "cell_type": "markdown",
   "metadata": {},
   "source": [
    "**Our co-similarity percentage for the first two topics increased slightly, but C_V did not increase meaningfully nor get to the estimated 0.48 range. We could engineer to add even more stopwords, but may likely never reach the end knowing that the writing style for this set of FDANJ cases is very stylized with lots of legaleese, so let's move forward with some interesting visualization demonstration.**"
   ]
  },
  {
   "cell_type": "markdown",
   "metadata": {},
   "source": [
    "## Visualization  \n",
    "\n",
    "Using pyLDAvis, let's see how the topics rank based on **relevance** rather than **coherence**. Hopefully a visualization will surface the topics more easily.\n",
    "\n",
    "pyLDAvis gives us:\n",
    "- a left panel that depicts a global view of the model (how prevalent each topic is and how topics relate to each other);\n",
    "- a right panel containing a bar chart – the bars represent the terms that are most useful in interpreting the topic currently selected (what the meaning of each topic is).\n",
    "\n",
    "On the left, the topics are plotted as circles whose centers are defined by the computed distance between topics. The circle's area indicates the prevalence of each topic. On the right, two juxtaposed bars display the topic-specific frequency of each term (in red) and the corpus-wide frequency (in blueish gray). When no topic is selected, the right panel displays the top 30 most relevant terms for the dataset."
   ]
  },
  {
   "cell_type": "markdown",
   "metadata": {},
   "source": [
    "## LDA Topic Model with 6 topics"
   ]
  },
  {
   "cell_type": "code",
   "execution_count": 42,
   "metadata": {},
   "outputs": [],
   "source": [
    "# Reloading our model with 6 topics\n",
    "n_topics=6\n",
    "n_top_words = 30\n",
    "my_lda = LdaModel(corpus, num_topics=n_topics, id2word=dictionary, random_state=42, minimum_probability=0)"
   ]
  },
  {
   "cell_type": "markdown",
   "metadata": {},
   "source": [
    "**Using pyLDAvis let's visualize our topics in our feature space to see how divergent they were.**\n"
   ]
  },
  {
   "cell_type": "markdown",
   "metadata": {},
   "source": [
    "&nbsp;"
   ]
  },
  {
   "cell_type": "markdown",
   "metadata": {},
   "source": [
    "## Latent Dirichlet Allocation Visualization"
   ]
  },
  {
   "cell_type": "code",
   "execution_count": 43,
   "metadata": {},
   "outputs": [
    {
     "data": {
      "text/html": [
       "\n",
       "<link rel=\"stylesheet\" type=\"text/css\" href=\"https://cdn.rawgit.com/bmabey/pyLDAvis/files/ldavis.v1.0.0.css\">\n",
       "\n",
       "\n",
       "<div id=\"ldavis_el1495620809065617201744096176\"></div>\n",
       "<script type=\"text/javascript\">\n",
       "\n",
       "var ldavis_el1495620809065617201744096176_data = {\"mdsDat\": {\"x\": [-0.0104648931038005, -0.033088374845163165, 0.02615896984310928, -0.013451038807675697, 0.016935148151078522, 0.013910188762451592], \"y\": [0.0035290344796643077, -0.008748345104253192, -0.018097195372793258, 0.003036662183171922, -0.006738523573903387, 0.027018367388113577], \"topics\": [1, 2, 3, 4, 5, 6], \"cluster\": [1, 1, 1, 1, 1, 1], \"Freq\": [29.193077087402344, 21.592374801635742, 20.597978591918945, 15.444443702697754, 7.881260871887207, 5.290868282318115]}, \"tinfo\": {\"Category\": [\"Default\", \"Default\", \"Default\", \"Default\", \"Default\", \"Default\", \"Default\", \"Default\", \"Default\", \"Default\", \"Default\", \"Default\", \"Default\", \"Default\", \"Default\", \"Default\", \"Default\", \"Default\", \"Default\", \"Default\", \"Default\", \"Default\", \"Default\", \"Default\", \"Default\", \"Default\", \"Default\", \"Default\", \"Default\", \"Default\", \"Topic1\", \"Topic1\", \"Topic1\", \"Topic1\", \"Topic1\", \"Topic1\", \"Topic1\", \"Topic1\", \"Topic1\", \"Topic1\", \"Topic1\", \"Topic1\", \"Topic1\", \"Topic1\", \"Topic1\", \"Topic1\", \"Topic1\", \"Topic1\", \"Topic1\", \"Topic1\", \"Topic1\", \"Topic1\", \"Topic1\", \"Topic1\", \"Topic1\", \"Topic1\", \"Topic1\", \"Topic1\", \"Topic1\", \"Topic1\", \"Topic1\", \"Topic1\", \"Topic1\", \"Topic1\", \"Topic1\", \"Topic1\", \"Topic1\", \"Topic1\", \"Topic1\", \"Topic1\", \"Topic1\", \"Topic1\", \"Topic1\", \"Topic1\", \"Topic1\", \"Topic1\", \"Topic1\", \"Topic1\", \"Topic1\", \"Topic1\", \"Topic1\", \"Topic1\", \"Topic1\", \"Topic1\", \"Topic1\", \"Topic1\", \"Topic1\", \"Topic1\", \"Topic1\", \"Topic1\", \"Topic1\", \"Topic1\", \"Topic1\", \"Topic1\", \"Topic1\", \"Topic1\", \"Topic1\", \"Topic1\", \"Topic1\", \"Topic1\", \"Topic1\", \"Topic1\", \"Topic1\", \"Topic1\", \"Topic1\", \"Topic1\", \"Topic1\", \"Topic2\", \"Topic2\", \"Topic2\", \"Topic2\", \"Topic2\", \"Topic2\", \"Topic2\", \"Topic2\", \"Topic2\", \"Topic2\", \"Topic2\", \"Topic2\", \"Topic2\", \"Topic2\", \"Topic2\", \"Topic2\", \"Topic2\", \"Topic2\", \"Topic2\", \"Topic2\", \"Topic2\", \"Topic2\", \"Topic2\", \"Topic2\", \"Topic2\", \"Topic2\", \"Topic2\", \"Topic2\", \"Topic2\", \"Topic2\", \"Topic2\", \"Topic2\", \"Topic2\", \"Topic2\", \"Topic2\", \"Topic2\", \"Topic2\", \"Topic2\", \"Topic2\", \"Topic2\", \"Topic2\", \"Topic2\", \"Topic2\", \"Topic2\", \"Topic2\", \"Topic2\", \"Topic2\", \"Topic2\", \"Topic2\", \"Topic2\", \"Topic2\", \"Topic2\", \"Topic2\", \"Topic2\", \"Topic2\", \"Topic2\", \"Topic2\", \"Topic2\", \"Topic2\", \"Topic2\", \"Topic2\", \"Topic2\", \"Topic2\", \"Topic2\", \"Topic2\", \"Topic2\", \"Topic2\", \"Topic2\", \"Topic2\", \"Topic2\", \"Topic2\", \"Topic2\", \"Topic2\", \"Topic2\", \"Topic2\", \"Topic2\", \"Topic2\", \"Topic2\", \"Topic2\", \"Topic3\", \"Topic3\", \"Topic3\", \"Topic3\", \"Topic3\", \"Topic3\", \"Topic3\", \"Topic3\", \"Topic3\", \"Topic3\", \"Topic3\", \"Topic3\", \"Topic3\", \"Topic3\", \"Topic3\", \"Topic3\", \"Topic3\", \"Topic3\", \"Topic3\", \"Topic3\", \"Topic3\", \"Topic3\", \"Topic3\", \"Topic3\", \"Topic3\", \"Topic3\", \"Topic3\", \"Topic3\", \"Topic3\", \"Topic3\", \"Topic3\", \"Topic3\", \"Topic3\", \"Topic3\", \"Topic3\", \"Topic3\", \"Topic3\", \"Topic3\", \"Topic3\", \"Topic3\", \"Topic3\", \"Topic3\", \"Topic3\", \"Topic3\", \"Topic3\", \"Topic3\", \"Topic3\", \"Topic3\", \"Topic3\", \"Topic3\", \"Topic3\", \"Topic3\", \"Topic3\", \"Topic3\", \"Topic3\", \"Topic3\", \"Topic3\", \"Topic3\", \"Topic3\", \"Topic3\", \"Topic3\", \"Topic3\", \"Topic3\", \"Topic3\", \"Topic3\", \"Topic3\", \"Topic3\", \"Topic3\", \"Topic3\", \"Topic3\", \"Topic3\", \"Topic3\", \"Topic3\", \"Topic3\", \"Topic3\", \"Topic3\", \"Topic3\", \"Topic3\", \"Topic3\", \"Topic3\", \"Topic3\", \"Topic3\", \"Topic3\", \"Topic4\", \"Topic4\", \"Topic4\", \"Topic4\", \"Topic4\", \"Topic4\", \"Topic4\", \"Topic4\", \"Topic4\", \"Topic4\", \"Topic4\", \"Topic4\", \"Topic4\", \"Topic4\", \"Topic4\", \"Topic4\", \"Topic4\", \"Topic4\", \"Topic4\", \"Topic4\", \"Topic4\", \"Topic4\", \"Topic4\", \"Topic4\", \"Topic4\", \"Topic4\", \"Topic4\", \"Topic4\", \"Topic4\", \"Topic4\", \"Topic4\", \"Topic4\", \"Topic4\", \"Topic4\", \"Topic4\", \"Topic4\", \"Topic4\", \"Topic4\", \"Topic4\", \"Topic4\", \"Topic4\", \"Topic4\", \"Topic4\", \"Topic4\", \"Topic4\", \"Topic4\", \"Topic4\", \"Topic4\", \"Topic4\", \"Topic4\", \"Topic4\", \"Topic4\", \"Topic4\", \"Topic4\", \"Topic4\", \"Topic4\", \"Topic4\", \"Topic4\", \"Topic4\", \"Topic4\", \"Topic4\", \"Topic4\", \"Topic4\", \"Topic4\", \"Topic4\", \"Topic4\", \"Topic4\", \"Topic4\", \"Topic4\", \"Topic4\", \"Topic4\", \"Topic4\", \"Topic4\", \"Topic4\", \"Topic4\", \"Topic4\", \"Topic4\", \"Topic4\", \"Topic4\", \"Topic4\", \"Topic4\", \"Topic4\", \"Topic4\", \"Topic4\", \"Topic4\", \"Topic4\", \"Topic4\", \"Topic4\", \"Topic5\", \"Topic5\", \"Topic5\", \"Topic5\", \"Topic5\", \"Topic5\", \"Topic5\", \"Topic5\", \"Topic5\", \"Topic5\", \"Topic5\", \"Topic5\", \"Topic5\", \"Topic5\", \"Topic5\", \"Topic5\", \"Topic5\", \"Topic5\", \"Topic5\", \"Topic5\", \"Topic5\", \"Topic5\", \"Topic5\", \"Topic5\", \"Topic5\", \"Topic5\", \"Topic5\", \"Topic5\", \"Topic5\", \"Topic5\", \"Topic5\", \"Topic5\", \"Topic5\", \"Topic5\", \"Topic5\", \"Topic5\", \"Topic5\", \"Topic5\", \"Topic5\", \"Topic5\", \"Topic5\", \"Topic5\", \"Topic5\", \"Topic5\", \"Topic5\", \"Topic5\", \"Topic5\", \"Topic5\", \"Topic5\", \"Topic5\", \"Topic5\", \"Topic5\", \"Topic5\", \"Topic5\", \"Topic5\", \"Topic5\", \"Topic5\", \"Topic5\", \"Topic5\", \"Topic5\", \"Topic5\", \"Topic5\", \"Topic5\", \"Topic5\", \"Topic5\", \"Topic5\", \"Topic5\", \"Topic5\", \"Topic5\", \"Topic5\", \"Topic5\", \"Topic5\", \"Topic5\", \"Topic5\", \"Topic5\", \"Topic5\", \"Topic5\", \"Topic5\", \"Topic5\", \"Topic5\", \"Topic5\", \"Topic5\", \"Topic5\", \"Topic5\", \"Topic6\", \"Topic6\", \"Topic6\", \"Topic6\", \"Topic6\", \"Topic6\", \"Topic6\", \"Topic6\", \"Topic6\", \"Topic6\", \"Topic6\", \"Topic6\", \"Topic6\", \"Topic6\", \"Topic6\", \"Topic6\", \"Topic6\", \"Topic6\", \"Topic6\", \"Topic6\", \"Topic6\", \"Topic6\", \"Topic6\", \"Topic6\", \"Topic6\", \"Topic6\", \"Topic6\", \"Topic6\", \"Topic6\", \"Topic6\", \"Topic6\", \"Topic6\", \"Topic6\", \"Topic6\", \"Topic6\", \"Topic6\", \"Topic6\", \"Topic6\", \"Topic6\", \"Topic6\", \"Topic6\", \"Topic6\", \"Topic6\", \"Topic6\", \"Topic6\", \"Topic6\", \"Topic6\", \"Topic6\", \"Topic6\", \"Topic6\", \"Topic6\", \"Topic6\", \"Topic6\", \"Topic6\", \"Topic6\", \"Topic6\", \"Topic6\", \"Topic6\", \"Topic6\", \"Topic6\", \"Topic6\", \"Topic6\", \"Topic6\", \"Topic6\", \"Topic6\", \"Topic6\", \"Topic6\", \"Topic6\", \"Topic6\", \"Topic6\", \"Topic6\", \"Topic6\", \"Topic6\", \"Topic6\", \"Topic6\", \"Topic6\", \"Topic6\", \"Topic6\", \"Topic6\"], \"Freq\": [917.0, 405.0, 399.0, 445.0, 513.0, 85.0, 367.0, 617.0, 284.0, 258.0, 201.0, 90.0, 245.0, 315.0, 149.0, 612.0, 159.0, 264.0, 267.0, 505.0, 330.0, 239.0, 219.0, 255.0, 248.0, 810.0, 339.0, 74.0, 321.0, 152.0, 6.9345703125, 5.192549705505371, 13.066863059997559, 4.480694770812988, 2.160452365875244, 2.873274564743042, 8.040074348449707, 5.662335395812988, 3.494894027709961, 2.8361740112304688, 2.773071050643921, 5.5078535079956055, 5.06976318359375, 15.357281684875488, 2.4179751873016357, 1.9464055299758911, 3.271693468093872, 5.023841381072998, 1.9116803407669067, 5.6814656257629395, 3.2864160537719727, 1.89015531539917, 1.8685394525527954, 2.6166861057281494, 2.5044944286346436, 3.814495086669922, 1.832116961479187, 3.8142447471618652, 1.849961519241333, 1.8918633460998535, 5.348938465118408, 10.422621726989746, 191.60670471191406, 36.545982360839844, 29.692014694213867, 4.857776165008545, 163.7548065185547, 340.7406005859375, 151.3792266845703, 38.19264602661133, 108.93608093261719, 62.88105773925781, 29.364789962768555, 178.59336853027344, 72.72235107421875, 172.0480194091797, 68.95085144042969, 164.66256713867188, 113.63656616210938, 33.47039031982422, 119.41201782226562, 54.38315200805664, 65.34304809570312, 175.5082244873047, 50.71357727050781, 169.79098510742188, 95.85549926757812, 199.51217651367188, 66.82048797607422, 79.8064956665039, 185.8625030517578, 161.077880859375, 98.07958221435547, 236.5122833251953, 95.19904327392578, 148.40943908691406, 87.72942352294922, 99.83981323242188, 110.34564208984375, 107.80497741699219, 116.72755432128906, 130.97564697265625, 110.04851531982422, 84.16987609863281, 89.40446472167969, 86.79622650146484, 86.93989562988281, 9.915231704711914, 6.699831962585449, 5.778659343719482, 4.592283725738525, 5.024957180023193, 18.028759002685547, 2.0382609367370605, 2.03788685798645, 2.0377848148345947, 2.037508726119995, 2.0374703407287598, 2.037226676940918, 2.0363998413085938, 3.261314868927002, 2.613030433654785, 1.9992969036102295, 2.0000903606414795, 2.5619401931762695, 4.584464073181152, 1.9420890808105469, 2.531672477722168, 1.866283655166626, 1.870110273361206, 1.841138243675232, 1.874587059020996, 1.802267074584961, 2.358412265777588, 30.737581253051758, 1.7474662065505981, 1.7841686010360718, 3.6205286979675293, 4.296416759490967, 5.226686954498291, 4.201136112213135, 25.286235809326172, 83.73815155029297, 13.042459487915039, 409.7152404785156, 7.37748908996582, 88.23773193359375, 167.845947265625, 43.49618911743164, 118.71726989746094, 76.16185760498047, 7.741976737976074, 42.209678649902344, 7.057863712310791, 6.092739582061768, 86.87862396240234, 19.109241485595703, 88.99058532714844, 102.3556900024414, 147.63108825683594, 59.944122314453125, 92.85250091552734, 13.034300804138184, 160.3776092529297, 68.60250854492188, 112.20458984375, 197.08963012695312, 134.31637573242188, 83.12787628173828, 129.1107635498047, 67.4173812866211, 58.78896713256836, 118.85997772216797, 78.34972381591797, 135.191162109375, 89.0648193359375, 75.5296859741211, 83.494140625, 87.18025970458984, 88.38349914550781, 85.71246337890625, 72.54837036132812, 74.9129638671875, 74.68919372558594, 83.71239471435547, 77.93164825439453, 3.978294610977173, 35.288333892822266, 5.055882453918457, 2.2147603034973145, 2.1528990268707275, 37.09391403198242, 2.101693630218506, 2.1014819145202637, 7.189792156219482, 1.3301122188568115, 4.1143879890441895, 9.711348533630371, 4.078186988830566, 1.3032610416412354, 1.241371512413025, 1.9293344020843506, 1.2434200048446655, 1.8979390859603882, 6.216945648193359, 1.2011290788650513, 1.2209820747375488, 2.355816602706909, 1.2058839797973633, 3.548739433288574, 2.300999641418457, 6.2864251136779785, 1.719546914100647, 1.1796596050262451, 3.8051552772521973, 1.7010422945022583, 21.98997688293457, 4.5590362548828125, 16.468557357788086, 9.56441593170166, 71.32090759277344, 4.78516149520874, 17.349201202392578, 62.307594299316406, 29.276805877685547, 94.13922882080078, 125.83527374267578, 16.2916259765625, 24.654560089111328, 5.6162872314453125, 115.82634735107422, 37.95195388793945, 42.326133728027344, 29.207124710083008, 31.41254234313965, 27.313386917114258, 17.223648071289062, 84.76746368408203, 59.09598159790039, 72.27876281738281, 39.10017395019531, 95.70260620117188, 20.715696334838867, 84.84205627441406, 34.52997589111328, 29.09385871887207, 54.2272834777832, 48.18770217895508, 63.48827362060547, 84.93435668945312, 57.06625747680664, 103.83560943603516, 56.40008544921875, 64.31131744384766, 65.24882507324219, 77.78312683105469, 78.44366455078125, 93.4266586303711, 49.33269119262695, 77.77313995361328, 58.808650970458984, 75.23236846923828, 75.97954559326172, 93.41446685791016, 67.7804183959961, 53.29717254638672, 75.5860366821289, 55.80912399291992, 55.56318664550781, 6.142019748687744, 2.6351637840270996, 1.8567228317260742, 4.428463935852051, 5.347458839416504, 3.573767900466919, 1.6830495595932007, 2.8496274948120117, 1.6285496950149536, 1.000917673110962, 1.0008527040481567, 1.00081205368042, 1.0007874965667725, 1.0007061958312988, 1.0006098747253418, 1.0006718635559082, 1.000428557395935, 1.0003336668014526, 1.0004370212554932, 1.0003939867019653, 1.0003292560577393, 2.080658435821533, 0.9837821125984192, 0.9822807908058167, 0.9781678318977356, 0.9750872254371643, 0.9710882902145386, 0.9715492129325867, 0.9727898836135864, 0.9675546884536743, 15.23362922668457, 2.9837162494659424, 11.823643684387207, 38.83831024169922, 2.4421870708465576, 46.66389465332031, 7.69003963470459, 4.36583948135376, 3.3074491024017334, 1.9433330297470093, 17.91130256652832, 19.92626953125, 2.809536933898926, 3.605175018310547, 1.3966426849365234, 2.268298625946045, 6.890769004821777, 26.232934951782227, 10.169108390808105, 18.15646743774414, 11.318682670593262, 30.047748565673828, 35.22134780883789, 13.649328231811523, 132.5084991455078, 79.02368927001953, 107.54181671142578, 30.441577911376953, 69.67196655273438, 90.90301513671875, 39.96394348144531, 50.35169219970703, 64.92025756835938, 41.27226257324219, 65.00687408447266, 46.484771728515625, 132.1345672607422, 86.94267272949219, 56.36625671386719, 55.53263854980469, 95.30945587158203, 115.2633056640625, 81.99992370605469, 62.6135368347168, 50.07215118408203, 40.37443161010742, 70.56695556640625, 64.70289611816406, 51.97517776489258, 53.436378479003906, 48.77674102783203, 56.298851013183594, 51.73252868652344, 44.52059555053711, 42.573631286621094, 44.206180572509766, 44.01232147216797, 43.01301956176758, 3.023197889328003, 0.7410098910331726, 0.7406749129295349, 1.7906372547149658, 1.5584324598312378, 0.9186334609985352, 1.8969820737838745, 1.5835696458816528, 0.9006590843200684, 0.8642266988754272, 2.3989055156707764, 1.1554031372070312, 0.5503870248794556, 0.7912846803665161, 0.534107506275177, 0.7694516777992249, 0.5418095588684082, 0.817724883556366, 0.7984613180160522, 0.5201785564422607, 0.5214258432388306, 0.517596960067749, 0.5182445049285889, 0.9594739079475403, 0.5121410489082336, 1.2976031303405762, 1.012752652168274, 0.5072786211967468, 0.504593551158905, 0.5116742849349976, 0.7778547406196594, 2.5563459396362305, 2.8529579639434814, 1.8021652698516846, 2.436840295791626, 6.484034538269043, 1.8673874139785767, 4.045993804931641, 2.3143303394317627, 2.5488147735595703, 8.140957832336426, 52.63780975341797, 7.813636302947998, 13.527575492858887, 36.4332160949707, 47.195133209228516, 33.0036506652832, 7.034599304199219, 18.828500747680664, 36.92646789550781, 7.640907287597656, 4.799963474273682, 22.810606002807617, 29.304609298706055, 10.878971099853516, 45.657352447509766, 29.576696395874023, 17.85869598388672, 12.820746421813965, 16.598949432373047, 27.936664581298828, 10.985867500305176, 31.747209548950195, 34.72177505493164, 14.175532341003418, 21.189682006835938, 19.093433380126953, 45.2908821105957, 14.547446250915527, 39.51148986816406, 26.305177688598633, 31.481863021850586, 27.562301635742188, 27.030479431152344, 22.125070571899414, 23.110061645507812, 14.697736740112305, 19.378389358520508, 20.123884201049805, 19.17461585998535, 22.459226608276367, 21.263797760009766, 20.426530838012695, 19.152973175048828, 1.564095139503479, 1.0305705070495605, 0.9980133175849915, 0.9401922821998596, 1.2276325225830078, 1.8205267190933228, 1.4194750785827637, 0.5764827728271484, 0.5764152407646179, 0.5762062668800354, 0.566952645778656, 0.565224826335907, 0.5616069436073303, 0.5565447211265564, 0.5550059676170349, 0.5533416867256165, 1.8845767974853516, 1.339945912361145, 1.8648796081542969, 0.7776468396186829, 0.515447199344635, 0.5088717341423035, 1.2571243047714233, 1.0023128986358643, 2.208346366882324, 0.755952775478363, 1.5347753763198853, 0.9632337689399719, 1.7364494800567627, 1.1963962316513062, 5.64041805267334, 17.77669906616211, 8.784135818481445, 2.1403756141662598, 12.53834056854248, 1.595912218093872, 2.6092348098754883, 6.322750568389893, 3.225929021835327, 1.5946543216705322, 17.735034942626953, 1.6654695272445679, 19.897794723510742, 13.7933931350708, 10.787066459655762, 17.89278221130371, 18.413694381713867, 13.006766319274902, 17.770587921142578, 25.923749923706055, 23.392501831054688, 15.632513999938965, 12.165173530578613, 10.846475601196289, 11.854567527770996, 15.731633186340332, 25.055633544921875, 9.107536315917969, 21.96082878112793, 9.720417976379395, 19.256986618041992, 16.974008560180664, 12.458357810974121, 19.562654495239258, 13.617936134338379, 18.84987449645996, 18.15277671813965, 19.677379608154297, 24.69900131225586, 20.966920852661133, 16.09294319152832, 17.176759719848633, 13.155356407165527, 15.357357025146484, 18.568532943725586, 14.567700386047363, 13.713637351989746, 13.751084327697754, 13.611096382141113], \"Term\": [\"tablet\", \"capsule\", \"vitamin\", \"misleading\", \"allege\", \"hair\", \"food\", \"label\", \"condition\", \"disease\", \"show\", \"prophylactic\", \"claimant\", \"represent\", \"dispense\", \"use\", \"cancer\", \"enter\", \"sodium\", \"charge\", \"device\", \"name\", \"make\", \"dist\", \"result\", \"drug\", \"misbrande\", \"solution\", \"disposition\", \"water\", \"kephart\", \"canister\", \"suture\", \"orchic\", \"wanner\", \"dolcin\", \"salvage\", \"husk\", \"oilacidiodine\", \"glanf\", \"plantago\", \"psyllium\", \"packet\", \"instapep\", \"ind\", \"pair\", \"witsell\", \"dyes\", \"fluidounce\", \"arvil\", \"barrel\", \"rheumago\", \"series\", \"codliver\", \"fight\", \"stoboki\", \"pany\", \"crate\", \"fumigate\", \"wormseed\", \"craven\", \"conjugated\", \"bottle\", \"clinic\", \"medicine\", \"bunion\", \"bear\", \"drug\", \"misbrande\", \"report\", \"claimant\", \"motion\", \"cosmetic\", \"treatment\", \"cancer\", \"court\", \"government\", \"libel\", \"sale\", \"provision\", \"case\", \"answer\", \"formula\", \"file\", \"take\", \"section\", \"judgment\", \"label\", \"ingredient\", \"hold\", \"use\", \"allege\", \"fail\", \"tablet\", \"adequate\", \"charge\", \"package\", \"quantity\", \"effective\", \"order\", \"food\", \"misleading\", \"ship\", \"enter\", \"district\", \"sulfate\", \"capsule\", \"roundworm\", \"cohesive\", \"bantex\", \"wheeler\", \"equanil\", \"secobarbital\", \"thorazine\", \"ballam\", \"moflfitt\", \"elbert\", \"utahdist\", \"gap\", \"mont\", \"higgin\", \"highland\", \"bpinephrin\", \"simonsen\", \"maleate\", \"gantrisin\", \"intramuscularly\", \"finney\", \"carbromal\", \"ille\", \"grime\", \"vevoron\", \"miltown\", \"banthine\", \"dexedrine\", \"chlor\", \"ergotrate\", \"nicotine\", \"firstaid\", \"sulfamethazine\", \"massdist\", \"mixture\", \"dispense\", \"prescriber\", \"tablet\", \"benzedrine\", \"count\", \"capsule\", \"box\", \"sulfate\", \"prescription\", \"electronic\", \"probation\", \"spansule\", \"teething\", \"dist\", \"twice\", \"sodium\", \"disposition\", \"charge\", \"time\", \"fine\", \"authorization\", \"use\", \"information\", \"ship\", \"drug\", \"file\", \"plea\", \"allege\", \"guilty\", \"direction\", \"section\", \"fail\", \"label\", \"effective\", \"adequate\", \"device\", \"bear\", \"libel\", \"vitamin\", \"quantity\", \"represent\", \"district\", \"misleading\", \"treatment\", \"streptomycin\", \"absorbent\", \"suspension\", \"mm\", \"griffon\", \"cotton\", \"maizel\", \"station\", \"herbal\", \"37091k\", \"shiatsuryoki\", \"dandelion\", \"equine\", \"costsnembutal\", \"thermometerscornell\", \"packagesadhesive\", \"reprocessedabsorbent\", \"cottonacme\", \"urine\", \"suspensionprocaine\", \"87171e\", \"marrow\", \"cotten\", \"roast\", \"brine\", \"lange\", \"season\", \"hull\", \"rauwolfia\", \"smorgasbord\", \"watkin\", \"beverage\", \"adhesive\", \"instrument\", \"btl\", \"essence\", \"herb\", \"say\", \"ailment\", \"disease\", \"food\", \"offer\", \"vial\", \"chloral\", \"vitamin\", \"complaint\", \"deficiency\", \"well\", \"blood\", \"diet\", \"eye\", \"order\", \"mineral\", \"part\", \"person\", \"court\", \"test\", \"ship\", \"powder\", \"know\", \"make\", \"also\", \"condition\", \"misleading\", \"state\", \"use\", \"package\", \"case\", \"represent\", \"libel\", \"treatment\", \"label\", \"cause\", \"charge\", \"fine\", \"file\", \"allege\", \"drug\", \"section\", \"shipment\", \"tablet\", \"district\", \"effective\", \"corbin\", \"costal\", \"sbeep\", \"dencker\", \"sesame\", \"wormer\", \"scrap\", \"latex\", \"town\", \"agricultural\", \"modistrict\", \"97657f\", \"20o\", \"corbin4\", \"destructionprophylacticskillashun\", \"cogan\", \"coroirt\", \"10225h\", \"silvertown\", \"clipper\", \"osborne\", \"scientifically\", \"grossprophylacticsiver\", \"lab\", \"hitt\", \"oratory\", \"dropsernest\", \"71248f\", \"resin\", \"feather\", \"hole\", \"matlock\", \"defective\", \"gross\", \"discharge\", \"prophylactic\", \"halomist\", \"saccharin\", \"wyatt\", \"saftway\", \"miracle\", \"salt\", \"partly\", \"fitl\", \"fultondale\", \"sursan\", \"truck\", \"trading\", \"cream\", \"extract\", \"drop\", \"substance\", \"efficacious\", \"estrogenic\", \"label\", \"device\", \"section\", \"percent\", \"represent\", \"misleading\", \"purpose\", \"guilty\", \"district\", \"oil\", \"disposition\", \"nature\", \"tablet\", \"allege\", \"fail\", \"plea\", \"use\", \"drug\", \"charge\", \"bear\", \"enter\", \"direction\", \"file\", \"court\", \"fine\", \"misbrande\", \"quantity\", \"treatment\", \"libel\", \"part\", \"dist\", \"bottle\", \"ship\", \"vitamin\", \"digitoxin\", \"shapiro\", \"tabletsnorman\", \"vapor\", \"haloid\", \"nascent\", \"sedamar\", \"peptron\", \"haemoglobin\", \"theradophilus\", \"probese\", \"chlorogen\", \"capsulesbeauty\", \"swiss\", \"segundo\", \"toxemia\", \"lvito\", \"peptonized\", \"supplementary\", \"tjsp\", \"brittleness\", \"prodacedpy\", \"inc101657el\", \"vegewhey\", \"indefi\", \"generator\", \"bacillus\", \"capsuleshelena\", \"deface\", \"yearspentobarbital\", \"myasthene\", \"chlorine\", \"laken\", \"cobiplex\", \"culture\", \"elixir\", \"disintegration\", \"gas\", \"mattress\", \"utrajel\", \"life\", \"vitamin\", \"reprint\", \"page\", \"condition\", \"capsule\", \"disease\", \"muscle\", \"deficiency\", \"food\", \"graphic\", \"source\", \"make\", \"represent\", \"diet\", \"use\", \"device\", \"cancer\", \"amount\", \"claim\", \"effective\", \"well\", \"misleading\", \"allege\", \"body\", \"name\", \"show\", \"tablet\", \"follow\", \"drug\", \"treatment\", \"label\", \"charge\", \"section\", \"misbrande\", \"ship\", \"matter\", \"quantity\", \"order\", \"case\", \"file\", \"court\", \"libel\", \"disposition\", \"harkness\", \"lens\", \"capsulesgeorge\", \"turner\", \"sulfacetamide\", \"flick\", \"invention\", \"killian\", \"jaramillo\", \"mexdist\", \"deatedrine\", \"bpansule\", \"wauconda\", \"solutioncontact\", \"lense\", \"snip\", \"thermmassage\", \"lash\", \"baldness\", \"jointly\", \"puvoule\", \"pulvoule\", \"diodane\", \"infrared\", \"infrare\", \"melting\", \"centigrade\", \"bald\", \"bparplex\", \"sibert\", \"heat\", \"hair\", \"scalp\", \"degree\", \"solution\", \"wet\", \"necklace\", \"massage\", \"dog\", \"redistilled\", \"show\", \"yukol\", \"claimant\", \"water\", \"quality\", \"result\", \"enter\", \"formula\", \"sodium\", \"allege\", \"misleading\", \"name\", \"cancer\", \"destroy\", \"government\", \"dist\", \"label\", \"fall\", \"charge\", \"standard\", \"capsule\", \"order\", \"appear\", \"treatment\", \"make\", \"libel\", \"ship\", \"file\", \"drug\", \"use\", \"misbrande\", \"court\", \"cause\", \"vitamin\", \"tablet\", \"effective\", \"shipment\", \"represent\", \"sale\"], \"Total\": [917.0, 405.0, 399.0, 445.0, 513.0, 85.0, 367.0, 617.0, 284.0, 258.0, 201.0, 90.0, 245.0, 315.0, 149.0, 612.0, 159.0, 264.0, 267.0, 505.0, 330.0, 239.0, 219.0, 255.0, 248.0, 810.0, 339.0, 74.0, 321.0, 152.0, 7.8306145668029785, 5.979708194732666, 17.0098934173584, 5.84421968460083, 2.9027130603790283, 3.869389057159424, 10.837995529174805, 7.863490581512451, 4.854977130889893, 3.9431867599487305, 3.8617990016937256, 7.707947731018066, 7.108283996582031, 22.354787826538086, 3.5234920978546143, 2.863966226577759, 4.839353084564209, 7.4552764892578125, 2.837981700897217, 8.451604843139648, 4.898350715637207, 2.82686448097229, 2.796598434448242, 3.972947359085083, 3.8079030513763428, 5.81645393371582, 2.794461488723755, 5.866959571838379, 2.859168767929077, 2.948932409286499, 8.38029956817627, 16.497987747192383, 359.56201171875, 65.54374694824219, 53.26463317871094, 7.744876384735107, 356.6803894042969, 810.7184448242188, 339.91302490234375, 75.53437042236328, 245.43087768554688, 132.42800903320312, 57.354393005371094, 437.1353759765625, 159.4042510986328, 432.5526123046875, 153.93765258789062, 421.838134765625, 278.11688232421875, 67.72506713867188, 304.8739318847656, 122.63416290283203, 153.12496948242188, 497.760498046875, 113.7114486694336, 502.8760070800781, 249.04351806640625, 617.176025390625, 161.3700714111328, 203.87548828125, 612.0094604492188, 513.7564086914062, 279.07745361328125, 917.8076171875, 270.9485168457031, 505.33673095703125, 243.00570678710938, 291.6796875, 338.0122375488281, 327.03265380859375, 367.8433532714844, 445.6651611328125, 392.37030029296875, 264.7889709472656, 315.5755310058594, 303.91558837890625, 405.5892028808594, 11.022980690002441, 7.450118541717529, 6.508137226104736, 5.570559501647949, 6.270419597625732, 24.005897521972656, 2.738152027130127, 2.7377161979675293, 2.7376785278320312, 2.737442970275879, 2.737436294555664, 2.737196207046509, 2.736513376235962, 4.404614448547363, 3.5600223541259766, 2.738507032394409, 2.741224765777588, 3.5426087379455566, 6.403522968292236, 2.7619986534118652, 3.6120495796203613, 2.6821043491363525, 2.693580150604248, 2.673677444458008, 2.7531657218933105, 2.6613643169403076, 3.491582155227661, 45.68396759033203, 2.5997474193573, 2.6553783416748047, 5.420012950897217, 6.477779388427734, 7.939958572387695, 6.3516130447387695, 42.07779312133789, 149.7107696533203, 21.40529441833496, 917.8076171875, 11.919069290161133, 185.5021514892578, 405.5892028808594, 91.41007995605469, 303.91558837890625, 183.12806701660156, 13.35801887512207, 102.53060913085938, 12.16236400604248, 10.243206977844238, 255.9747772216797, 40.718536376953125, 267.0602722167969, 321.28448486328125, 505.33673095703125, 168.60769653320312, 297.25445556640625, 25.817691802978516, 612.0094604492188, 209.08277893066406, 392.37030029296875, 810.7184448242188, 497.760498046875, 277.1080627441406, 513.7564086914062, 219.0971221923828, 181.63864135742188, 502.8760070800781, 279.07745361328125, 617.176025390625, 338.0122375488281, 270.9485168457031, 330.6885986328125, 356.6803894042969, 421.838134765625, 399.074951171875, 291.6796875, 315.1737365722656, 315.5755310058594, 445.6651611328125, 437.1353759765625, 5.270915985107422, 48.76152801513672, 7.078261852264404, 3.1556928157806396, 3.1002695560455322, 53.9960823059082, 3.0852434635162354, 3.08624005317688, 10.689494132995605, 2.020965337753296, 6.274652481079102, 14.941120147705078, 6.2883453369140625, 2.013387680053711, 1.956852912902832, 3.090101718902588, 2.0112416744232178, 3.0748705863952637, 10.210678100585938, 1.9730126857757568, 2.0080180168151855, 3.9108777046203613, 2.006399393081665, 5.906336307525635, 3.8373806476593018, 10.565449714660645, 2.900036096572876, 2.0028462409973145, 6.473359107971191, 2.9000906944274902, 38.4710578918457, 8.055438995361328, 31.04331398010254, 17.66957664489746, 159.24920654296875, 8.730072975158691, 36.09931945800781, 149.6687469482422, 68.34598541259766, 258.34344482421875, 367.8433532714844, 36.73137664794922, 59.95292663574219, 10.736376762390137, 399.074951171875, 109.61003112792969, 129.7795867919922, 82.71800994873047, 91.87458038330078, 77.02616119384766, 43.15067672729492, 327.03265380859375, 207.92481994628906, 269.4437561035156, 127.40129852294922, 432.5526123046875, 55.3508186340332, 392.37030029296875, 113.54875183105469, 89.21912384033203, 219.09669494628906, 188.79359436035156, 284.152587890625, 445.6651611328125, 244.19308471679688, 612.0094604492188, 243.00570678710938, 304.8739318847656, 315.1737365722656, 421.838134765625, 437.1353759765625, 617.176025390625, 212.48252868652344, 505.33673095703125, 297.25445556640625, 497.760498046875, 513.7564086914062, 810.7184448242188, 502.8760070800781, 265.2640380859375, 917.8076171875, 315.5755310058594, 338.0122375488281, 6.856254577636719, 3.436706304550171, 2.570387840270996, 6.206063270568848, 7.870261192321777, 5.424490928649902, 2.5714025497436523, 4.393907070159912, 2.5935301780700684, 1.7143588066101074, 1.7142996788024902, 1.714249610900879, 1.714235544204712, 1.71416437625885, 1.7140849828720093, 1.7142747640609741, 1.7139145135879517, 1.7138108015060425, 1.7140063047409058, 1.7139530181884766, 1.7140538692474365, 3.5729219913482666, 1.7157344818115234, 1.7177553176879883, 1.715510368347168, 1.7162376642227173, 1.7130775451660156, 1.7165056467056274, 1.7200125455856323, 1.715250015258789, 27.505041122436523, 5.334399700164795, 21.779117584228516, 73.41217803955078, 4.375667095184326, 90.0048599243164, 14.284628868103027, 7.986975193023682, 6.2368927001953125, 3.538689136505127, 42.79886245727539, 48.61174774169922, 5.427356243133545, 7.2276787757873535, 2.4921884536743164, 4.307652473449707, 15.697037696838379, 73.46198272705078, 24.995901107788086, 49.893470764160156, 29.55475616455078, 95.31951141357422, 117.03551483154297, 37.12086486816406, 617.176025390625, 330.6885986328125, 502.8760070800781, 103.80235290527344, 315.1737365722656, 445.6651611328125, 161.48745727539062, 219.0971221923828, 315.5755310058594, 171.46287536621094, 321.28448486328125, 206.04917907714844, 917.8076171875, 513.7564086914062, 279.07745361328125, 277.1080627441406, 612.0094604492188, 810.7184448242188, 505.33673095703125, 356.6803894042969, 264.7889709472656, 181.63864135742188, 497.760498046875, 432.5526123046875, 297.25445556640625, 339.91302490234375, 291.6796875, 437.1353759765625, 421.838134765625, 269.4437561035156, 255.9747772216797, 359.56201171875, 392.37030029296875, 399.074951171875, 5.5516157150268555, 1.491946816444397, 1.491732120513916, 3.710667610168457, 3.7998557090759277, 2.2980504035949707, 4.819777488708496, 4.04429817199707, 2.4137449264526367, 2.3314363956451416, 6.523895263671875, 3.1439108848571777, 1.5592272281646729, 2.271327495574951, 1.5619250535964966, 2.254516363143921, 1.6116621494293213, 2.4628195762634277, 2.4055724143981934, 1.5707141160964966, 1.576453685760498, 1.5741103887557983, 1.5773470401763916, 2.934994697570801, 1.5670121908187866, 3.9757232666015625, 3.1126835346221924, 1.5773752927780151, 1.5803673267364502, 1.6028803586959839, 2.4469518661499023, 8.153122901916504, 9.303037643432617, 5.8442254066467285, 8.025163650512695, 23.87942123413086, 6.264638423919678, 16.59071159362793, 8.802094459533691, 9.954795837402344, 41.05183792114258, 399.074951171875, 39.61893844604492, 78.30343627929688, 284.152587890625, 405.5892028808594, 258.34344482421875, 36.592735290527344, 129.7795867919922, 367.8433532714844, 45.34723663330078, 24.263303756713867, 219.09669494628906, 315.1737365722656, 77.02616119384766, 612.0094604492188, 330.6885986328125, 159.4042510986328, 100.50251770019531, 148.52859497070312, 338.0122375488281, 82.71800994873047, 445.6651611328125, 513.7564086914062, 124.73623657226562, 239.44056701660156, 201.98739624023438, 917.8076171875, 139.5758056640625, 810.7184448242188, 437.1353759765625, 617.176025390625, 505.33673095703125, 502.8760070800781, 339.91302490234375, 392.37030029296875, 146.94442749023438, 291.6796875, 327.03265380859375, 304.8739318847656, 497.760498046875, 432.5526123046875, 421.838134765625, 321.28448486328125, 2.338778495788574, 1.899728775024414, 1.9067950248718262, 1.9431376457214355, 2.6282825469970703, 3.9436697959899902, 3.315983295440674, 1.3507318496704102, 1.3506697416305542, 1.3504846096038818, 1.363050937652588, 1.3652880191802979, 1.3707914352416992, 1.3779805898666382, 1.3794689178466797, 1.3818209171295166, 4.765624523162842, 3.4622669219970703, 4.8321027755737305, 2.103363513946533, 1.3977346420288086, 1.4023289680480957, 3.4877405166625977, 2.7814321517944336, 6.206259250640869, 2.1245741844177246, 4.382270336151123, 2.803037643432617, 5.1187310218811035, 3.539158821105957, 17.076007843017578, 85.92266845703125, 42.729881286621094, 7.56946325302124, 74.53086853027344, 5.436924934387207, 10.59817123413086, 37.037841796875, 15.326735496520996, 5.928954124450684, 201.98739624023438, 6.36767053604126, 245.43087768554688, 152.11761474609375, 106.63348388671875, 248.4811248779297, 264.7889709472656, 153.12496948242188, 267.0602722167969, 513.7564086914062, 445.6651611328125, 239.44056701660156, 159.4042510986328, 131.22068786621094, 153.93765258789062, 255.9747772216797, 617.176025390625, 100.17293548583984, 505.33673095703125, 113.66349792480469, 405.5892028808594, 327.03265380859375, 182.51055908203125, 437.1353759765625, 219.09669494628906, 421.838134765625, 392.37030029296875, 497.760498046875, 810.7184448242188, 612.0094604492188, 339.91302490234375, 432.5526123046875, 212.48252868652344, 399.074951171875, 917.8076171875, 338.0122375488281, 265.2640380859375, 315.1737365722656, 278.11688232421875], \"loglift\": [30.0, 29.0, 28.0, 27.0, 26.0, 25.0, 24.0, 23.0, 22.0, 21.0, 20.0, 19.0, 18.0, 17.0, 16.0, 15.0, 14.0, 13.0, 12.0, 11.0, 10.0, 9.0, 8.0, 7.0, 6.0, 5.0, 4.0, 3.0, 2.0, 1.0, 1.1096999645233154, 1.0901000499725342, 0.9674999713897705, 0.9656000137329102, 0.9358999729156494, 0.9336000084877014, 0.9326000213623047, 0.9028000235557556, 0.9024999737739563, 0.9017000198364258, 0.9000999927520752, 0.8952000141143799, 0.8932999968528748, 0.8557999730110168, 0.8547000288963318, 0.8450000286102295, 0.8398000001907349, 0.8364999890327454, 0.8360999822616577, 0.8341000080108643, 0.832099974155426, 0.8287000060081482, 0.828000009059906, 0.8136000037193298, 0.8122000098228455, 0.8094000220298767, 0.8090999722480774, 0.800599992275238, 0.7958999872207642, 0.7874000072479248, 0.7822999954223633, 0.7720000147819519, 0.6018000245094299, 0.6470999717712402, 0.6467999815940857, 0.7648000121116638, 0.4528000056743622, 0.3643999993801117, 0.4223000109195709, 0.5493000149726868, 0.4189999997615814, 0.4864000082015991, 0.5618000030517578, 0.3361000120639801, 0.446399986743927, 0.3093000054359436, 0.42809998989105225, 0.2904999852180481, 0.3361999988555908, 0.5264000296592712, 0.2939000129699707, 0.4180999994277954, 0.37959998846054077, 0.18880000710487366, 0.423799991607666, 0.14550000429153442, 0.27649998664855957, 0.10199999809265137, 0.34950000047683716, 0.29330000281333923, 0.039500001817941666, 0.0714000016450882, 0.18549999594688416, -0.12470000237226486, 0.18529999256134033, 0.006000000052154064, 0.21240000426769257, 0.1590999960899353, 0.11180000007152557, 0.12150000035762787, 0.08340000361204147, 0.0066999997943639755, -0.03999999910593033, 0.08510000258684158, -0.029999999329447746, -0.021900000050663948, -0.30889999866485596, 1.426900029182434, 1.4266999959945679, 1.4139000177383423, 1.3396999835968018, 1.311400055885315, 1.246500015258789, 1.2375999689102173, 1.2375999689102173, 1.2375999689102173, 1.2374999523162842, 1.2374999523162842, 1.2374999523162842, 1.2373000383377075, 1.232300043106079, 1.2236000299453735, 1.2181999683380127, 1.2175999879837036, 1.2086999416351318, 1.198699951171875, 1.1806000471115112, 1.17739999294281, 1.170199990272522, 1.1679999828338623, 1.1598000526428223, 1.1484999656677246, 1.1430000066757202, 1.1404999494552612, 1.1366000175476074, 1.135599970817566, 1.135200023651123, 1.1294000148773193, 1.1222000122070312, 1.1146999597549438, 1.1195000410079956, 1.0235999822616577, 0.9517999887466431, 1.0374000072479248, 0.7263000011444092, 1.0530999898910522, 0.7897999882698059, 0.6504999995231628, 0.7900999784469604, 0.5928000211715698, 0.6554999947547913, 0.9873999953269958, 0.6452999711036682, 0.9886000156402588, 1.0132999420166016, 0.4523000121116638, 0.7763000130653381, 0.43389999866485596, 0.3889999985694885, 0.30230000615119934, 0.49869999289512634, 0.3693000078201294, 0.849399983882904, 0.19359999895095825, 0.41839998960494995, 0.2809000015258789, 0.11860000342130661, 0.22290000319480896, 0.3287999927997589, 0.1518000066280365, 0.35420000553131104, 0.4047999978065491, 0.09040000289678574, 0.26249998807907104, 0.014399999752640724, 0.19910000264644623, 0.25540000200271606, 0.15639999508857727, 0.12399999797344208, -0.03009999915957451, -0.0052999998442828655, 0.14139999449253082, 0.09600000083446503, 0.09179999679327011, -0.13940000534057617, -0.1915999948978424, 1.2985999584197998, 1.256600022315979, 1.243499994277954, 1.2259000539779663, 1.2152999639511108, 1.2044999599456787, 1.1960999965667725, 1.1957000494003296, 1.18340003490448, 1.1617000102996826, 1.1578999757766724, 1.1491999626159668, 1.1469000577926636, 1.1449999809265137, 1.124899983406067, 1.1088999509811401, 1.0990999937057495, 1.097499966621399, 1.083799958229065, 1.0836999416351318, 1.0824999809265137, 1.073099970817566, 1.0707999467849731, 1.0705000162124634, 1.06850004196167, 1.0607999563217163, 1.0572999715805054, 1.0506000518798828, 1.0485999584197998, 1.0464999675750732, 1.0206999778747559, 1.010699987411499, 0.9459999799728394, 0.9661999940872192, 0.7767000198364258, 0.9786999821662903, 0.8471999764442444, 0.7035999894142151, 0.732200026512146, 0.5705000162124634, 0.5073000192642212, 0.7670000195503235, 0.6913999915122986, 0.9319999814033508, 0.34290000796318054, 0.5194000005722046, 0.4595000147819519, 0.5389999747276306, 0.5067999958992004, 0.5432000160217285, 0.6615999937057495, 0.2298000007867813, 0.32199999690055847, 0.26409998536109924, 0.39879998564720154, 0.07150000333786011, 0.5971999764442444, 0.04859999939799309, 0.38960000872612, 0.4593999981880188, 0.18359999358654022, 0.21439999341964722, 0.08129999786615372, -0.07769999653100967, 0.12620000541210175, -0.1940000057220459, 0.11940000206232071, 0.023800000548362732, 0.005100000184029341, -0.11069999635219574, -0.1378999948501587, -0.30799999833106995, 0.11969999969005585, -0.2915000021457672, -0.040300000458955765, -0.30959999561309814, -0.3312999904155731, -0.5809000134468079, -0.42410001158714294, -0.024900000542402267, -0.916700005531311, -0.1525000035762787, -0.225600004196167, 1.7578999996185303, 1.6023999452590942, 1.5427000522613525, 1.530400037765503, 1.4815000295639038, 1.450600028038025, 1.444100022315979, 1.4349000453948975, 1.4026000499725342, 1.329800009727478, 1.329800009727478, 1.329800009727478, 1.329699993133545, 1.329699993133545, 1.329699993133545, 1.3295999765396118, 1.3295999765396118, 1.3294999599456787, 1.3294999599456787, 1.3294999599456787, 1.3293999433517456, 1.3272000551223755, 1.3116999864578247, 1.309000015258789, 1.3061000108718872, 1.3026000261306763, 1.3003000020980835, 1.298799991607666, 1.2979999780654907, 1.2954000234603882, 1.2770999670028687, 1.2869000434875488, 1.257099986076355, 1.2311999797821045, 1.2848000526428223, 1.2109999656677246, 1.2487000226974487, 1.2639000415802002, 1.2336000204086304, 1.2685999870300293, 0.9968000054359436, 0.9761000275611877, 1.2094999551773071, 1.1723999977111816, 1.2888000011444092, 1.2266000509262085, 1.044600009918213, 0.8381999731063843, 0.9685999751091003, 0.8571000099182129, 0.9081000089645386, 0.7135000228881836, 0.6671000123023987, 0.8673999905586243, 0.3294000029563904, 0.43650001287460327, 0.3255000114440918, 0.6412000060081482, 0.358599990606308, 0.27810001373291016, 0.4715000092983246, 0.39739999175071716, 0.2867000102996826, 0.44369998574256897, 0.2700999975204468, 0.3788999915122986, -0.07020000368356705, 0.09139999747276306, 0.26829999685287476, 0.2605000138282776, 0.008299999870359898, -0.0828000009059906, 0.049400001764297485, 0.12809999287128448, 0.20250000059604645, 0.36410000920295715, -0.08560000360012054, -0.03200000151991844, 0.12409999966621399, 0.01769999973475933, 0.0794999971985817, -0.18160000443458557, -0.2305999994277954, 0.06750000268220901, 0.07410000264644623, -0.2281000018119812, -0.3197999894618988, -0.3596999943256378, 1.9328999519348145, 1.84089994430542, 1.8406000137329102, 1.812000036239624, 1.649399995803833, 1.6238000392913818, 1.608199954032898, 1.6030999422073364, 1.554900050163269, 1.54830002784729, 1.5401999950408936, 1.5397000312805176, 1.499400019645691, 1.486199975013733, 1.4675999879837036, 1.4657000303268433, 1.450600028038025, 1.438099980354309, 1.4378000497817993, 1.4356000423431396, 1.4342999458312988, 1.4284000396728516, 1.4276000261306763, 1.4226000308990479, 1.4223999977111816, 1.4210000038146973, 1.4178999662399292, 1.4062000513076782, 1.3990000486373901, 1.398800015449524, 1.3946000337600708, 1.3809000253677368, 1.3587000370025635, 1.3641999959945679, 1.3487999439239502, 1.2369999885559082, 1.330299973487854, 1.1296000480651855, 1.204800009727478, 1.1783000230789185, 0.9228000044822693, 0.5149999856948853, 0.9172000288963318, 0.7847999930381775, 0.48669999837875366, 0.38960000872612, 0.4830000102519989, 0.891700029373169, 0.6101999878883362, 0.24199999868869781, 0.7598000168800354, 0.9203000068664551, 0.2784000039100647, 0.16529999673366547, 0.5834000110626221, -0.05490000173449516, 0.1264999955892563, 0.3517000079154968, 0.48159998655319214, 0.3492000102996826, 0.04749999940395355, 0.5218999981880188, -0.10109999775886536, -0.15369999408721924, 0.3659999966621399, 0.11590000241994858, 0.1817999929189682, -0.4681999981403351, 0.27950000762939453, -0.4805999994277954, -0.26980000734329224, -0.4350999891757965, -0.36809998750686646, -0.38269999623298645, -0.19130000472068787, -0.2912999987602234, 0.23829999566078186, -0.17080000042915344, -0.2475000023841858, -0.225600004196167, -0.557699978351593, -0.47200000286102295, -0.4871000051498413, -0.2791999876499176, 2.536900043487549, 2.3276000022888184, 2.291800022125244, 2.213200092315674, 2.1779000759124756, 2.1661999225616455, 2.0906999111175537, 2.0876998901367188, 2.0876998901367188, 2.087399959564209, 2.062000036239624, 2.057300090789795, 2.046799898147583, 2.032599925994873, 2.028700113296509, 2.0239999294281006, 2.0114998817443848, 1.98989999294281, 1.9871000051498413, 1.944200038909912, 1.94159996509552, 1.9255000352859497, 1.9187999963760376, 1.9184999465942383, 1.905900001525879, 1.9057999849319458, 1.8899999856948853, 1.871000051498413, 1.8581000566482544, 1.854599952697754, 1.8315000534057617, 1.3636000156402588, 1.357200026512146, 1.6759999990463257, 1.1568000316619873, 1.7134000062942505, 1.537600040435791, 1.1713999509811401, 1.3808000087738037, 1.6260000467300415, 0.5065000057220459, 1.598099946975708, 0.426800012588501, 0.5386999845504761, 0.6481000185012817, 0.30820000171661377, 0.2732999920845032, 0.4733999967575073, 0.22930000722408295, -0.04740000143647194, -0.00800000037997961, 0.2101999968290329, 0.36629998683929443, 0.44609999656677246, 0.37540000677108765, 0.14980000257492065, -0.26489999890327454, 0.5414000153541565, -0.19679999351501465, 0.48019999265670776, -0.10830000042915344, -0.019200000911951065, 0.2547999918460846, -0.16740000247955322, 0.16110000014305115, -0.1688999980688095, -0.13420000672340393, -0.2915000021457672, -0.5519999861717224, -0.43459999561309814, -0.11110000312328339, -0.28700000047683716, 0.15719999372959137, -0.31839999556541443, -0.9613000154495239, -0.20509999990463257, -0.023099999874830246, -0.19280000030994415, -0.07800000160932541], \"logprob\": [30.0, 29.0, 28.0, 27.0, 26.0, 25.0, 24.0, 23.0, 22.0, 21.0, 20.0, 19.0, 18.0, 17.0, 16.0, 15.0, 14.0, 13.0, 12.0, 11.0, 10.0, 9.0, 8.0, 7.0, 6.0, 5.0, 4.0, 3.0, 2.0, 1.0, -8.127300262451172, -8.416600227355957, -7.493800163269043, -8.56410026550293, -9.293499946594238, -9.008399963378906, -7.979400157928467, -8.329999923706055, -8.8125, -9.021400451660156, -9.043899536132812, -8.35770034790039, -8.440500259399414, -7.332200050354004, -9.180899620056152, -9.39780044555664, -8.878499984741211, -8.449600219726562, -9.415800094604492, -8.326600074768066, -8.87399959564209, -9.427200317382812, -9.438699722290039, -9.101900100708008, -9.145700454711914, -8.725000381469727, -9.458399772644043, -8.725099563598633, -9.448699951171875, -9.426300048828125, -8.386899948120117, -7.719900131225586, -4.8084001541137695, -6.4653000831604, -6.672999858856201, -8.483200073242188, -4.9654998779296875, -4.232699871063232, -5.044000148773193, -6.421199798583984, -5.3730998039245605, -5.922599792480469, -6.684000015258789, -4.878699779510498, -5.777200222015381, -4.916100025177002, -5.830399990081787, -4.95989990234375, -5.3308000564575195, -6.553199768066406, -5.281199932098389, -6.067800045013428, -5.884200096130371, -4.896100044250488, -6.137599945068359, -4.929299831390381, -5.500999927520752, -4.76800012588501, -5.861800193786621, -5.684199810028076, -4.838799953460693, -4.981900215148926, -5.478099822998047, -4.597799777984619, -5.507900238037109, -5.063899993896484, -5.589600086212158, -5.460299968719482, -5.360199928283691, -5.383500099182129, -5.303999900817871, -5.188799858093262, -5.3628997802734375, -5.63100004196167, -5.570700168609619, -5.600299835205078, -5.598599910736084, -7.468200206756592, -7.860199928283691, -8.008099555969238, -8.237899780273438, -8.14780044555664, -6.870299816131592, -9.050100326538086, -9.050299644470215, -9.050399780273438, -9.05049991607666, -9.05049991607666, -9.050600051879883, -9.05109977722168, -8.580100059509277, -8.8016996383667, -9.0693998336792, -9.069000244140625, -8.821499824523926, -8.23960018157959, -9.09850025177002, -8.833399772644043, -9.138299942016602, -9.136199951171875, -9.151900291442871, -9.13379955291748, -9.173199653625488, -8.904199600219727, -6.3368000984191895, -9.204099655151367, -9.183300018310547, -8.475600242614746, -8.304499626159668, -8.108499526977539, -8.326899528503418, -6.5320000648498535, -5.334499835968018, -7.193999767303467, -3.746799945831299, -7.763800144195557, -5.282199859619141, -4.639200210571289, -5.98960018157959, -4.985499858856201, -5.4293999671936035, -7.71560001373291, -6.019599914550781, -7.80810022354126, -7.955100059509277, -5.297699928283691, -6.812099933624268, -5.27370023727417, -5.133800029754639, -4.767499923706055, -5.668799877166748, -5.231200218200684, -7.194699764251709, -4.684700012207031, -5.533899784088135, -5.041900157928467, -4.478600025177002, -4.861999988555908, -5.341899871826172, -4.901599884033203, -5.551300048828125, -5.688300132751465, -4.984300136566162, -5.401100158691406, -4.855500221252441, -5.272900104522705, -5.437699794769287, -5.337500095367432, -5.294300079345703, -5.280600070953369, -5.311200141906738, -5.478000164031982, -5.445899963378906, -5.44890022277832, -5.33489990234375, -5.406400203704834, -8.334199905395508, -6.151500225067139, -8.094499588012695, -8.919899940490723, -8.9483003616333, -6.101600170135498, -8.972299575805664, -8.972399711608887, -7.742400169372559, -9.429800033569336, -8.300600051879883, -7.441800117492676, -8.309399604797363, -9.450200080871582, -9.498900413513184, -9.057900428771973, -9.497200012207031, -9.074299812316895, -7.887800216674805, -9.531800270080566, -9.515399932861328, -8.858200073242188, -9.527899742126465, -8.44849967956543, -8.881699562072754, -7.876699924468994, -9.17300033569336, -9.54990005493164, -8.378700256347656, -9.183799743652344, -6.624499797821045, -8.197999954223633, -6.913599967956543, -7.456999778747559, -5.44789981842041, -8.1496000289917, -6.861499786376953, -5.583000183105469, -6.3383002281188965, -5.170300006866455, -4.880099773406982, -6.9243998527526855, -6.5100998878479, -7.9893999099731445, -4.9629998207092285, -6.078800201416016, -5.969699859619141, -6.340700149536133, -6.267899990081787, -6.407700061798096, -6.868800163269043, -5.275199890136719, -5.635900020599365, -5.434599876403809, -6.048999786376953, -5.153800010681152, -6.684199810028076, -5.2743000984191895, -6.173299789428711, -6.344600200653076, -5.72189998626709, -5.840000152587891, -5.564199924468994, -5.273200035095215, -5.670899868011475, -5.072299957275391, -5.682600021362305, -5.551400184631348, -5.536900043487549, -5.361199855804443, -5.352700233459473, -5.1778998374938965, -5.816500186920166, -5.361299991607666, -5.6407999992370605, -5.394499778747559, -5.3846001625061035, -5.177999973297119, -5.498799800872803, -5.739200115203857, -5.389800071716309, -5.69320011138916, -5.6975998878479, -7.611999988555908, -8.458200454711914, -8.808300018310547, -7.9390997886657715, -7.750500202178955, -8.153499603271484, -8.906499862670898, -8.380000114440918, -8.939499855041504, -9.426199913024902, -9.426300048828125, -9.426300048828125, -9.426400184631348, -9.426400184631348, -9.42650032043457, -9.42650032043457, -9.4266996383667, -9.426799774169922, -9.4266996383667, -9.426799774169922, -9.426799774169922, -8.694499969482422, -9.443499565124512, -9.444999694824219, -9.449199676513672, -9.452400207519531, -9.456500053405762, -9.456000328063965, -9.454700469970703, -9.460100173950195, -6.70359992980957, -8.333999633789062, -6.956999778747559, -5.7677001953125, -8.534299850463867, -5.584199905395508, -7.387199878692627, -7.9532999992370605, -8.230999946594238, -8.762700080871582, -6.5416998863220215, -6.435100078582764, -8.394100189208984, -8.144800186157227, -9.093099594116211, -8.608099937438965, -7.497000217437744, -6.160099983215332, -7.107800006866455, -6.52810001373291, -7.000699996948242, -6.024400234222412, -5.865499973297119, -6.813499927520752, -4.540500164031982, -5.057400226593018, -4.749300003051758, -6.011300086975098, -5.183300018310547, -4.917399883270264, -5.739200115203857, -5.5081000328063965, -5.254000186920166, -5.706999778747559, -5.252699851989746, -5.5879998207092285, -4.543300151824951, -4.961900234222412, -5.395299911499023, -5.410200119018555, -4.869999885559082, -4.679900169372559, -5.020400047302246, -5.290200233459473, -5.513700008392334, -5.729000091552734, -5.170599937438965, -5.257299900054932, -5.476399898529053, -5.448699951171875, -5.539899826049805, -5.396500110626221, -5.481100082397461, -5.631199836730957, -5.675899982452393, -5.638299942016602, -5.6427001953125, -5.665599822998047, -7.648099899291992, -9.054100036621094, -9.05459976196289, -8.171799659729004, -8.310700416564941, -8.839300155639648, -8.114100456237793, -8.294699668884277, -8.859000205993652, -8.900300025939941, -7.87939977645874, -8.60990047454834, -9.351499557495117, -8.988499641418457, -9.381500244140625, -9.016500473022461, -9.367199897766113, -8.955599784851074, -8.979499816894531, -9.407999992370605, -9.405599594116211, -9.4128999710083, -9.411700248718262, -8.79580020904541, -9.423500061035156, -8.493900299072266, -8.741700172424316, -9.433099746704102, -9.438400268554688, -9.424500465393066, -9.005599975585938, -7.815800189971924, -7.705999851226807, -8.165399551391602, -7.863699913024902, -6.885000228881836, -8.129799842834473, -7.3566999435424805, -7.915299892425537, -7.81879997253418, -6.65749979019165, -4.790999889373779, -6.698500156402588, -6.149700164794922, -5.158899784088135, -4.900100231170654, -5.257800102233887, -6.803500175476074, -5.818999767303467, -5.145500183105469, -6.720900058746338, -7.185800075531006, -5.627200126647949, -5.3765997886657715, -6.367599964141846, -4.933199882507324, -5.367400169372559, -5.8719000816345215, -6.2032999992370605, -5.945000171661377, -5.4243998527526855, -6.357800006866455, -5.296599864959717, -5.206999778747559, -6.10290002822876, -5.700900077819824, -5.804999828338623, -4.941299915313721, -6.077000141143799, -5.0777997970581055, -5.484600067138672, -5.304999828338623, -5.437900066375732, -5.457399845123291, -5.657700061798096, -5.614099979400635, -6.066699981689453, -5.790200233459473, -5.752500057220459, -5.80079984664917, -5.6427001953125, -5.697400093078613, -5.737599849700928, -5.8018999099731445, -7.908599853515625, -8.325799942016602, -8.35789966583252, -8.41759967803955, -8.150799751281738, -7.756800174713135, -8.005599975585938, -8.906700134277344, -8.906800270080566, -8.90719985961914, -8.923399925231934, -8.926400184631348, -8.93280029296875, -8.941900253295898, -8.944700241088867, -8.947699546813965, -7.7221999168396, -8.063300132751465, -7.732699871063232, -8.607399940490723, -9.018600463867188, -9.031399726867676, -8.127099990844727, -8.353599548339844, -7.563600063323975, -8.635700225830078, -7.927499771118164, -8.39330005645752, -7.803999900817871, -8.176600456237793, -6.625899791717529, -5.478000164031982, -6.1828999519348145, -7.594900131225586, -5.827099800109863, -7.888400077819824, -7.3968000411987305, -6.51170015335083, -7.184700012207031, -7.889200210571289, -5.480299949645996, -7.845799922943115, -5.365300178527832, -5.7316999435424805, -5.977499961853027, -5.471499919891357, -5.442800045013428, -5.79040002822876, -5.478300094604492, -5.1006999015808105, -5.203499794006348, -5.606500148773193, -5.8572998046875, -5.9720001220703125, -5.883200168609619, -5.600200176239014, -5.134799957275391, -6.1468000411987305, -5.266600131988525, -6.081699848175049, -5.3979997634887695, -5.524199962615967, -5.833499908447266, -5.382299900054932, -5.744500160217285, -5.419400215148926, -5.457099914550781, -5.376399993896484, -5.149099826812744, -5.312900066375732, -5.577499866485596, -5.51230001449585, -5.779099941253662, -5.624300003051758, -5.4344000816345215, -5.67710018157959, -5.737500190734863, -5.734799861907959, -5.744999885559082]}, \"token.table\": {\"Topic\": [4, 4, 3, 4, 3, 4, 1, 2, 3, 4, 5, 6, 1, 2, 3, 4, 5, 6, 1, 2, 3, 4, 6, 4, 1, 2, 3, 4, 5, 6, 1, 2, 3, 4, 5, 6, 1, 2, 3, 4, 5, 6, 1, 2, 3, 4, 5, 6, 1, 2, 3, 4, 5, 6, 1, 2, 3, 4, 5, 6, 1, 2, 4, 5, 1, 2, 3, 4, 5, 6, 4, 5, 6, 1, 2, 3, 4, 6, 2, 2, 2, 1, 3, 1, 2, 3, 4, 5, 6, 1, 2, 4, 5, 1, 2, 3, 4, 5, 1, 2, 3, 4, 5, 6, 1, 2, 3, 4, 5, 6, 1, 2, 3, 4, 5, 6, 1, 2, 3, 4, 5, 6, 6, 1, 2, 3, 6, 2, 3, 5, 5, 1, 2, 3, 4, 5, 6, 1, 3, 4, 1, 2, 3, 4, 5, 6, 1, 1, 2, 3, 4, 5, 6, 5, 6, 5, 2, 1, 2, 3, 4, 5, 6, 1, 2, 3, 4, 5, 6, 1, 3, 6, 1, 2, 3, 4, 5, 6, 2, 1, 2, 3, 4, 5, 1, 2, 3, 4, 5, 2, 4, 5, 1, 2, 3, 4, 5, 6, 1, 2, 3, 4, 5, 6, 1, 2, 3, 4, 5, 6, 4, 1, 2, 3, 4, 5, 1, 3, 4, 2, 1, 2, 3, 4, 5, 6, 1, 2, 3, 4, 5, 6, 1, 2, 4, 4, 4, 4, 1, 2, 3, 4, 5, 6, 4, 3, 3, 1, 2, 3, 4, 5, 6, 3, 1, 2, 3, 4, 5, 6, 1, 2, 3, 4, 5, 6, 1, 2, 3, 1, 2, 4, 5, 1, 2, 3, 4, 5, 6, 1, 2, 3, 4, 5, 3, 4, 5, 6, 5, 1, 2, 3, 4, 5, 6, 1, 2, 3, 4, 5, 6, 1, 3, 4, 5, 6, 1, 3, 4, 1, 2, 3, 4, 5, 6, 4, 1, 2, 3, 4, 5, 6, 1, 2, 3, 4, 5, 6, 1, 2, 3, 4, 5, 6, 4, 5, 1, 4, 6, 1, 2, 3, 4, 5, 6, 3, 4, 1, 2, 3, 4, 5, 6, 1, 2, 5, 6, 1, 2, 3, 4, 5, 6, 1, 2, 3, 4, 5, 6, 1, 2, 3, 4, 5, 6, 1, 2, 3, 4, 5, 6, 1, 2, 3, 4, 5, 6, 1, 1, 2, 3, 4, 5, 6, 4, 1, 2, 3, 4, 5, 6, 1, 2, 4, 5, 1, 2, 3, 4, 5, 6, 1, 2, 3, 4, 5, 6, 2, 1, 2, 3, 4, 1, 2, 3, 4, 5, 6, 1, 2, 3, 4, 5, 6, 2, 1, 2, 3, 2, 1, 3, 4, 5, 1, 2, 3, 4, 1, 2, 3, 4, 5, 6, 1, 2, 3, 4, 5, 6, 1, 2, 3, 4, 5, 6, 1, 2, 3, 4, 5, 6, 4, 1, 1, 2, 3, 4, 5, 6, 1, 2, 3, 4, 5, 6, 2, 1, 2, 1, 2, 4, 4, 6, 1, 1, 2, 3, 4, 5, 6, 1, 2, 3, 4, 5, 6, 1, 2, 3, 4, 5, 6, 4, 1, 1, 2, 2, 1, 2, 3, 4, 5, 6, 1, 2, 4, 5, 1, 1, 2, 3, 4, 5, 6, 1, 2, 3, 4, 5, 6, 3, 2, 1, 2, 3, 4, 5, 6, 4, 1, 2, 3, 4, 5, 6, 1, 5, 1, 2, 3, 4, 5, 6, 4, 5, 1, 2, 3, 4, 5, 6, 1, 2, 3, 4, 5, 6, 1, 2, 3, 4, 5, 6, 1, 2, 3, 4, 2, 5, 2, 4, 1, 2, 3, 4, 5, 6, 1, 2, 3, 4, 5, 6, 3, 1, 3, 4, 2, 5, 1, 5, 1, 2, 3, 4, 5, 6, 1, 2, 4, 5, 6, 6, 1, 2, 3, 4, 5, 6, 1, 2, 3, 5, 1, 2, 3, 4, 2, 6, 6, 2, 6, 1, 2, 3, 4, 5, 6, 1, 6, 1, 2, 3, 4, 5, 6, 4, 1, 2, 3, 4, 5, 6, 2, 3, 4, 5, 6, 1, 2, 3, 4, 1, 2, 4, 6, 2, 4, 6, 6, 1, 2, 3, 4, 5, 6, 1, 2, 3, 4, 5, 6, 5, 3, 1, 2, 3, 4, 5, 6, 2, 3, 1, 2, 3, 4, 5, 6, 2, 3, 4, 1, 2, 4, 1, 2, 3, 4, 5, 6, 1, 2, 3, 4, 5, 6, 1, 2, 3, 4, 5, 6, 1, 6, 6, 2, 1, 2, 3, 4, 5, 6, 1, 2, 3, 4, 5, 6, 1, 2, 3, 4, 5, 6, 1, 2, 3, 4, 5, 6, 1, 2, 3, 4, 5, 6, 3, 4, 2, 2, 1, 2, 3, 4, 5, 6, 1, 2, 3, 4, 5, 6, 2, 5, 1, 2, 3, 4, 5, 6, 4, 5, 1, 2, 3, 4, 5, 6, 2, 4, 6, 2, 4, 1, 2, 3, 4, 5, 6, 1, 2, 3, 4, 5, 6, 1, 2, 4, 1, 1, 2, 3, 4, 5, 6, 4, 1, 2, 3, 4, 5, 6, 3, 1, 3, 1, 2, 3, 4, 5, 6, 1, 1, 1, 2, 3, 4, 5, 6, 1, 2, 3, 4, 1, 5, 1, 5, 1, 2, 3, 4, 5, 6, 1, 2, 3, 4, 5, 6, 1, 1, 2, 3, 4, 5, 6, 1, 2, 3, 4, 5, 6, 1, 2, 3, 4, 5, 6, 1, 2, 3, 4, 5, 6, 1, 2, 3, 4, 5, 6, 1, 2, 3, 4, 5, 5, 1, 2, 3, 4, 5, 6, 1, 2, 3, 4, 5, 6, 1, 3, 4, 6, 1, 2, 3, 4, 5, 6, 6, 1, 2, 3, 4, 5, 6, 1, 2, 3, 4, 5, 6, 2, 3, 4, 6, 1, 2, 4, 6, 1, 2, 3, 4, 5, 6, 1, 2, 3, 4, 5, 6, 1, 2, 3, 4, 5, 6, 3, 4, 1, 2, 3, 4, 5, 6, 1, 3, 4, 5, 2, 1, 4, 5, 2, 4, 1, 2, 3, 4, 5, 6, 1, 2, 3, 4, 5, 6, 1, 2, 3, 4, 1, 2, 3, 4, 5, 6, 4, 1, 2, 3, 4, 5, 6, 3, 4, 4, 3, 1, 2, 3, 4, 5, 6, 1, 2, 3, 4, 5, 6, 1, 2, 3, 4, 5, 5, 1, 1, 4, 5, 1, 3, 4, 1, 2, 3, 4, 5, 6, 1, 2, 3, 4, 5, 6, 1, 2, 3, 4, 5, 6, 1, 2, 4, 6, 4, 2, 3, 6, 1, 2, 3, 4, 5, 6, 1, 2, 3, 4, 5, 6, 6, 1, 2, 3, 4, 5, 6, 2, 3, 5, 6, 1, 2, 3, 4, 5, 6, 1, 2, 3, 4, 5, 6, 3, 1, 2, 3, 4, 3, 1, 2, 3, 4, 5, 6, 1, 6, 1, 2, 4, 6, 1, 2, 3, 4, 5, 6, 1, 5, 2, 3, 4, 3, 4, 3, 1, 2, 5, 1, 2, 3, 4, 5, 6, 5, 1, 2, 3, 4, 5, 6, 2, 4, 6, 1, 2, 3, 4, 5, 6, 5, 1, 2, 4, 6, 3, 2, 1, 2, 3, 4, 5, 6, 5, 4, 5, 1, 2, 3, 4, 5, 6, 1, 2, 3, 4, 5, 6, 1, 2, 3, 4, 5, 6, 1, 2, 3, 4, 5, 6, 1, 2, 3, 4, 1, 2, 3, 4, 5, 6, 2, 1, 2, 3, 4, 5, 6, 4, 5, 2, 5, 6, 2, 1, 2, 3, 4, 5, 6, 1, 2, 3, 4, 5, 6, 1, 1, 2, 3, 4, 5, 6, 1, 2, 3, 4, 5, 6, 1, 2, 3, 4, 5, 6, 1, 2, 3, 6, 2, 1, 2, 4, 3, 4, 1, 3, 1, 2, 4, 5, 1, 3, 4, 6], \"Freq\": [0.5834949612617493, 0.583350419998169, 0.4948130249977112, 0.5825788974761963, 0.4980035126209259, 0.5833455920219421, 0.08203188329935074, 0.1230478286743164, 0.7177789807319641, 0.0615239143371582, 0.020507970824837685, 0.020507970824837685, 0.3506201207637787, 0.28049609065055847, 0.16977395117282867, 0.13286657631397247, 0.04059811681509018, 0.02583516575396061, 0.09663916379213333, 0.2577044367790222, 0.5154088735580444, 0.06442610919475555, 0.03221305459737778, 0.5833084583282471, 0.20484012365341187, 0.1609458029270172, 0.42431166768074036, 0.08778862655162811, 0.08778862655162811, 0.029262874275445938, 0.31337809562683105, 0.25109174847602844, 0.14793002605438232, 0.16934095323085785, 0.06812567263841629, 0.05060764029622078, 0.2966202199459076, 0.20127801597118378, 0.25424590706825256, 0.14301332831382751, 0.06356147676706314, 0.03707752749323845, 0.2586999833583832, 0.18904998898506165, 0.15919999778270721, 0.21889999508857727, 0.1293499916791916, 0.029849998652935028, 0.4403340816497803, 0.12231501936912537, 0.2038583606481552, 0.07338900864124298, 0.08969768136739731, 0.05708034336566925, 0.26299849152565, 0.2684776186943054, 0.18629059195518494, 0.16985318064689636, 0.04383308067917824, 0.0657496228814125, 0.7099243402481079, 0.11832072585821152, 0.11832072585821152, 0.11832072585821152, 0.23239877820014954, 0.5035306811332703, 0.07746625691652298, 0.03873312845826149, 0.03873312845826149, 0.11619938910007477, 0.32126620411872864, 0.32126620411872864, 0.3567558228969574, 0.20694923400878906, 0.20694923400878906, 0.20694923400878906, 0.20694923400878906, 0.4138984680175781, 0.7305359244346619, 0.9219228029251099, 0.5728062391281128, 0.6124510169029236, 0.20415034890174866, 0.45979538559913635, 0.243915855884552, 0.05887623876333237, 0.1766287237405777, 0.04205445572733879, 0.02242904342710972, 0.16779834032058716, 0.5872941613197327, 0.16779834032058716, 0.08389917016029358, 0.24827945232391357, 0.12413972616195679, 0.6206986308097839, 0.12413972616195679, 0.12413972616195679, 0.28299447894096375, 0.10884403437376022, 0.33741649985313416, 0.16326604783535004, 0.05442201718688011, 0.05442201718688011, 0.29662591218948364, 0.16033832728862762, 0.28860899806022644, 0.11223683506250381, 0.11223683506250381, 0.040084581822156906, 0.5339829921722412, 0.20302478969097137, 0.06396671384572983, 0.12237109988927841, 0.04727974534034729, 0.02781161479651928, 0.15315598249435425, 0.470407634973526, 0.1640956848859787, 0.13127654790878296, 0.043758850544691086, 0.021879425272345543, 0.7324461936950684, 0.1953609138727188, 0.1953609138727188, 0.1953609138727188, 0.3907218277454376, 0.730324923992157, 0.5211888551712036, 0.2605944275856018, 0.6343351602554321, 0.26373758912086487, 0.1507071852684021, 0.44584208726882935, 0.08791252225637436, 0.025117864832282066, 0.018838398158550262, 0.6455880999565125, 0.12911762297153473, 0.12911762297153473, 0.45795515179634094, 0.08782701939344406, 0.13801388442516327, 0.12546716630458832, 0.11292044818401337, 0.07528030127286911, 0.836161196231842, 0.21450275182724, 0.4142121970653534, 0.1232774406671524, 0.08629421144723892, 0.11588079482316971, 0.04684542864561081, 0.641343355178833, 0.5244402289390564, 0.6339645385742188, 0.7456831336021423, 0.39032527804374695, 0.18368248641490936, 0.20992283523082733, 0.10824146121740341, 0.06232084333896637, 0.042640574276447296, 0.26355108618736267, 0.21178211271762848, 0.23060719668865204, 0.16001315414905548, 0.07059404253959656, 0.06118150055408478, 0.22819222509860992, 0.22819222509860992, 0.45638445019721985, 0.2928740084171295, 0.2928740084171295, 0.15435253083705902, 0.1622680425643921, 0.055408596992492676, 0.043535325676202774, 0.7693055272102356, 0.18628259003162384, 0.09314129501581192, 0.5588477253913879, 0.09314129501581192, 0.09314129501581192, 0.24530477821826935, 0.12265238910913467, 0.12265238910913467, 0.24530477821826935, 0.3679571747779846, 0.31807518005371094, 0.31807518005371094, 0.31807518005371094, 0.3433682322502136, 0.1346542090177536, 0.21544672548770905, 0.14138691127300262, 0.11445607244968414, 0.05386168137192726, 0.44411689043045044, 0.15890420973300934, 0.1385318785905838, 0.13445740938186646, 0.04481913521885872, 0.08148933947086334, 0.5645084381103516, 0.10679890215396881, 0.12205588072538376, 0.07628493010997772, 0.07628493010997772, 0.06102794036269188, 0.5834465622901917, 0.17110908031463623, 0.17110908031463623, 0.17110908031463623, 0.17110908031463623, 0.34221816062927246, 0.7551069259643555, 0.25170230865478516, 0.5833370685577393, 0.939582347869873, 0.1368487924337387, 0.1733417958021164, 0.3466835916042328, 0.20983481407165527, 0.10035578161478043, 0.03649301081895828, 0.2850581109523773, 0.17596179246902466, 0.22171185910701752, 0.14076943695545197, 0.1266924887895584, 0.04575006663799286, 0.6061345338821411, 0.18184036016464233, 0.12122690677642822, 0.8751133680343628, 0.5833746194839478, 0.5834596753120422, 0.505628228187561, 0.17435456812381744, 0.13948364555835724, 0.08717728406190872, 0.052306368947029114, 0.017435455694794655, 0.8729287981987, 0.4966753423213959, 0.49840524792671204, 0.11111917346715927, 0.11111917346715927, 0.6852349042892456, 0.03703972324728966, 0.01851986162364483, 0.01851986162364483, 0.6504338979721069, 0.24258479475975037, 0.4743880331516266, 0.07008004933595657, 0.11320623755455017, 0.05390772968530655, 0.04851695895195007, 0.3976394832134247, 0.14333516359329224, 0.2219383269548416, 0.1502707302570343, 0.04854900762438774, 0.03930157795548439, 0.6817841529846191, 0.17044603824615479, 0.17044603824615479, 0.5966373682022095, 0.11932747811079025, 0.11932747811079025, 0.11932747811079025, 0.16002623736858368, 0.16002623736858368, 0.16002623736858368, 0.4000656008720398, 0.12001967430114746, 0.04000655934214592, 0.12460804730653763, 0.24921609461307526, 0.12460804730653763, 0.24921609461307526, 0.24921609461307526, 0.6692938804626465, 0.20078815519809723, 0.13385877013206482, 0.7336483001708984, 0.6327642798423767, 0.09183108806610107, 0.1377466320991516, 0.1377466320991516, 0.5509865283966064, 0.04591554403305054, 0.04591554403305054, 0.19263429939746857, 0.1772235631942749, 0.3236256241798401, 0.100169837474823, 0.14640207588672638, 0.053937602788209915, 0.2642195224761963, 0.2642195224761963, 0.13210976123809814, 0.13210976123809814, 0.2642195224761963, 0.16113273799419403, 0.16113273799419403, 0.6445309519767761, 0.297209233045578, 0.2210017442703247, 0.15241499245166779, 0.198139488697052, 0.045724496245384216, 0.08382824808359146, 0.583401620388031, 0.2479674220085144, 0.2509914040565491, 0.14515165984630585, 0.238895446062088, 0.0907197892665863, 0.024191943928599358, 0.10944758355617523, 0.6785750389099121, 0.06566855311393738, 0.0875580683350563, 0.04377903416752815, 0.021889517083764076, 0.19473902881145477, 0.15579122304916382, 0.3505302667617798, 0.10386081784963608, 0.14280861616134644, 0.05193040892481804, 0.18012773990631104, 0.5403832197189331, 0.28671857714653015, 0.28671857714653015, 0.28671857714653015, 0.2697663903236389, 0.32482075691223145, 0.10460329055786133, 0.22021745145320892, 0.06055980175733566, 0.022021746262907982, 0.22853657603263855, 0.4570731520652771, 0.22450734674930573, 0.13934938609600067, 0.3638567328453064, 0.11612448841333389, 0.12773694097995758, 0.03096652962267399, 0.15962612628936768, 0.31925225257873535, 0.31925225257873535, 0.15962612628936768, 0.18702729046344757, 0.5610818862915039, 0.060115914791822433, 0.09351364523172379, 0.03339773043990135, 0.0667954608798027, 0.21787545084953308, 0.31747564673423767, 0.15873782336711884, 0.2023129165172577, 0.05913762003183365, 0.043575089424848557, 0.23049145936965942, 0.33987724781036377, 0.14454549551010132, 0.16798530519008636, 0.058599524199962616, 0.06250616163015366, 0.28202441334724426, 0.23766101896762848, 0.17745356261730194, 0.20597288012504578, 0.05386982858181, 0.041194576770067215, 0.39147278666496277, 0.13049092888832092, 0.13049092888832092, 0.13049092888832092, 0.06524546444416046, 0.19573639333248138, 0.7753161787986755, 0.16917750239372253, 0.10150650143623352, 0.13534200191497803, 0.3721905052661896, 0.16917750239372253, 0.03383550047874451, 0.5837447643280029, 0.4206145703792572, 0.24299435317516327, 0.11471306532621384, 0.14184948801994324, 0.04933895543217659, 0.03083684667944908, 0.6706659197807312, 0.13413318991661072, 0.13413318991661072, 0.13413318991661072, 0.3254320025444031, 0.26330408453941345, 0.16567447781562805, 0.12129738181829453, 0.08283723890781403, 0.04437709227204323, 0.23924361169338226, 0.20506596565246582, 0.12816622853279114, 0.2990545332431793, 0.06835532188415527, 0.059810902923345566, 0.7306088209152222, 0.07486139982938766, 0.5988911986351013, 0.2245842069387436, 0.07486139982938766, 0.20938530564308167, 0.20938530564308167, 0.16750824451446533, 0.125631183385849, 0.251262366771698, 0.04187706112861633, 0.31723377108573914, 0.16617006063461304, 0.1963828057050705, 0.18882961571216583, 0.06042547896504402, 0.06797866523265839, 0.7973948121070862, 0.15902434289455414, 0.15902434289455414, 0.6360973715782166, 0.7531883120536804, 0.11454658210277557, 0.5727329254150391, 0.22909316420555115, 0.11454658210277557, 0.2693902850151062, 0.053878054022789, 0.323268324136734, 0.3771463930606842, 0.2405124306678772, 0.1202562153339386, 0.14029891788959503, 0.3607686460018158, 0.040085405111312866, 0.10021351277828217, 0.20857146382331848, 0.11587303876876831, 0.3939683437347412, 0.13904765248298645, 0.09269843250513077, 0.06952382624149323, 0.351157009601593, 0.2794922888278961, 0.08958086371421814, 0.20066113770008087, 0.04658205062150955, 0.03224911168217659, 0.1996547281742096, 0.20963746309280396, 0.2695338726043701, 0.18967199325561523, 0.03993094339966774, 0.08984462916851044, 0.5830053687095642, 0.7878351807594299, 0.3535836935043335, 0.269205778837204, 0.15067487955093384, 0.14263887703418732, 0.04419796168804169, 0.04017996788024902, 0.2287602424621582, 0.3128632605075836, 0.1984831541776657, 0.1749342978000641, 0.04373357445001602, 0.04036945477128029, 0.830553412437439, 0.1543738842010498, 0.6174955368041992, 0.276714026927948, 0.138357013463974, 0.553428053855896, 0.25357091426849365, 0.5071418285369873, 0.7047261595726013, 0.35106369853019714, 0.1647850126028061, 0.19344326853752136, 0.1289621740579605, 0.10746848583221436, 0.05731652304530144, 0.3180701732635498, 0.11961613595485687, 0.3425371050834656, 0.08971209824085236, 0.10058629512786865, 0.029904033988714218, 0.4244898855686188, 0.17632657289505005, 0.12408165633678436, 0.13714288175106049, 0.05877552181482315, 0.0848979726433754, 0.40125375986099243, 0.699504017829895, 0.1561640352010727, 0.7808201909065247, 0.730674684047699, 0.18082407116889954, 0.18082407116889954, 0.18082407116889954, 0.18082407116889954, 0.24109876155853271, 0.06027469038963318, 0.2515265643596649, 0.2515265643596649, 0.2515265643596649, 0.2515265643596649, 0.7608059644699097, 0.448233425617218, 0.09744204580783844, 0.1753956824541092, 0.12992273271083832, 0.07145749777555466, 0.07795363664627075, 0.22052060067653656, 0.1543644219636917, 0.3087288439273834, 0.08820824325084686, 0.17641648650169373, 0.04410412162542343, 0.6451051831245422, 0.7480334043502808, 0.06810858845710754, 0.19070404767990112, 0.12259546667337418, 0.5312470197677612, 0.027243437245488167, 0.06810858845710754, 0.5828407406806946, 0.2053883671760559, 0.3058004677295685, 0.16887487471103668, 0.22820930182933807, 0.05477023124694824, 0.031949300318956375, 0.41429397463798523, 0.41429397463798523, 0.36078953742980957, 0.10474535077810287, 0.11638372391462326, 0.1629372090101242, 0.046553488820791245, 0.20949070155620575, 0.2631678879261017, 0.5263357758522034, 0.21001595258712769, 0.14001064002513885, 0.07000532001256943, 0.5600425601005554, 0.07000532001256943, 0.8551472425460815, 0.23424679040908813, 0.1756850928068161, 0.058561697602272034, 0.1756850928068161, 0.058561697602272034, 0.3513701856136322, 0.22161082923412323, 0.11080541461706161, 0.4709230065345764, 0.08310405910015106, 0.027701353654265404, 0.08310405910015106, 0.18709959089756012, 0.09354979544878006, 0.654848575592041, 0.09354979544878006, 0.6811038851737976, 0.22703462839126587, 0.8426913619041443, 0.5829169154167175, 0.39239636063575745, 0.23053286969661713, 0.15695855021476746, 0.0931941345334053, 0.06866936385631561, 0.06376440823078156, 0.10907091200351715, 0.2181418240070343, 0.0727139413356781, 0.5453545451164246, 0.03635697066783905, 0.0727139413356781, 0.49928945302963257, 0.7630199193954468, 0.12716998159885406, 0.12716998159885406, 0.742506206035614, 0.6339759230613708, 0.567618727684021, 0.6381571292877197, 0.25827091932296753, 0.33001282811164856, 0.15783222019672394, 0.14348384737968445, 0.05739353597164154, 0.05739353597164154, 0.16112765669822693, 0.16112765669822693, 0.16112765669822693, 0.16112765669822693, 0.32225531339645386, 0.35952702164649963, 0.41519472002983093, 0.20449888706207275, 0.21069581806659698, 0.08056017011404037, 0.0433785505592823, 0.0433785505592823, 0.6709972023963928, 0.17893259227275848, 0.08946629613637924, 0.04473314806818962, 0.169783353805542, 0.169783353805542, 0.565944492816925, 0.056594450026750565, 0.7241132855415344, 0.3015696704387665, 0.740373432636261, 0.4754289984703064, 0.4754289984703064, 0.3854748010635376, 0.2168295681476593, 0.14053769409656525, 0.1445530503988266, 0.06826116144657135, 0.04416898638010025, 0.893927276134491, 0.7403393983840942, 0.2353755533695221, 0.11208359152078629, 0.3250424265861511, 0.2017504721879959, 0.0784585177898407, 0.044833436608314514, 0.5821551084518433, 0.3240566551685333, 0.21873824298381805, 0.1506863385438919, 0.2154976725578308, 0.0502287819981575, 0.040507081896066666, 0.10749176889657974, 0.10749176889657974, 0.42996707558631897, 0.3224753141403198, 0.10749176889657974, 0.18929624557495117, 0.09464812278747559, 0.5678887367248535, 0.09464812278747559, 0.2888281047344208, 0.2888281047344208, 0.2888281047344208, 0.2888281047344208, 0.22758787870407104, 0.6827636361122131, 0.5263909101486206, 0.7249166369438171, 0.3911452889442444, 0.20861081779003143, 0.1849050521850586, 0.12327003479003906, 0.04741154983639717, 0.04504097253084183, 0.2923133373260498, 0.12179722636938095, 0.17051611840724945, 0.1461566686630249, 0.194875568151474, 0.07307833433151245, 0.6204774379730225, 0.6482470631599426, 0.2647233009338379, 0.18713198602199554, 0.2464665174484253, 0.1369258463382721, 0.10497648268938065, 0.0638987272977829, 0.8468335866928101, 0.5113941431045532, 0.24299472570419312, 0.18899589776992798, 0.0809982419013977, 0.21599531173706055, 0.10799765586853027, 0.1619964838027954, 0.629761278629303, 0.15744031965732574, 0.15744031965732574, 0.18746252357959747, 0.18746252357959747, 0.5623875260353088, 0.3538752794265747, 0.10888469964265823, 0.2722117602825165, 0.11568999290466309, 0.10207940638065338, 0.047637056559324265, 0.11360932141542435, 0.2272186428308487, 0.11360932141542435, 0.2272186428308487, 0.2272186428308487, 0.11360932141542435, 0.563225507736206, 0.09387091547250748, 0.13141928613185883, 0.13141928613185883, 0.056322552263736725, 0.03754836693406105, 0.4706825613975525, 0.4706825613975525, 0.7404749393463135, 0.7514942288398743, 0.27413755655288696, 0.2308526635169983, 0.28375640511512756, 0.08656974881887436, 0.08176032453775406, 0.04809430614113808, 0.07009532302618027, 0.18692085146903992, 0.14019064605236053, 0.4205719232559204, 0.11682553589344025, 0.04673021286725998, 0.4442312717437744, 0.1735738068819046, 0.1088513731956482, 0.15592223405838013, 0.064722441136837, 0.04707086458802223, 0.2939426600933075, 0.18848231434822083, 0.1907261461019516, 0.20418916642665863, 0.0718027874827385, 0.05160825327038765, 0.21388953924179077, 0.5941376090049744, 0.04753100872039795, 0.04753100872039795, 0.023765504360198975, 0.07129651308059692, 0.6337752342224121, 0.5833286046981812, 0.7305459380149841, 0.7308570146560669, 0.47573018074035645, 0.11326909065246582, 0.1812305450439453, 0.09061527252197266, 0.0830639973282814, 0.05285890772938728, 0.16396696865558624, 0.1912948042154312, 0.24595046043395996, 0.13663914799690247, 0.1912948042154312, 0.05465565621852875, 0.40867170691490173, 0.40867170691490173, 0.27146610617637634, 0.24640770256519318, 0.18376167118549347, 0.14617405831813812, 0.08770443499088287, 0.06682242453098297, 0.43515145778656006, 0.43515145778656006, 0.3106054663658142, 0.2863394021987915, 0.09706420451402664, 0.2232476770877838, 0.04853210225701332, 0.038825683295726776, 0.4717794954776764, 0.18871180713176727, 0.2830677032470703, 0.7380056381225586, 0.18450140953063965, 0.24502213299274445, 0.10889872163534164, 0.4355948865413666, 0.08167403936386108, 0.05444936081767082, 0.05444936081767082, 0.28577613830566406, 0.11664332449436188, 0.2391188144683838, 0.2391188144683838, 0.05832166224718094, 0.06415382772684097, 0.6179226040840149, 0.20597419142723083, 0.5826698541641235, 0.6844369769096375, 0.33024224638938904, 0.16817893087863922, 0.2599128782749176, 0.13148534297943115, 0.06115597113966942, 0.0519825778901577, 0.583412230014801, 0.36213141679763794, 0.20987161993980408, 0.23044726252555847, 0.09464798122644424, 0.06584207713603973, 0.037036165595054626, 0.6472278833389282, 0.7034046649932861, 0.1406809240579605, 0.24264580011367798, 0.1915624737739563, 0.29372912645339966, 0.0638541579246521, 0.17879164218902588, 0.03831249475479126, 0.6983322501182556, 0.7157014012336731, 0.3043306767940521, 0.1595880389213562, 0.2672171890735626, 0.16701073944568634, 0.05195889621973038, 0.04824754595756531, 0.18425177037715912, 0.18425177037715912, 0.18425177037715912, 0.5527552962303162, 0.40603867173194885, 0.40603867173194885, 0.49452337622642517, 0.49452337622642517, 0.26010972261428833, 0.23120863735675812, 0.11560431867837906, 0.28901079297065735, 0.0674358531832695, 0.03853477165102959, 0.259024053812027, 0.16483348608016968, 0.30611932277679443, 0.12558741867542267, 0.0941905602812767, 0.04709528014063835, 0.7768400311470032, 0.22734813392162323, 0.29952213168144226, 0.19126112759113312, 0.20208722352981567, 0.04691310599446297, 0.03247830271720886, 0.21136295795440674, 0.14971542358398438, 0.30823764204978943, 0.24659012258052826, 0.044033948332071304, 0.052840739488601685, 0.140152245759964, 0.6073263883590698, 0.046717412769794464, 0.046717412769794464, 0.046717412769794464, 0.09343482553958893, 0.2894149422645569, 0.41501012444496155, 0.054606594145298004, 0.1583591252565384, 0.04368527606129646, 0.03276395797729492, 0.2730891704559326, 0.4096337556838989, 0.05851911008358002, 0.16580414772033691, 0.04876592382788658, 0.039012741297483444, 0.15328265726566315, 0.15328265726566315, 0.15328265726566315, 0.15328265726566315, 0.3065653145313263, 0.6352794766426086, 0.04444204643368721, 0.277762770652771, 0.05555255711078644, 0.5221940279006958, 0.022221023216843605, 0.0777735784649849, 0.4872641861438751, 0.1328902393579483, 0.20671814680099487, 0.088593490421772, 0.059062324464321136, 0.029531162232160568, 0.7784172892570496, 0.12973621487617493, 0.12973621487617493, 0.7130994200706482, 0.30342912673950195, 0.19196537137031555, 0.14242592453956604, 0.24769724905490875, 0.06811674684286118, 0.04334701970219612, 0.7154433727264404, 0.1500466763973236, 0.2719596028327942, 0.2625816762447357, 0.16880251467227936, 0.04688958823680878, 0.10315708816051483, 0.34284183382987976, 0.25027453899383545, 0.13370831310749054, 0.167992502450943, 0.06513994932174683, 0.041141021996736526, 0.15447930991649628, 0.6179172396659851, 0.15447930991649628, 0.15447930991649628, 0.16866381466388702, 0.33732762932777405, 0.16866381466388702, 0.33732762932777405, 0.5030822157859802, 0.17210708558559418, 0.15886807441711426, 0.07943403720855713, 0.052956026047468185, 0.026478013023734093, 0.19671690464019775, 0.2379639893770218, 0.20623545348644257, 0.22209972143173218, 0.09201274067163467, 0.044419944286346436, 0.17668317258358002, 0.1514427214860916, 0.32812589406967163, 0.0757213607430458, 0.20192363858222961, 0.0757213607430458, 0.49720528721809387, 0.5813910961151123, 0.28573599457740784, 0.26158928871154785, 0.2012225240468979, 0.12073351442813873, 0.060366757214069366, 0.07244011014699936, 0.7074976563453674, 0.6772387623786926, 0.16930969059467316, 0.16930969059467316, 0.9071956276893616, 0.3756115436553955, 0.5008153915405273, 0.12520384788513184, 0.28259050846099854, 0.5651810169219971, 0.40989959239959717, 0.2193322479724884, 0.16899369657039642, 0.10427270829677582, 0.05393415689468384, 0.05033854767680168, 0.12342695146799088, 0.24685390293598175, 0.12342695146799088, 0.4114231765270233, 0.06171347573399544, 0.04114231839776039, 0.7381438612937927, 0.09226798266172409, 0.09226798266172409, 0.09226798266172409, 0.22716833651065826, 0.1469912827014923, 0.41424813866615295, 0.08017706125974655, 0.06681421399116516, 0.06681421399116516, 0.7780926823616028, 0.2808339297771454, 0.1404169648885727, 0.1638197898864746, 0.18722261488437653, 0.04680565372109413, 0.21062543988227844, 0.2798829674720764, 0.5597659349441528, 0.7777856588363647, 0.6896466016769409, 0.08331286162137985, 0.7498157620429993, 0.041656430810689926, 0.041656430810689926, 0.041656430810689926, 0.12496928870677948, 0.33805549144744873, 0.2366388440132141, 0.1352221965789795, 0.21476466953754425, 0.05369116738438606, 0.023862741887569427, 0.20747846364974976, 0.20747846364974976, 0.20747846364974976, 0.20747846364974976, 0.4149569272994995, 0.6402356028556824, 0.7151545286178589, 0.12706059217453003, 0.6353029012680054, 0.6702651977539062, 0.15937137603759766, 0.6374855041503906, 0.15937137603759766, 0.28034740686416626, 0.2854446470737457, 0.21663209795951843, 0.11213896423578262, 0.05861809477210045, 0.045875031501054764, 0.29027682542800903, 0.24503886699676514, 0.19980092346668243, 0.1507931500673294, 0.05654743313789368, 0.05277760326862335, 0.2524909973144531, 0.23763859272003174, 0.15347492694854736, 0.17327813804149628, 0.09406527876853943, 0.0891144722700119, 0.2825530171394348, 0.2825530171394348, 0.2825530171394348, 0.2825530171394348, 0.5834284424781799, 0.7296009063720703, 0.6896336078643799, 0.7236827611923218, 0.3033023178577423, 0.33325809240341187, 0.11233419179916382, 0.13854549825191498, 0.04118920490145683, 0.06740051507949829, 0.29517969489097595, 0.22809341549873352, 0.1610071063041687, 0.12075533717870712, 0.040251776576042175, 0.17442438006401062, 0.7256996035575867, 0.16485801339149475, 0.16485801339149475, 0.2885015308856964, 0.12364351004362106, 0.20607250928878784, 0.04121450334787369, 0.5755460262298584, 0.16444171965122223, 0.08222085982561111, 0.08222085982561111, 0.28153276443481445, 0.16716007888317108, 0.28153276443481445, 0.12317059189081192, 0.05278739705681801, 0.08797898888587952, 0.23751696944236755, 0.24980232119560242, 0.23342184722423553, 0.15970967710018158, 0.06552191823720932, 0.05323655903339386, 0.6480377316474915, 0.6877042055130005, 0.17192605137825012, 0.17192605137825012, 0.17192605137825012, 0.7588813900947571, 0.325221985578537, 0.08392824977636337, 0.22031165659427643, 0.3147309422492981, 0.041964124888181686, 0.020982062444090843, 0.38047659397125244, 0.38047659397125244, 0.12594524025917053, 0.629726231098175, 0.12594524025917053, 0.12594524025917053, 0.28626370429992676, 0.3915560841560364, 0.14477704465389252, 0.11845394223928452, 0.04935580864548683, 0.013161549344658852, 0.4157014787197113, 0.4157014787197113, 0.23214499652385712, 0.23214499652385712, 0.46428999304771423, 0.7063881158828735, 0.14127762615680695, 0.5068390965461731, 0.7642611265182495, 0.17636795341968536, 0.44027116894721985, 0.2582240402698517, 0.44671669602394104, 0.08280602097511292, 0.14382098615169525, 0.0490298829972744, 0.02070150524377823, 0.6703616380691528, 0.44850364327430725, 0.14070703089237213, 0.1582954078912735, 0.13191284239292145, 0.07914770394563675, 0.03517675772309303, 0.5857540369033813, 0.09762567281723022, 0.19525134563446045, 0.09033290296792984, 0.16259922087192535, 0.3793981969356537, 0.21679896116256714, 0.09033290296792984, 0.054199740290641785, 0.42892012000083923, 0.20983608067035675, 0.20983608067035675, 0.20983608067035675, 0.4196721613407135, 0.5110245943069458, 0.7304196357727051, 0.27282264828681946, 0.35585564374923706, 0.17792782187461853, 0.09489484131336212, 0.07117112725973129, 0.02965463697910309, 0.6366530656814575, 0.7711496949195862, 0.4435541033744812, 0.20418724417686462, 0.27224966883659363, 0.09528738260269165, 0.35392457246780396, 0.040837448090314865, 0.040837448090314865, 0.4094841182231903, 0.17843443155288696, 0.17843443155288696, 0.12810677289962769, 0.059478141367435455, 0.04575241729617119, 0.2548251450061798, 0.1274125725030899, 0.1274125725030899, 0.44594401121139526, 0.06370628625154495, 0.5146315693855286, 0.17191188037395477, 0.4666179418563843, 0.12279419600963593, 0.14735303819179535, 0.07367651909589767, 0.04911768063902855, 0.09793668985366821, 0.09793668985366821, 0.5876201391220093, 0.09793668985366821, 0.303916871547699, 0.261433869600296, 0.16993200778961182, 0.15522636473178864, 0.07516223937273026, 0.03431319445371628, 0.7306106090545654, 0.10045409202575684, 0.10045409202575684, 0.10045409202575684, 0.20090818405151367, 0.3013622760772705, 0.20090818405151367, 0.2694932818412781, 0.5389865636825562, 0.3407161235809326, 0.3407161235809326, 0.3407161235809326, 0.7264364957809448, 0.283555805683136, 0.1000785157084465, 0.4169938266277313, 0.1000785157084465, 0.016679752618074417, 0.08339876681566238, 0.21800416707992554, 0.21549837291240692, 0.2906722128391266, 0.10774918645620346, 0.13280713558197021, 0.03758692368865013, 0.6890105605125427, 0.20378968119621277, 0.2629544138908386, 0.18406809866428375, 0.19064195454120636, 0.05916474759578705, 0.09203404933214188, 0.05198713392019272, 0.15596139430999756, 0.5718584656715393, 0.05198713392019272, 0.18195496499538422, 0.7295055985450745, 0.19342824816703796, 0.14507119357585907, 0.35058870911598206, 0.12089265882968903, 0.13298192620277405, 0.04835706204175949, 0.1839274913072586, 0.1839274913072586, 0.3678549826145172, 0.3678549826145172, 0.8975759148597717, 0.6199175715446472, 0.20663918554782867, 0.20663918554782867, 0.18434908986091614, 0.7373963594436646, 0.6782115697860718, 0.3391057848930359, 0.16033625602722168, 0.32067251205444336, 0.48100876808166504, 0.6238768696784973, 0.3140866160392761, 0.3140866160392761, 0.15704330801963806, 0.3140866160392761], \"Term\": [\"10225h\", \"20o\", \"37091k\", \"71248f\", \"87171e\", \"97657f\", \"absorbent\", \"absorbent\", \"absorbent\", \"absorbent\", \"absorbent\", \"absorbent\", \"adequate\", \"adequate\", \"adequate\", \"adequate\", \"adequate\", \"adequate\", \"adhesive\", \"adhesive\", \"adhesive\", \"adhesive\", \"adhesive\", \"agricultural\", \"ailment\", \"ailment\", \"ailment\", \"ailment\", \"ailment\", \"ailment\", \"allege\", \"allege\", \"allege\", \"allege\", \"allege\", \"allege\", \"also\", \"also\", \"also\", \"also\", \"also\", \"also\", \"amount\", \"amount\", \"amount\", \"amount\", \"amount\", \"amount\", \"answer\", \"answer\", \"answer\", \"answer\", \"answer\", \"answer\", \"appear\", \"appear\", \"appear\", \"appear\", \"appear\", \"appear\", \"arvil\", \"arvil\", \"arvil\", \"arvil\", \"authorization\", \"authorization\", \"authorization\", \"authorization\", \"authorization\", \"authorization\", \"bacillus\", \"bacillus\", \"bald\", \"baldness\", \"baldness\", \"baldness\", \"baldness\", \"baldness\", \"ballam\", \"bantex\", \"banthine\", \"barrel\", \"barrel\", \"bear\", \"bear\", \"bear\", \"bear\", \"bear\", \"bear\", \"benzedrine\", \"benzedrine\", \"benzedrine\", \"benzedrine\", \"beverage\", \"beverage\", \"beverage\", \"beverage\", \"beverage\", \"blood\", \"blood\", \"blood\", \"blood\", \"blood\", \"blood\", \"body\", \"body\", \"body\", \"body\", \"body\", \"body\", \"bottle\", \"bottle\", \"bottle\", \"bottle\", \"bottle\", \"bottle\", \"box\", \"box\", \"box\", \"box\", \"box\", \"box\", \"bpansule\", \"bparplex\", \"bparplex\", \"bparplex\", \"bparplex\", \"bpinephrin\", \"brine\", \"brine\", \"brittleness\", \"btl\", \"btl\", \"btl\", \"btl\", \"btl\", \"btl\", \"bunion\", \"bunion\", \"bunion\", \"cancer\", \"cancer\", \"cancer\", \"cancer\", \"cancer\", \"cancer\", \"canister\", \"capsule\", \"capsule\", \"capsule\", \"capsule\", \"capsule\", \"capsule\", \"capsulesbeauty\", \"capsulesgeorge\", \"capsuleshelena\", \"carbromal\", \"case\", \"case\", \"case\", \"case\", \"case\", \"case\", \"cause\", \"cause\", \"cause\", \"cause\", \"cause\", \"cause\", \"centigrade\", \"centigrade\", \"centigrade\", \"charge\", \"charge\", \"charge\", \"charge\", \"charge\", \"charge\", \"chlor\", \"chloral\", \"chloral\", \"chloral\", \"chloral\", \"chloral\", \"chlorine\", \"chlorine\", \"chlorine\", \"chlorine\", \"chlorine\", \"chlorogen\", \"chlorogen\", \"chlorogen\", \"claim\", \"claim\", \"claim\", \"claim\", \"claim\", \"claim\", \"claimant\", \"claimant\", \"claimant\", \"claimant\", \"claimant\", \"claimant\", \"clinic\", \"clinic\", \"clinic\", \"clinic\", \"clinic\", \"clinic\", \"clipper\", \"cobiplex\", \"cobiplex\", \"cobiplex\", \"cobiplex\", \"cobiplex\", \"codliver\", \"codliver\", \"cogan\", \"cohesive\", \"complaint\", \"complaint\", \"complaint\", \"complaint\", \"complaint\", \"complaint\", \"condition\", \"condition\", \"condition\", \"condition\", \"condition\", \"condition\", \"conjugated\", \"conjugated\", \"conjugated\", \"corbin\", \"corbin4\", \"coroirt\", \"cosmetic\", \"cosmetic\", \"cosmetic\", \"cosmetic\", \"cosmetic\", \"cosmetic\", \"costal\", \"costsnembutal\", \"cotten\", \"cotton\", \"cotton\", \"cotton\", \"cotton\", \"cotton\", \"cotton\", \"cottonacme\", \"count\", \"count\", \"count\", \"count\", \"count\", \"count\", \"court\", \"court\", \"court\", \"court\", \"court\", \"court\", \"crate\", \"crate\", \"crate\", \"craven\", \"craven\", \"craven\", \"craven\", \"cream\", \"cream\", \"cream\", \"cream\", \"cream\", \"cream\", \"culture\", \"culture\", \"culture\", \"culture\", \"culture\", \"dandelion\", \"dandelion\", \"dandelion\", \"deatedrine\", \"deface\", \"defective\", \"defective\", \"defective\", \"defective\", \"defective\", \"defective\", \"deficiency\", \"deficiency\", \"deficiency\", \"deficiency\", \"deficiency\", \"deficiency\", \"degree\", \"degree\", \"degree\", \"degree\", \"degree\", \"dencker\", \"dencker\", \"dencker\", \"destroy\", \"destroy\", \"destroy\", \"destroy\", \"destroy\", \"destroy\", \"destructionprophylacticskillashun\", \"device\", \"device\", \"device\", \"device\", \"device\", \"device\", \"dexedrine\", \"dexedrine\", \"dexedrine\", \"dexedrine\", \"dexedrine\", \"dexedrine\", \"diet\", \"diet\", \"diet\", \"diet\", \"diet\", \"diet\", \"digitoxin\", \"digitoxin\", \"diodane\", \"diodane\", \"diodane\", \"direction\", \"direction\", \"direction\", \"direction\", \"direction\", \"direction\", \"discharge\", \"discharge\", \"disease\", \"disease\", \"disease\", \"disease\", \"disease\", \"disease\", \"disintegration\", \"disintegration\", \"disintegration\", \"disintegration\", \"dispense\", \"dispense\", \"dispense\", \"dispense\", \"dispense\", \"dispense\", \"disposition\", \"disposition\", \"disposition\", \"disposition\", \"disposition\", \"disposition\", \"dist\", \"dist\", \"dist\", \"dist\", \"dist\", \"dist\", \"district\", \"district\", \"district\", \"district\", \"district\", \"district\", \"dog\", \"dog\", \"dog\", \"dog\", \"dog\", \"dog\", \"dolcin\", \"drop\", \"drop\", \"drop\", \"drop\", \"drop\", \"drop\", \"dropsernest\", \"drug\", \"drug\", \"drug\", \"drug\", \"drug\", \"drug\", \"dyes\", \"dyes\", \"dyes\", \"dyes\", \"effective\", \"effective\", \"effective\", \"effective\", \"effective\", \"effective\", \"efficacious\", \"efficacious\", \"efficacious\", \"efficacious\", \"efficacious\", \"efficacious\", \"elbert\", \"electronic\", \"electronic\", \"electronic\", \"electronic\", \"elixir\", \"elixir\", \"elixir\", \"elixir\", \"elixir\", \"elixir\", \"enter\", \"enter\", \"enter\", \"enter\", \"enter\", \"enter\", \"equanil\", \"equine\", \"equine\", \"equine\", \"ergotrate\", \"essence\", \"essence\", \"essence\", \"essence\", \"estrogenic\", \"estrogenic\", \"estrogenic\", \"estrogenic\", \"extract\", \"extract\", \"extract\", \"extract\", \"extract\", \"extract\", \"eye\", \"eye\", \"eye\", \"eye\", \"eye\", \"eye\", \"fail\", \"fail\", \"fail\", \"fail\", \"fail\", \"fail\", \"fall\", \"fall\", \"fall\", \"fall\", \"fall\", \"fall\", \"feather\", \"fight\", \"file\", \"file\", \"file\", \"file\", \"file\", \"file\", \"fine\", \"fine\", \"fine\", \"fine\", \"fine\", \"fine\", \"finney\", \"firstaid\", \"firstaid\", \"fitl\", \"fitl\", \"fitl\", \"flick\", \"flick\", \"fluidounce\", \"follow\", \"follow\", \"follow\", \"follow\", \"follow\", \"follow\", \"food\", \"food\", \"food\", \"food\", \"food\", \"food\", \"formula\", \"formula\", \"formula\", \"formula\", \"formula\", \"formula\", \"fultondale\", \"fumigate\", \"gantrisin\", \"gantrisin\", \"gap\", \"gas\", \"gas\", \"gas\", \"gas\", \"gas\", \"gas\", \"generator\", \"generator\", \"generator\", \"generator\", \"glanf\", \"government\", \"government\", \"government\", \"government\", \"government\", \"government\", \"graphic\", \"graphic\", \"graphic\", \"graphic\", \"graphic\", \"graphic\", \"griffon\", \"grime\", \"gross\", \"gross\", \"gross\", \"gross\", \"gross\", \"gross\", \"grossprophylacticsiver\", \"guilty\", \"guilty\", \"guilty\", \"guilty\", \"guilty\", \"guilty\", \"haemoglobin\", \"haemoglobin\", \"hair\", \"hair\", \"hair\", \"hair\", \"hair\", \"hair\", \"haloid\", \"haloid\", \"halomist\", \"halomist\", \"halomist\", \"halomist\", \"halomist\", \"harkness\", \"heat\", \"heat\", \"heat\", \"heat\", \"heat\", \"heat\", \"herb\", \"herb\", \"herb\", \"herb\", \"herb\", \"herb\", \"herbal\", \"herbal\", \"herbal\", \"herbal\", \"higgin\", \"higgin\", \"highland\", \"hitt\", \"hold\", \"hold\", \"hold\", \"hold\", \"hold\", \"hold\", \"hole\", \"hole\", \"hole\", \"hole\", \"hole\", \"hole\", \"hull\", \"husk\", \"husk\", \"husk\", \"ille\", \"inc101657el\", \"ind\", \"indefi\", \"information\", \"information\", \"information\", \"information\", \"information\", \"information\", \"infrare\", \"infrare\", \"infrare\", \"infrare\", \"infrare\", \"infrared\", \"ingredient\", \"ingredient\", \"ingredient\", \"ingredient\", \"ingredient\", \"ingredient\", \"instapep\", \"instapep\", \"instapep\", \"instapep\", \"instrument\", \"instrument\", \"instrument\", \"instrument\", \"intramuscularly\", \"invention\", \"jaramillo\", \"jointly\", \"jointly\", \"judgment\", \"judgment\", \"judgment\", \"judgment\", \"judgment\", \"judgment\", \"kephart\", \"killian\", \"know\", \"know\", \"know\", \"know\", \"know\", \"know\", \"lab\", \"label\", \"label\", \"label\", \"label\", \"label\", \"label\", \"laken\", \"laken\", \"laken\", \"laken\", \"laken\", \"lange\", \"lange\", \"lange\", \"lange\", \"lash\", \"lash\", \"lash\", \"lash\", \"latex\", \"latex\", \"lens\", \"lense\", \"libel\", \"libel\", \"libel\", \"libel\", \"libel\", \"libel\", \"life\", \"life\", \"life\", \"life\", \"life\", \"life\", \"lvito\", \"maizel\", \"make\", \"make\", \"make\", \"make\", \"make\", \"make\", \"maleate\", \"marrow\", \"massage\", \"massage\", \"massage\", \"massage\", \"massage\", \"massage\", \"massdist\", \"massdist\", \"massdist\", \"matlock\", \"matlock\", \"matlock\", \"matter\", \"matter\", \"matter\", \"matter\", \"matter\", \"matter\", \"mattress\", \"mattress\", \"mattress\", \"mattress\", \"mattress\", \"mattress\", \"medicine\", \"medicine\", \"medicine\", \"medicine\", \"medicine\", \"medicine\", \"melting\", \"melting\", \"mexdist\", \"miltown\", \"mineral\", \"mineral\", \"mineral\", \"mineral\", \"mineral\", \"mineral\", \"miracle\", \"miracle\", \"miracle\", \"miracle\", \"miracle\", \"miracle\", \"misbrande\", \"misbrande\", \"misbrande\", \"misbrande\", \"misbrande\", \"misbrande\", \"misleading\", \"misleading\", \"misleading\", \"misleading\", \"misleading\", \"misleading\", \"mixture\", \"mixture\", \"mixture\", \"mixture\", \"mixture\", \"mixture\", \"mm\", \"modistrict\", \"moflfitt\", \"mont\", \"motion\", \"motion\", \"motion\", \"motion\", \"motion\", \"motion\", \"muscle\", \"muscle\", \"muscle\", \"muscle\", \"muscle\", \"muscle\", \"myasthene\", \"myasthene\", \"name\", \"name\", \"name\", \"name\", \"name\", \"name\", \"nascent\", \"nascent\", \"nature\", \"nature\", \"nature\", \"nature\", \"nature\", \"nature\", \"necklace\", \"necklace\", \"necklace\", \"nicotine\", \"nicotine\", \"offer\", \"offer\", \"offer\", \"offer\", \"offer\", \"offer\", \"oil\", \"oil\", \"oil\", \"oil\", \"oil\", \"oil\", \"oilacidiodine\", \"oilacidiodine\", \"oratory\", \"orchic\", \"order\", \"order\", \"order\", \"order\", \"order\", \"order\", \"osborne\", \"package\", \"package\", \"package\", \"package\", \"package\", \"package\", \"packagesadhesive\", \"packet\", \"packet\", \"page\", \"page\", \"page\", \"page\", \"page\", \"page\", \"pair\", \"pany\", \"part\", \"part\", \"part\", \"part\", \"part\", \"part\", \"partly\", \"partly\", \"partly\", \"partly\", \"peptonized\", \"peptonized\", \"peptron\", \"peptron\", \"percent\", \"percent\", \"percent\", \"percent\", \"percent\", \"percent\", \"person\", \"person\", \"person\", \"person\", \"person\", \"person\", \"plantago\", \"plea\", \"plea\", \"plea\", \"plea\", \"plea\", \"plea\", \"powder\", \"powder\", \"powder\", \"powder\", \"powder\", \"powder\", \"prescriber\", \"prescriber\", \"prescriber\", \"prescriber\", \"prescriber\", \"prescriber\", \"prescription\", \"prescription\", \"prescription\", \"prescription\", \"prescription\", \"prescription\", \"probation\", \"probation\", \"probation\", \"probation\", \"probation\", \"probation\", \"probese\", \"probese\", \"probese\", \"probese\", \"probese\", \"prodacedpy\", \"prophylactic\", \"prophylactic\", \"prophylactic\", \"prophylactic\", \"prophylactic\", \"prophylactic\", \"provision\", \"provision\", \"provision\", \"provision\", \"provision\", \"provision\", \"psyllium\", \"psyllium\", \"psyllium\", \"pulvoule\", \"purpose\", \"purpose\", \"purpose\", \"purpose\", \"purpose\", \"purpose\", \"puvoule\", \"quality\", \"quality\", \"quality\", \"quality\", \"quality\", \"quality\", \"quantity\", \"quantity\", \"quantity\", \"quantity\", \"quantity\", \"quantity\", \"rauwolfia\", \"rauwolfia\", \"rauwolfia\", \"rauwolfia\", \"redistilled\", \"redistilled\", \"redistilled\", \"redistilled\", \"report\", \"report\", \"report\", \"report\", \"report\", \"report\", \"represent\", \"represent\", \"represent\", \"represent\", \"represent\", \"represent\", \"reprint\", \"reprint\", \"reprint\", \"reprint\", \"reprint\", \"reprint\", \"reprocessedabsorbent\", \"resin\", \"result\", \"result\", \"result\", \"result\", \"result\", \"result\", \"rheumago\", \"roast\", \"roast\", \"roast\", \"roundworm\", \"saccharin\", \"saccharin\", \"saccharin\", \"saftway\", \"saftway\", \"sale\", \"sale\", \"sale\", \"sale\", \"sale\", \"sale\", \"salt\", \"salt\", \"salt\", \"salt\", \"salt\", \"salt\", \"salvage\", \"salvage\", \"salvage\", \"salvage\", \"say\", \"say\", \"say\", \"say\", \"say\", \"say\", \"sbeep\", \"scalp\", \"scalp\", \"scalp\", \"scalp\", \"scalp\", \"scalp\", \"scientifically\", \"scientifically\", \"scrap\", \"season\", \"secobarbital\", \"secobarbital\", \"secobarbital\", \"secobarbital\", \"secobarbital\", \"secobarbital\", \"section\", \"section\", \"section\", \"section\", \"section\", \"section\", \"sedamar\", \"sedamar\", \"sedamar\", \"sedamar\", \"sedamar\", \"segundo\", \"series\", \"sesame\", \"sesame\", \"shapiro\", \"shiatsuryoki\", \"shiatsuryoki\", \"shiatsuryoki\", \"ship\", \"ship\", \"ship\", \"ship\", \"ship\", \"ship\", \"shipment\", \"shipment\", \"shipment\", \"shipment\", \"shipment\", \"shipment\", \"show\", \"show\", \"show\", \"show\", \"show\", \"show\", \"sibert\", \"sibert\", \"sibert\", \"sibert\", \"silvertown\", \"simonsen\", \"smorgasbord\", \"snip\", \"sodium\", \"sodium\", \"sodium\", \"sodium\", \"sodium\", \"sodium\", \"solution\", \"solution\", \"solution\", \"solution\", \"solution\", \"solution\", \"solutioncontact\", \"source\", \"source\", \"source\", \"source\", \"source\", \"source\", \"spansule\", \"spansule\", \"spansule\", \"spansule\", \"standard\", \"standard\", \"standard\", \"standard\", \"standard\", \"standard\", \"state\", \"state\", \"state\", \"state\", \"state\", \"state\", \"station\", \"stoboki\", \"stoboki\", \"stoboki\", \"stoboki\", \"streptomycin\", \"substance\", \"substance\", \"substance\", \"substance\", \"substance\", \"substance\", \"sulfacetamide\", \"sulfacetamide\", \"sulfamethazine\", \"sulfamethazine\", \"sulfamethazine\", \"sulfamethazine\", \"sulfate\", \"sulfate\", \"sulfate\", \"sulfate\", \"sulfate\", \"sulfate\", \"supplementary\", \"supplementary\", \"sursan\", \"sursan\", \"sursan\", \"suspension\", \"suspension\", \"suspensionprocaine\", \"suture\", \"suture\", \"swiss\", \"tablet\", \"tablet\", \"tablet\", \"tablet\", \"tablet\", \"tablet\", \"tabletsnorman\", \"take\", \"take\", \"take\", \"take\", \"take\", \"take\", \"teething\", \"teething\", \"teething\", \"test\", \"test\", \"test\", \"test\", \"test\", \"test\", \"theradophilus\", \"thermmassage\", \"thermmassage\", \"thermmassage\", \"thermmassage\", \"thermometerscornell\", \"thorazine\", \"time\", \"time\", \"time\", \"time\", \"time\", \"time\", \"tjsp\", \"town\", \"toxemia\", \"trading\", \"trading\", \"trading\", \"trading\", \"trading\", \"trading\", \"treatment\", \"treatment\", \"treatment\", \"treatment\", \"treatment\", \"treatment\", \"truck\", \"truck\", \"truck\", \"truck\", \"truck\", \"turner\", \"twice\", \"twice\", \"twice\", \"twice\", \"twice\", \"twice\", \"urine\", \"urine\", \"urine\", \"urine\", \"use\", \"use\", \"use\", \"use\", \"use\", \"use\", \"utahdist\", \"utrajel\", \"utrajel\", \"utrajel\", \"utrajel\", \"utrajel\", \"utrajel\", \"vapor\", \"vapor\", \"vegewhey\", \"vegewhey\", \"vegewhey\", \"vevoron\", \"vial\", \"vial\", \"vial\", \"vial\", \"vial\", \"vial\", \"vitamin\", \"vitamin\", \"vitamin\", \"vitamin\", \"vitamin\", \"vitamin\", \"wanner\", \"water\", \"water\", \"water\", \"water\", \"water\", \"water\", \"watkin\", \"watkin\", \"watkin\", \"watkin\", \"watkin\", \"wauconda\", \"well\", \"well\", \"well\", \"well\", \"well\", \"well\", \"wet\", \"wet\", \"wet\", \"wet\", \"wheeler\", \"witsell\", \"witsell\", \"witsell\", \"wormer\", \"wormer\", \"wormseed\", \"wormseed\", \"wyatt\", \"wyatt\", \"wyatt\", \"yearspentobarbital\", \"yukol\", \"yukol\", \"yukol\", \"yukol\"]}, \"R\": 30, \"lambda.step\": 0.01, \"plot.opts\": {\"xlab\": \"PC1\", \"ylab\": \"PC2\"}, \"topic.order\": [5, 6, 2, 1, 4, 3]};\n",
       "\n",
       "function LDAvis_load_lib(url, callback){\n",
       "  var s = document.createElement('script');\n",
       "  s.src = url;\n",
       "  s.async = true;\n",
       "  s.onreadystatechange = s.onload = callback;\n",
       "  s.onerror = function(){console.warn(\"failed to load library \" + url);};\n",
       "  document.getElementsByTagName(\"head\")[0].appendChild(s);\n",
       "}\n",
       "\n",
       "if(typeof(LDAvis) !== \"undefined\"){\n",
       "   // already loaded: just create the visualization\n",
       "   !function(LDAvis){\n",
       "       new LDAvis(\"#\" + \"ldavis_el1495620809065617201744096176\", ldavis_el1495620809065617201744096176_data);\n",
       "   }(LDAvis);\n",
       "}else if(typeof define === \"function\" && define.amd){\n",
       "   // require.js is available: use it to load d3/LDAvis\n",
       "   require.config({paths: {d3: \"https://cdnjs.cloudflare.com/ajax/libs/d3/3.5.5/d3.min\"}});\n",
       "   require([\"d3\"], function(d3){\n",
       "      window.d3 = d3;\n",
       "      LDAvis_load_lib(\"https://cdn.rawgit.com/bmabey/pyLDAvis/files/ldavis.v1.0.0.js\", function(){\n",
       "        new LDAvis(\"#\" + \"ldavis_el1495620809065617201744096176\", ldavis_el1495620809065617201744096176_data);\n",
       "      });\n",
       "    });\n",
       "}else{\n",
       "    // require.js not available: dynamically load d3 & LDAvis\n",
       "    LDAvis_load_lib(\"https://cdnjs.cloudflare.com/ajax/libs/d3/3.5.5/d3.min.js\", function(){\n",
       "         LDAvis_load_lib(\"https://cdn.rawgit.com/bmabey/pyLDAvis/files/ldavis.v1.0.0.js\", function(){\n",
       "                 new LDAvis(\"#\" + \"ldavis_el1495620809065617201744096176\", ldavis_el1495620809065617201744096176_data);\n",
       "            })\n",
       "         });\n",
       "}\n",
       "</script>"
      ],
      "text/plain": [
       "PreparedData(topic_coordinates=                  x             y  topics  cluster          Freq\n",
       "topic                                                           \n",
       "4     -0.0104648931  0.0035290345       1        1 29.1930770874\n",
       "5     -0.0330883748 -0.0087483451       2        1 21.5923748016\n",
       "1      0.0261589698 -0.0180971954       3        1 20.5979785919\n",
       "0     -0.0134510388  0.0030366622       4        1 15.4444437027\n",
       "3      0.0169351482 -0.0067385236       5        1  7.8812608719\n",
       "2      0.0139101888  0.0270183674       6        1  5.2908682823, topic_info=     Category           Freq          Term          Total       loglift  \\\n",
       "133   Default 917.0000000000        tablet 917.0000000000 30.0000000000   \n",
       "21    Default 405.0000000000       capsule 405.0000000000 29.0000000000   \n",
       "141   Default 399.0000000000       vitamin 399.0000000000 28.0000000000   \n",
       "84    Default 445.0000000000    misleading 445.0000000000 27.0000000000   \n",
       "146   Default 513.0000000000        allege 513.0000000000 26.0000000000   \n",
       "311   Default  85.0000000000          hair  85.0000000000 25.0000000000   \n",
       "195   Default 367.0000000000          food 367.0000000000 24.0000000000   \n",
       "72    Default 617.0000000000         label 617.0000000000 23.0000000000   \n",
       "301   Default 284.0000000000     condition 284.0000000000 22.0000000000   \n",
       "39    Default 258.0000000000       disease 258.0000000000 21.0000000000   \n",
       "266   Default 201.0000000000          show 201.0000000000 20.0000000000   \n",
       "691   Default  90.0000000000  prophylactic  90.0000000000 19.0000000000   \n",
       "239   Default 245.0000000000      claimant 245.0000000000 18.0000000000   \n",
       "265   Default 315.0000000000     represent 315.0000000000 17.0000000000   \n",
       "423   Default 149.0000000000      dispense 149.0000000000 16.0000000000   \n",
       "171   Default 612.0000000000           use 612.0000000000 15.0000000000   \n",
       "20    Default 159.0000000000        cancer 159.0000000000 14.0000000000   \n",
       "192   Default 264.0000000000         enter 264.0000000000 13.0000000000   \n",
       "521   Default 267.0000000000        sodium 267.0000000000 12.0000000000   \n",
       "26    Default 505.0000000000        charge 505.0000000000 11.0000000000   \n",
       "151   Default 330.0000000000        device 330.0000000000 10.0000000000   \n",
       "86    Default 239.0000000000          name 239.0000000000  9.0000000000   \n",
       "587   Default 219.0000000000          make 219.0000000000  8.0000000000   \n",
       "42    Default 255.0000000000          dist 255.0000000000  7.0000000000   \n",
       "119   Default 248.0000000000        result 248.0000000000  6.0000000000   \n",
       "47    Default 810.0000000000          drug 810.0000000000  5.0000000000   \n",
       "207   Default 339.0000000000     misbrande 339.0000000000  4.0000000000   \n",
       "1285  Default  74.0000000000      solution  74.0000000000  3.0000000000   \n",
       "41    Default 321.0000000000   disposition 321.0000000000  2.0000000000   \n",
       "172   Default 152.0000000000         water 152.0000000000  1.0000000000   \n",
       "...       ...            ...           ...            ...           ...   \n",
       "146    Topic6  25.9237499237        allege 513.7564086914 -0.0474000014   \n",
       "84     Topic6  23.3925018311    misleading 445.6651611328 -0.0080000004   \n",
       "86     Topic6  15.6325139999          name 239.4405670166  0.2101999968   \n",
       "20     Topic6  12.1651735306        cancer 159.4042510986  0.3662999868   \n",
       "245    Topic6  10.8464756012       destroy 131.2206878662  0.4460999966   \n",
       "359    Topic6  11.8545675278    government 153.9376525879  0.3754000068   \n",
       "42     Topic6  15.7316331863          dist 255.9747772217  0.1498000026   \n",
       "72     Topic6  25.0556335449         label 617.1760253906 -0.2648999989   \n",
       "280    Topic6   9.1075363159          fall 100.1729354858  0.5414000154   \n",
       "26     Topic6  21.9608287811        charge 505.3367309570 -0.1967999935   \n",
       "170    Topic6   9.7204179764      standard 113.6634979248  0.4801999927   \n",
       "21     Topic6  19.2569866180       capsule 405.5892028809 -0.1083000004   \n",
       "258    Topic6  16.9740085602         order 327.0326538086 -0.0192000009   \n",
       "236    Topic6  12.4583578110        appear 182.5105590820  0.2547999918   \n",
       "138    Topic6  19.5626544952     treatment 437.1353759766 -0.1674000025   \n",
       "587    Topic6  13.6179361343          make 219.0966949463  0.1611000001   \n",
       "75     Topic6  18.8498744965         libel 421.8381347656 -0.1688999981   \n",
       "123    Topic6  18.1527767181          ship 392.3703002930 -0.1342000067   \n",
       "155    Topic6  19.6773796082          file 497.7604980469 -0.2915000021   \n",
       "47     Topic6  24.6990013123          drug 810.7184448242 -0.5519999862   \n",
       "171    Topic6  20.9669208527           use 612.0094604492 -0.4345999956   \n",
       "207    Topic6  16.0929431915     misbrande 339.9130249023 -0.1111000031   \n",
       "185    Topic6  17.1767597198         court 432.5526123047 -0.2870000005   \n",
       "340    Topic6  13.1553564072         cause 212.4825286865  0.1571999937   \n",
       "141    Topic6  15.3573570251       vitamin 399.0749511719 -0.3183999956   \n",
       "133    Topic6  18.5685329437        tablet 917.8076171875 -0.9613000154   \n",
       "50     Topic6  14.5677003860     effective 338.0122375488 -0.2050999999   \n",
       "169    Topic6  13.7136373520      shipment 265.2640380859 -0.0230999999   \n",
       "265    Topic6  13.7510843277     represent 315.1737365723 -0.1928000003   \n",
       "120    Topic6  13.6110963821          sale 278.1168823242 -0.0780000016   \n",
       "\n",
       "           logprob  \n",
       "133  30.0000000000  \n",
       "21   29.0000000000  \n",
       "141  28.0000000000  \n",
       "84   27.0000000000  \n",
       "146  26.0000000000  \n",
       "311  25.0000000000  \n",
       "195  24.0000000000  \n",
       "72   23.0000000000  \n",
       "301  22.0000000000  \n",
       "39   21.0000000000  \n",
       "266  20.0000000000  \n",
       "691  19.0000000000  \n",
       "239  18.0000000000  \n",
       "265  17.0000000000  \n",
       "423  16.0000000000  \n",
       "171  15.0000000000  \n",
       "20   14.0000000000  \n",
       "192  13.0000000000  \n",
       "521  12.0000000000  \n",
       "26   11.0000000000  \n",
       "151  10.0000000000  \n",
       "86    9.0000000000  \n",
       "587   8.0000000000  \n",
       "42    7.0000000000  \n",
       "119   6.0000000000  \n",
       "47    5.0000000000  \n",
       "207   4.0000000000  \n",
       "1285  3.0000000000  \n",
       "41    2.0000000000  \n",
       "172   1.0000000000  \n",
       "...            ...  \n",
       "146  -5.1006999016  \n",
       "84   -5.2034997940  \n",
       "86   -5.6065001488  \n",
       "20   -5.8572998047  \n",
       "245  -5.9720001221  \n",
       "359  -5.8832001686  \n",
       "42   -5.6002001762  \n",
       "72   -5.1347999573  \n",
       "280  -6.1468000412  \n",
       "26   -5.2666001320  \n",
       "170  -6.0816998482  \n",
       "21   -5.3979997635  \n",
       "258  -5.5241999626  \n",
       "236  -5.8334999084  \n",
       "138  -5.3822999001  \n",
       "587  -5.7445001602  \n",
       "75   -5.4194002151  \n",
       "123  -5.4570999146  \n",
       "155  -5.3763999939  \n",
       "47   -5.1490998268  \n",
       "171  -5.3129000664  \n",
       "207  -5.5774998665  \n",
       "185  -5.5123000145  \n",
       "340  -5.7790999413  \n",
       "141  -5.6243000031  \n",
       "133  -5.4344000816  \n",
       "50   -5.6771001816  \n",
       "169  -5.7375001907  \n",
       "265  -5.7347998619  \n",
       "120  -5.7449998856  \n",
       "\n",
       "[520 rows x 6 columns], token_table=      Topic         Freq                Term\n",
       "term                                        \n",
       "2936      4 0.5834949613              10225h\n",
       "5396      4 0.5833504200                 20o\n",
       "5534      3 0.4948130250              37091k\n",
       "5456      4 0.5825788975              71248f\n",
       "4378      3 0.4980035126              87171e\n",
       "2937      4 0.5833455920              97657f\n",
       "645       1 0.0820318833           absorbent\n",
       "645       2 0.1230478287           absorbent\n",
       "645       3 0.7177789807           absorbent\n",
       "645       4 0.0615239143           absorbent\n",
       "645       5 0.0205079708           absorbent\n",
       "645       6 0.0205079708           absorbent\n",
       "3         1 0.3506201208            adequate\n",
       "3         2 0.2804960907            adequate\n",
       "3         3 0.1697739512            adequate\n",
       "3         4 0.1328665763            adequate\n",
       "3         5 0.0405981168            adequate\n",
       "3         6 0.0258351658            adequate\n",
       "647       1 0.0966391638            adhesive\n",
       "647       2 0.2577044368            adhesive\n",
       "647       3 0.5154088736            adhesive\n",
       "647       4 0.0644261092            adhesive\n",
       "647       6 0.0322130546            adhesive\n",
       "5397      4 0.5833084583        agricultural\n",
       "818       1 0.2048401237             ailment\n",
       "818       2 0.1609458029             ailment\n",
       "818       3 0.4243116677             ailment\n",
       "818       4 0.0877886266             ailment\n",
       "818       5 0.0877886266             ailment\n",
       "818       6 0.0292628743             ailment\n",
       "...     ...          ...                 ...\n",
       "1785      3 0.5718584657              watkin\n",
       "1785      4 0.0519871339              watkin\n",
       "1785      5 0.1819549650              watkin\n",
       "2481      6 0.7295055985            wauconda\n",
       "1174      1 0.1934282482                well\n",
       "1174      2 0.1450711936                well\n",
       "1174      3 0.3505887091                well\n",
       "1174      4 0.1208926588                well\n",
       "1174      5 0.1329819262                well\n",
       "1174      6 0.0483570620                well\n",
       "2443      1 0.1839274913                 wet\n",
       "2443      2 0.1839274913                 wet\n",
       "2443      3 0.3678549826                 wet\n",
       "2443      6 0.3678549826                 wet\n",
       "7360      2 0.8975759149             wheeler\n",
       "4289      1 0.6199175715             witsell\n",
       "4289      2 0.2066391855             witsell\n",
       "4289      4 0.2066391855             witsell\n",
       "5402      3 0.1843490899              wormer\n",
       "5402      4 0.7373963594              wormer\n",
       "2673      1 0.6782115698            wormseed\n",
       "2673      3 0.3391057849            wormseed\n",
       "2572      1 0.1603362560               wyatt\n",
       "2572      2 0.3206725121               wyatt\n",
       "2572      4 0.4810087681               wyatt\n",
       "572       5 0.6238768697  yearspentobarbital\n",
       "4796      1 0.3140866160               yukol\n",
       "4796      3 0.3140866160               yukol\n",
       "4796      4 0.1570433080               yukol\n",
       "4796      6 0.3140866160               yukol\n",
       "\n",
       "[1275 rows x 3 columns], R=30, lambda_step=0.01, plot_opts={'xlab': 'PC1', 'ylab': 'PC2'}, topic_order=[5, 6, 2, 1, 4, 3])"
      ]
     },
     "execution_count": 43,
     "metadata": {},
     "output_type": "execute_result"
    }
   ],
   "source": [
    "pyLDAvis.enable_notebook()\n",
    "pyLDAvis.gensim.prepare(my_lda, corpus, dictionary)"
   ]
  },
  {
   "cell_type": "markdown",
   "metadata": {},
   "source": [
    "We can see that topics 1, 2 and 3 and are similar in nature. The area of their circles are similar in size meaning they contain a similar number of salient terms. Their topic relavance are imprecise in that they are not prximate to each other or close to the center. Topics 1 and 4 however cluster close to the center and intersect each other, with 4 actually completely overlaying 1 meaning they are almost the same topic but with slightly different word saliency.  \n",
    "\n",
    "What happened to amphetamines and prophylatics from our domain knowledge and the LSA modeling? Here's where pyLDAvis can help. If we lower the relevance metric to 0.4, topic 4 surfaces ```prophylactic``` as a top-30 term, but is still has a low occurence percentage. Similarly, topic 2 surfaces ```dexedrine```, which is an amphetamine, as top-30 term, but again as a low-percentage occurence. And we lost the actual word ```amphetamine```.\n"
   ]
  },
  {
   "cell_type": "markdown",
   "metadata": {},
   "source": [
    "<a name=\"conclusion\"></a>\n",
    "## Part 5: Conclusions"
   ]
  },
  {
   "cell_type": "markdown",
   "metadata": {},
   "source": [
    "LSA and LDA topic modeling algorythms confirmed what I as a domain expert already knew about the ddnj data set in that it is written in highly-stylized langauge.  \n",
    "\n",
    "Those words and topics surfaced especially strongly using LDA, which we could probably have predicted as a null hypothesis since LDA uses a more statistically robust term scoring methodology. We learned that the texts produce lots of topics centered around drug tablets and capsules.  \n",
    "\n",
    "LSA confirmed that **amphetamines, barbituates, and prophylatics** are highly-occuring word count averages which we know are also frequently occuring Case Keyword metadata terms. **LSA performed better than LDA in this regard.**  \n",
    "\n",
    "One could extrapolate from the LSA and LDA models that there are lots of texts (court cases) involving the **interstate trade of misbranded or adulterated uppers and downers in capsule and table form between 1940 and 1963.**  \n",
    "\n",
    "**Vitamins** as a topic was surfaced as new knowledge.  \n",
    "\n",
    "I anticipate re-using this notebook for **future work** to explore other FDANJ subsets where the writing is less stylized and perhaps narrowing the feature space to produce more refined results and explore other topics such as geographic locations."
   ]
  },
  {
   "cell_type": "code",
   "execution_count": null,
   "metadata": {},
   "outputs": [],
   "source": []
  }
 ],
 "metadata": {
  "kernelspec": {
   "display_name": "Python 3",
   "language": "python",
   "name": "python3"
  },
  "language_info": {
   "codemirror_mode": {
    "name": "ipython",
    "version": 3
   },
   "file_extension": ".py",
   "mimetype": "text/x-python",
   "name": "python",
   "nbconvert_exporter": "python",
   "pygments_lexer": "ipython3",
   "version": "3.7.3"
  }
 },
 "nbformat": 4,
 "nbformat_minor": 2
}
